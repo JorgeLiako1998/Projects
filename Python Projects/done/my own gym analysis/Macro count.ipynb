{
 "cells": [
  {
   "cell_type": "code",
   "execution_count": 21,
   "metadata": {},
   "outputs": [
    {
     "name": "stdout",
     "output_type": "stream",
     "text": [
      "What's your goal?\n",
      "1: maintenance\n",
      "2: lose weight\n",
      "3: gain weight\n",
      " \n",
      "What's your body type?\n",
      "1: endomorph\n",
      "2: ectomorph\n",
      "3: mesomorph\n",
      "4: None\n",
      " \n",
      "What's your activity level?\n",
      "1: sedentary\n",
      "2: moderate\n",
      "3: active\n",
      "4: None\n"
     ]
    }
   ],
   "source": [
    "print(\"What's your goal?\")\n",
    "print(\"1: maintenance\")\n",
    "print(\"2: lose weight\")\n",
    "print(\"3: gain weight\")\n",
    "print(\" \")\n",
    "print(\"What's your body type?\")\n",
    "print(\"1: endomorph\")\n",
    "print(\"2: ectomorph\")\n",
    "print(\"3: mesomorph\")\n",
    "print(\"4: None\")\n",
    "print(\" \")\n",
    "print(\"What's your activity level?\")\n",
    "print(\"1: sedentary\")\n",
    "print(\"2: moderate\")\n",
    "print(\"3: active\")\n",
    "print(\"4: None\")\n",
    "\n",
    "inpnofmeals = int(input(\"Amount of meals in a day: \"))\n",
    "inpgoal = int(input(\"Enter diet goal: \"))\n",
    "inpweight = int(input(\"Enter current weight: \"))\n",
    "inpbdtype = int(input(\"Enter body type: \"))\n",
    "inpactlevel = int(input(\"Enter activity level: \"))\n",
    "\n",
    "if inpgoal == 1:\n",
    "    inpgoal = str('maintenance')\n",
    "elif inpgoal == 2:\n",
    "    inpgoal = str('weight_loss')\n",
    "elif inpgoal == 3:\n",
    "    inpgoal = str('weight_gain')\n",
    "else:\n",
    "    inpgoal == None\n",
    "\n",
    "if inpbdtype == 1:\n",
    "    inpbdtype = str('endomorph')\n",
    "elif inpbdtype == 2:\n",
    "    inpbdtype = str('ectomorph')\n",
    "elif inpbdtype == 3:\n",
    "    inpbdtype = str('mesomorph')\n",
    "else:\n",
    "   inpbdtype == None\n",
    "\n",
    "if inpactlevel == 1:\n",
    "    inpactlevel = str('sedentary')\n",
    "elif inpactlevel == 2:\n",
    "    inpactlevel = str('moderate')\n",
    "elif inpactlevel == 3:\n",
    "    inpactlevel = str('very')\n",
    "else:\n",
    "   inpactlevel == None\n"
   ]
  },
  {
   "cell_type": "code",
   "execution_count": 22,
   "metadata": {},
   "outputs": [
    {
     "name": "stdout",
     "output_type": "stream",
     "text": [
      "Weight 169 lbs\n",
      "MAX CALS: 3380\n",
      "MIN CALS: 3042\n",
      "MAX FAT:  94.0\n",
      "MIN FAT:  84.0\n",
      "MAX PROTEIN:  211.0\n",
      "MIN PROTEIN:  190.0\n",
      "MIN CARBS:  380.0\n",
      "MAX CARBS:  422.0\n",
      "DAILY REQS:  {'min_calories': 3042, 'max_calories': 3380, 'min_fat': 84.0, 'max_fat': 94.0, 'min_protein': 190.0, 'max_protein': 211.0, 'min_carbs': 380.0, 'max_carbs': 422.0}\n",
      "{'min_calories': 1521.0, 'max_calories': 1690.0, 'min_fat': 42.0, 'max_fat': 47.0, 'min_protein': 95.0, 'max_protein': 106.0, 'min_carbs': 190.0, 'max_carbs': 211.0}\n"
     ]
    }
   ],
   "source": [
    "# Import fitness meal maker module\n",
    "from fitness_tools.meals.meal_maker import MakeMeal\n",
    "  \n",
    "# Create object, weight and target\n",
    "obj = MakeMeal(inpweight, goal=inpgoal, \n",
    "                    activity_level=inpactlevel,\n",
    "                    body_type=None, \n",
    "                    fat_percent=0.25, \n",
    "                    protein_percent=0.25, \n",
    "                    carb_percent=0.5)\n",
    "\n",
    "print(\"Weight\", inpweight, \"lbs\" ) \n",
    "\n",
    "\n",
    "# Print meal macros\n",
    "print(\"MAX CALS:\", obj.daily_max_calories())\n",
    "print(\"MIN CALS:\", obj.daily_min_calories())\n",
    "print(\"MAX FAT: \", obj.daily_max_fat())\n",
    "print(\"MIN FAT: \", obj.daily_min_fat())\n",
    "print(\"MAX PROTEIN: \", obj.daily_max_protein())\n",
    "print(\"MIN PROTEIN: \", obj.daily_min_protein())\n",
    "print(\"MIN CARBS: \", obj.daily_min_carbs())\n",
    "print(\"MAX CARBS: \", obj.daily_max_carbs())\n",
    "print(\"DAILY REQS: \", obj.daily_requirements())\n",
    "\n",
    "# Return calories and macronutrients\n",
    "# for one meal.\n",
    "print(obj.make_meal(inpnofmeals))"
   ]
  },
  {
   "cell_type": "code",
   "execution_count": 15,
   "metadata": {},
   "outputs": [
    {
     "name": "stdout",
     "output_type": "stream",
     "text": [
      "RDLS:  135.0\n",
      "SINGLE LEG RDLS:  35.0\n",
      "CABLE HAM:  70.0\n",
      "CRUNCHES:  45.0\n",
      "CABLE PLANK:  80.0\n",
      "BENCH PRESS:  135.0\n",
      "BICEP CURLS :  15.0\n",
      "BICEP HAMMER CURLS :  15.0\n"
     ]
    }
   ],
   "source": [
    "#Endurance between 10 - 15 repetitions\n",
    "#Hypertrophy (muscle growth) between 8 - 12 repetitions\n",
    "#Strength <= 6 repetitions\n",
    "#Power between 1 - 6 repetitions\n",
    "\n",
    "from fitness_tools.exercise.rm_estimator import RM_Estimator\n",
    "RDLS = RM_Estimator(115.0, 15, 10)\n",
    "single_leg_RDL = RM_Estimator(30.0,15, 10)\n",
    "cable_ham = RM_Estimator(60.0,15, 10)\n",
    "cable_side_crunches = RM_Estimator(40.0,15,10)\n",
    "cable_plank = RM_Estimator(60.0, 20, 10)\n",
    "bench_press = RM_Estimator(115.0, 15, 10)\n",
    "bicep_curls = RM_Estimator(15.0, 15, 10)\n",
    "bicep_hammer_curl = RM_Estimator(15.0, 15, 10)\n",
    "print(\"RDLS: \", RDLS.estimate_weight(base=5))\n",
    "print(\"SINGLE LEG RDLS: \", single_leg_RDL.estimate_weight(base=5))\n",
    "print(\"CABLE HAM: \", cable_ham.estimate_weight(base=5))\n",
    "print(\"CRUNCHES: \", cable_side_crunches.estimate_weight(base=5))\n",
    "print(\"CABLE PLANK: \", cable_plank.estimate_weight(base=10))\n",
    "print(\"BENCH PRESS: \", bench_press.estimate_weight(base=5))\n",
    "print(\"BICEP CURLS : \", bicep_curls.estimate_weight(base=5))\n",
    "print(\"BICEP HAMMER CURLS : \", bicep_curls.estimate_weight(base=5))"
   ]
  }
 ],
 "metadata": {
  "interpreter": {
   "hash": "8ec15be9309793bbbec512ec65776eb2ea018a91cbfaf1fcbf2ee64feed0bbda"
  },
  "kernelspec": {
   "display_name": "Python 3.9.7 ('base')",
   "language": "python",
   "name": "python3"
  },
  "language_info": {
   "codemirror_mode": {
    "name": "ipython",
    "version": 3
   },
   "file_extension": ".py",
   "mimetype": "text/x-python",
   "name": "python",
   "nbconvert_exporter": "python",
   "pygments_lexer": "ipython3",
   "version": "3.9.7"
  },
  "orig_nbformat": 4
 },
 "nbformat": 4,
 "nbformat_minor": 2
}
