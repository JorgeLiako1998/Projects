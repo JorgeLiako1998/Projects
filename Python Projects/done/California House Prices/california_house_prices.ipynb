{
 "cells": [
  {
   "cell_type": "code",
   "execution_count": 28,
   "id": "c17ef3e2",
   "metadata": {},
   "outputs": [
    {
     "name": "stdout",
     "output_type": "stream",
     "text": [
      "complete\n"
     ]
    }
   ],
   "source": [
    "import numpy as np\n",
    "import pandas as pd\n",
    "from pandas import Series, DataFrame\n",
    "import matplotlib.pyplot as plt\n",
    "import seaborn as sns\n",
    "import sklearn\n",
    "from sklearn.linear_model import LinearRegression\n",
    "sns.set_style('whitegrid')\n",
    "%matplotlib inline\n",
    "print(\"complete\")"
   ]
  },
  {
   "cell_type": "code",
   "execution_count": 29,
   "id": "b667d140",
   "metadata": {},
   "outputs": [],
   "source": [
    "from sklearn.datasets import fetch_california_housing"
   ]
  },
  {
   "cell_type": "code",
   "execution_count": 30,
   "id": "e46ccefa",
   "metadata": {},
   "outputs": [],
   "source": [
    "housing = fetch_california_housing()"
   ]
  },
  {
   "cell_type": "code",
   "execution_count": 31,
   "id": "eeab457e",
   "metadata": {},
   "outputs": [
    {
     "name": "stdout",
     "output_type": "stream",
     "text": [
      "Data shape: (20640, 8)\n",
      "Feature names: ['MedInc', 'HouseAge', 'AveRooms', 'AveBedrms', 'Population', 'AveOccup', 'Latitude', 'Longitude']\n",
      "Dataset description:\n",
      ".. _california_housing_dataset:\n",
      "\n",
      "California Housing dataset\n",
      "--------------------------\n",
      "\n",
      "**Data Set Characteristics:**\n",
      "\n",
      "    :Number of Instances: 20640\n",
      "\n",
      "    :Number of Attributes: 8 numeric, predictive attributes and the target\n",
      "\n",
      "    :Attribute Information:\n",
      "        - MedInc        median income in block group\n",
      "        - HouseAge      median house age in block group\n",
      "        - AveRooms      average number of rooms per household\n",
      "        - AveBedrms     average number of bedrooms per household\n",
      "        - Population    block group population\n",
      "        - AveOccup      average number of household members\n",
      "        - Latitude      block group latitude\n",
      "        - Longitude     block group longitude\n",
      "\n",
      "    :Missing Attribute Values: None\n",
      "\n",
      "This dataset was obtained from the StatLib repository.\n",
      "https://www.dcc.fc.up.pt/~ltorgo/Regression/cal_housing.html\n",
      "\n",
      "The target variable is the median house value for California districts,\n",
      "expressed in hundreds of thousands of dollars ($100,000).\n",
      "\n",
      "This dataset was derived from the 1990 U.S. census, using one row per census\n",
      "block group. A block group is the smallest geographical unit for which the U.S.\n",
      "Census Bureau publishes sample data (a block group typically has a population\n",
      "of 600 to 3,000 people).\n",
      "\n",
      "A household is a group of people residing within a home. Since the average\n",
      "number of rooms and bedrooms in this dataset are provided per household, these\n",
      "columns may take surprisingly large values for block groups with few households\n",
      "and many empty houses, such as vacation resorts.\n",
      "\n",
      "It can be downloaded/loaded using the\n",
      ":func:`sklearn.datasets.fetch_california_housing` function.\n",
      "\n",
      ".. topic:: References\n",
      "\n",
      "    - Pace, R. Kelley and Ronald Barry, Sparse Spatial Autoregressions,\n",
      "      Statistics and Probability Letters, 33 (1997) 291-297\n",
      "\n"
     ]
    }
   ],
   "source": [
    "# Access the data and target variables\n",
    "X = housing.data\n",
    "y = housing.target\n",
    "\n",
    "# Print the shape of the data\n",
    "print(\"Data shape:\", X.shape)\n",
    "\n",
    "# Print the names of the features\n",
    "print(\"Feature names:\", housing.feature_names)\n",
    "\n",
    "# Print the description of the dataset\n",
    "print(\"Dataset description:\")\n",
    "print(housing.DESCR)"
   ]
  },
  {
   "cell_type": "code",
   "execution_count": 32,
   "id": "3c1d2d5c",
   "metadata": {},
   "outputs": [
    {
     "data": {
      "text/plain": [
       "Text(0, 0.5, 'Number of houses')"
      ]
     },
     "execution_count": 32,
     "metadata": {},
     "output_type": "execute_result"
    },
    {
     "data": {
      "image/png": "[encoded data removed]",
      "text/plain": [
       "<Figure size 432x288 with 1 Axes>"
      ]
     },
     "metadata": {
      "needs_background": "light"
     },
     "output_type": "display_data"
    }
   ],
   "source": [
    "plt.hist(housing.target,bins=50)\n",
    "plt.xlabel('Prices in $1000s')\n",
    "plt.ylabel('Number of houses')"
   ]
  },
  {
   "cell_type": "code",
   "execution_count": 33,
   "id": "9a0ba7eb",
   "metadata": {},
   "outputs": [
    {
     "data": {
      "text/plain": [
       "Text(0.5, 0, 'Number of rooms')"
      ]
     },
     "execution_count": 33,
     "metadata": {},
     "output_type": "execute_result"
    },
    {
     "data": {
      "image/png": "[encoded data removed]",
      "text/plain": [
       "<Figure size 432x288 with 1 Axes>"
      ]
     },
     "metadata": {
      "needs_background": "light"
     },
     "output_type": "display_data"
    }
   ],
   "source": [
    "plt.scatter(housing.data[:,4],housing.target)\n",
    "plt.ylabel('Price in $1000s')\n",
    "plt.xlabel('Number of rooms')"
   ]
  },
  {
   "cell_type": "code",
   "execution_count": 34,
   "id": "bc474bf7",
   "metadata": {},
   "outputs": [],
   "source": [
    "from sklearn.model_selection import train_test_split, GridSearchCV\n",
    "X_train, X_test, y_train, y_test = train_test_split(X, y, test_size=0.3, random_state=42)"
   ]
  },
  {
   "cell_type": "code",
   "execution_count": 35,
   "id": "56b56619",
   "metadata": {},
   "outputs": [],
   "source": [
    "from sklearn.linear_model import LinearRegression\n",
    "from sklearn.tree import DecisionTreeRegressor\n",
    "from sklearn.ensemble import RandomForestRegressor\n",
    "from sklearn.metrics import mean_squared_error, r2_score"
   ]
  },
  {
   "cell_type": "code",
   "execution_count": 36,
   "id": "da60eb87",
   "metadata": {},
   "outputs": [],
   "source": [
    "# Linear Regression\n",
    "linear_reg = LinearRegression()\n",
    "linear_reg.fit(X_train, y_train)\n",
    "linear_reg_predictions = linear_reg.predict(X_test)\n",
    "linear_reg_mse = mean_squared_error(y_test, linear_reg_predictions)\n",
    "linear_reg_r2 = r2_score(y_test, linear_reg_predictions)"
   ]
  },
  {
   "cell_type": "code",
   "execution_count": 37,
   "id": "4208e4b3",
   "metadata": {},
   "outputs": [],
   "source": [
    "# Decision Tree Regression\n",
    "tree_reg = DecisionTreeRegressor()\n",
    "tree_params = {'max_depth': [None, 5, 10], 'min_samples_leaf': [1, 2, 5]}\n",
    "tree_reg_cv = GridSearchCV(tree_reg, tree_params, scoring='neg_mean_squared_error')\n",
    "tree_reg_cv.fit(X_train, y_train)\n",
    "tree_reg_best = tree_reg_cv.best_estimator_\n",
    "tree_reg_predictions = tree_reg_best.predict(X_test)\n",
    "tree_reg_mse = mean_squared_error(y_test, tree_reg_predictions)\n",
    "tree_reg_r2 = r2_score(y_test, tree_reg_predictions)"
   ]
  },
  {
   "cell_type": "code",
   "execution_count": 38,
   "id": "bf6434cd",
   "metadata": {},
   "outputs": [],
   "source": [
    "# Random Forest Regression\n",
    "rf_reg = RandomForestRegressor()\n",
    "rf_params = {'n_estimators': [100, 200, 300], 'max_depth': [None, 5, 10]}\n",
    "rf_reg_cv = GridSearchCV(rf_reg, rf_params, scoring='neg_mean_squared_error')\n",
    "rf_reg_cv.fit(X_train, y_train)\n",
    "rf_reg_best = rf_reg_cv.best_estimator_\n",
    "rf_reg_predictions = rf_reg_best.predict(X_test)\n",
    "rf_reg_mse = mean_squared_error(y_test, rf_reg_predictions)\n",
    "rf_reg_r2 = r2_score(y_test, rf_reg_predictions)"
   ]
  },
  {
   "cell_type": "code",
   "execution_count": 39,
   "id": "13bc5e6a",
   "metadata": {},
   "outputs": [
    {
     "name": "stdout",
     "output_type": "stream",
     "text": [
      "Linear Regression:\n",
      "  MSE: 0.5305677824766754\n",
      "  R^2: 0.5957702326061662\n",
      "Decision Tree Regression:\n",
      "  Best Parameters: {'max_depth': 10, 'min_samples_leaf': 5}\n",
      "  MSE: 0.3938792265353086\n",
      "  R^2: 0.6999107119161907\n",
      "Random Forest Regression:\n",
      "  Best Parameters: {'max_depth': None, 'n_estimators': 300}\n",
      "  MSE: 0.2518883215254899\n",
      "  R^2: 0.8080909527823654\n"
     ]
    }
   ],
   "source": [
    "# Print the performance metrics\n",
    "print(\"Linear Regression:\")\n",
    "print(\"  MSE:\", linear_reg_mse)\n",
    "print(\"  R^2:\", linear_reg_r2)\n",
    "print(\"Decision Tree Regression:\")\n",
    "print(\"  Best Parameters:\", tree_reg_cv.best_params_)\n",
    "print(\"  MSE:\", tree_reg_mse)\n",
    "print(\"  R^2:\", tree_reg_r2)\n",
    "print(\"Random Forest Regression:\")\n",
    "print(\"  Best Parameters:\", rf_reg_cv.best_params_)\n",
    "print(\"  MSE:\", rf_reg_mse)\n",
    "print(\"  R^2:\", rf_reg_r2)"
   ]
  },
  {
   "attachments": {},
   "cell_type": "markdown",
   "id": "c7af5a6d",
   "metadata": {},
   "source": [
    "Best model = Decision Tree"
   ]
  }
 ],
 "metadata": {
  "kernelspec": {
   "display_name": "Python 3.9.7 ('base')",
   "language": "python",
   "name": "python3"
  },
  "language_info": {
   "codemirror_mode": {
    "name": "ipython",
    "version": 3
   },
   "file_extension": ".py",
   "mimetype": "text/x-python",
   "name": "python",
   "nbconvert_exporter": "python",
   "pygments_lexer": "ipython3",
   "version": "3.9.7"
  },
  "vscode": {
   "interpreter": {
    "hash": "8ec15be9309793bbbec512ec65776eb2ea018a91cbfaf1fcbf2ee64feed0bbda"
   }
  }
 },
 "nbformat": 4,
 "nbformat_minor": 5
}
