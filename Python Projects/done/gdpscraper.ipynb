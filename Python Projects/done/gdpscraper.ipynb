{
 "cells": [
  {
   "cell_type": "code",
   "execution_count": 323,
   "metadata": {},
   "outputs": [],
   "source": [
    "import requests\n",
    "from bs4 import BeautifulSoup\n",
    "import pandas as pd\n",
    "import numpy as np"
   ]
  },
  {
   "cell_type": "code",
   "execution_count": 324,
   "metadata": {},
   "outputs": [],
   "source": [
    "url_link = 'https://en.wikipedia.org/wiki/List_of_countries_by_GDP_(nominal)_per_capita'\n",
    "result = requests.get(url_link)"
   ]
  },
  {
   "cell_type": "code",
   "execution_count": 325,
   "metadata": {},
   "outputs": [
    {
     "data": {
      "text/html": [
       "<div>\n",
       "<style scoped>\n",
       "    .dataframe tbody tr th:only-of-type {\n",
       "        vertical-align: middle;\n",
       "    }\n",
       "\n",
       "    .dataframe tbody tr th {\n",
       "        vertical-align: top;\n",
       "    }\n",
       "\n",
       "    .dataframe thead th {\n",
       "        text-align: right;\n",
       "    }\n",
       "</style>\n",
       "<table border=\"1\" class=\"dataframe\">\n",
       "  <thead>\n",
       "    <tr style=\"text-align: right;\">\n",
       "      <th></th>\n",
       "      <th>Country/Territory</th>\n",
       "      <th>UN Region</th>\n",
       "      <th>IMF (Estimate)</th>\n",
       "      <th>IMF (Year)</th>\n",
       "      <th>World Bank (Estimate)</th>\n",
       "      <th>World Bank (Year)</th>\n",
       "      <th>United Nations (Estimate)</th>\n",
       "      <th>United Nations (Year)</th>\n",
       "    </tr>\n",
       "  </thead>\n",
       "  <tbody>\n",
       "    <tr>\n",
       "      <th>0</th>\n",
       "      <td>Monaco *</td>\n",
       "      <td>Europe</td>\n",
       "      <td>—</td>\n",
       "      <td>—</td>\n",
       "      <td>234316</td>\n",
       "      <td>2021</td>\n",
       "      <td>234317</td>\n",
       "      <td>2021</td>\n",
       "    </tr>\n",
       "    <tr>\n",
       "      <th>1</th>\n",
       "      <td>Liechtenstein *</td>\n",
       "      <td>Europe</td>\n",
       "      <td>—</td>\n",
       "      <td>—</td>\n",
       "      <td>157755</td>\n",
       "      <td>2020</td>\n",
       "      <td>169260</td>\n",
       "      <td>2021</td>\n",
       "    </tr>\n",
       "    <tr>\n",
       "      <th>2</th>\n",
       "      <td>Luxembourg *</td>\n",
       "      <td>Europe</td>\n",
       "      <td>127673</td>\n",
       "      <td>2022</td>\n",
       "      <td>133590</td>\n",
       "      <td>2021</td>\n",
       "      <td>133745</td>\n",
       "      <td>2021</td>\n",
       "    </tr>\n",
       "    <tr>\n",
       "      <th>3</th>\n",
       "      <td>Bermuda *</td>\n",
       "      <td>Americas</td>\n",
       "      <td>—</td>\n",
       "      <td>—</td>\n",
       "      <td>114090</td>\n",
       "      <td>2021</td>\n",
       "      <td>112653</td>\n",
       "      <td>2021</td>\n",
       "    </tr>\n",
       "    <tr>\n",
       "      <th>4</th>\n",
       "      <td>Ireland *</td>\n",
       "      <td>Europe</td>\n",
       "      <td>102217</td>\n",
       "      <td>2022</td>\n",
       "      <td>100172</td>\n",
       "      <td>2021</td>\n",
       "      <td>101109</td>\n",
       "      <td>2021</td>\n",
       "    </tr>\n",
       "  </tbody>\n",
       "</table>\n",
       "</div>"
      ],
      "text/plain": [
       "  Country/Territory UN Region IMF (Estimate) IMF (Year) World Bank (Estimate)  \\\n",
       "0          Monaco *    Europe              —          —                234316   \n",
       "1   Liechtenstein *    Europe              —          —                157755   \n",
       "2      Luxembourg *    Europe         127673       2022                133590   \n",
       "3         Bermuda *  Americas              —          —                114090   \n",
       "4         Ireland *    Europe         102217       2022                100172   \n",
       "\n",
       "  World Bank (Year) United Nations (Estimate) United Nations (Year)  \n",
       "0              2021                    234317                  2021  \n",
       "1              2020                    169260                  2021  \n",
       "2              2021                    133745                  2021  \n",
       "3              2021                    112653                  2021  \n",
       "4              2021                    101109                  2021  "
      ]
     },
     "execution_count": 325,
     "metadata": {},
     "output_type": "execute_result"
    }
   ],
   "source": [
    "# Create a BeautifulSoup object with the HTML content of the page\n",
    "soup = BeautifulSoup(result.content, 'html.parser')\n",
    "\n",
    "# Find the table with class 'wikitable' on the page\n",
    "table = soup.find('table', {'class': 'wikitable'})\n",
    "\n",
    "# Convert the table to a Pandas DataFrame\n",
    "df = pd.read_html(str(table))[0]\n",
    "\n",
    "# Drop the first row since it contains the column headers twice\n",
    "df = df.drop(0)\n",
    "\n",
    "# Reset the index to start from 0\n",
    "df = df.reset_index(drop=True)\n",
    "\n",
    "# Rename the columns\n",
    "df.columns = ['Country/Territory', 'UN Region', 'IMF (Estimate)', 'IMF (Year)', 'World Bank (Estimate)', 'World Bank (Year)', 'United Nations (Estimate)', 'United Nations (Year)']\n",
    "\n",
    "# Print the first 5 rows of the DataFrame\n",
    "df.head()"
   ]
  },
  {
   "cell_type": "code",
   "execution_count": 326,
   "metadata": {},
   "outputs": [
    {
     "data": {
      "text/plain": [
       "Country/Territory            object\n",
       "UN Region                    object\n",
       "IMF (Estimate)               object\n",
       "IMF (Year)                   object\n",
       "World Bank (Estimate)        object\n",
       "World Bank (Year)            object\n",
       "United Nations (Estimate)    object\n",
       "United Nations (Year)        object\n",
       "dtype: object"
      ]
     },
     "execution_count": 326,
     "metadata": {},
     "output_type": "execute_result"
    }
   ],
   "source": [
    "df.dtypes"
   ]
  },
  {
   "cell_type": "code",
   "execution_count": 327,
   "metadata": {},
   "outputs": [
    {
     "name": "stderr",
     "output_type": "stream",
     "text": [
      "/var/folders/n2/nncp4h0d50v2ldjj1sv35ph00000gn/T/ipykernel_77502/1097056344.py:1: FutureWarning: The default value of regex will change from True to False in a future version. In addition, single character regular expressions will *not* be treated as literal strings when regex=True.\n",
      "  df['Country/Territory'] = df['Country/Territory'].str.replace('*', '')\n"
     ]
    }
   ],
   "source": [
    "df['Country/Territory'] = df['Country/Territory'].str.replace('*', '')"
   ]
  },
  {
   "cell_type": "code",
   "execution_count": 328,
   "metadata": {},
   "outputs": [],
   "source": [
    "df[['IMF (Estimate)', 'World Bank (Estimate)', 'United Nations (Estimate)']] = df[['IMF (Estimate)', 'World Bank (Estimate)', 'United Nations (Estimate)']].apply(pd.to_numeric, errors='coerce')"
   ]
  },
  {
   "cell_type": "code",
   "execution_count": 329,
   "metadata": {},
   "outputs": [],
   "source": [
    "df['GDPperCap'] = df[['IMF (Estimate)', 'World Bank (Estimate)', 'United Nations (Estimate)']].mean(axis=1).round(2)\n",
    "df['deviation'] = df[['IMF (Estimate)', 'World Bank (Estimate)', 'United Nations (Estimate)']].std(axis=1).round(2)"
   ]
  },
  {
   "cell_type": "code",
   "execution_count": 330,
   "metadata": {},
   "outputs": [],
   "source": [
    "df.rename(columns={'Country/Territory': 'Country'}, inplace=True)"
   ]
  },
  {
   "cell_type": "code",
   "execution_count": 331,
   "metadata": {},
   "outputs": [],
   "source": [
    "df1 = df[['Country', 'United Nations (Year)', 'GDPperCap']]"
   ]
  },
  {
   "cell_type": "code",
   "execution_count": 332,
   "metadata": {},
   "outputs": [
    {
     "data": {
      "text/html": [
       "<div>\n",
       "<style scoped>\n",
       "    .dataframe tbody tr th:only-of-type {\n",
       "        vertical-align: middle;\n",
       "    }\n",
       "\n",
       "    .dataframe tbody tr th {\n",
       "        vertical-align: top;\n",
       "    }\n",
       "\n",
       "    .dataframe thead th {\n",
       "        text-align: right;\n",
       "    }\n",
       "</style>\n",
       "<table border=\"1\" class=\"dataframe\">\n",
       "  <thead>\n",
       "    <tr style=\"text-align: right;\">\n",
       "      <th></th>\n",
       "      <th>Country</th>\n",
       "      <th>United Nations (Year)</th>\n",
       "      <th>GDPperCap</th>\n",
       "    </tr>\n",
       "  </thead>\n",
       "  <tbody>\n",
       "    <tr>\n",
       "      <th>0</th>\n",
       "      <td>Monaco</td>\n",
       "      <td>2021</td>\n",
       "      <td>234316.50</td>\n",
       "    </tr>\n",
       "    <tr>\n",
       "      <th>1</th>\n",
       "      <td>Liechtenstein</td>\n",
       "      <td>2021</td>\n",
       "      <td>163507.50</td>\n",
       "    </tr>\n",
       "    <tr>\n",
       "      <th>2</th>\n",
       "      <td>Luxembourg</td>\n",
       "      <td>2021</td>\n",
       "      <td>131669.33</td>\n",
       "    </tr>\n",
       "    <tr>\n",
       "      <th>3</th>\n",
       "      <td>Bermuda</td>\n",
       "      <td>2021</td>\n",
       "      <td>113371.50</td>\n",
       "    </tr>\n",
       "    <tr>\n",
       "      <th>4</th>\n",
       "      <td>Ireland</td>\n",
       "      <td>2021</td>\n",
       "      <td>101166.00</td>\n",
       "    </tr>\n",
       "  </tbody>\n",
       "</table>\n",
       "</div>"
      ],
      "text/plain": [
       "          Country United Nations (Year)  GDPperCap\n",
       "0         Monaco                   2021  234316.50\n",
       "1  Liechtenstein                   2021  163507.50\n",
       "2     Luxembourg                   2021  131669.33\n",
       "3        Bermuda                   2021  113371.50\n",
       "4        Ireland                   2021  101166.00"
      ]
     },
     "execution_count": 332,
     "metadata": {},
     "output_type": "execute_result"
    }
   ],
   "source": [
    "df1.head()"
   ]
  },
  {
   "cell_type": "code",
   "execution_count": 333,
   "metadata": {},
   "outputs": [
    {
     "data": {
      "image/png": "[encoded data removed]",
      "text/plain": [
       "<Figure size 432x288 with 1 Axes>"
      ]
     },
     "metadata": {
      "needs_background": "light"
     },
     "output_type": "display_data"
    }
   ],
   "source": [
    "import matplotlib.pyplot as plt\n",
    "# Compute the average across columns for each region and sum the results by region\n",
    "region_sum = df.groupby('UN Region')[['IMF (Estimate)', 'World Bank (Estimate)', 'United Nations (Estimate)']].mean().sum(axis=1)\n",
    "\n",
    "# Plot the results as a bar chart\n",
    "plt.bar(region_sum.index, region_sum.values)\n",
    "\n",
    "# Set the chart title and axis labels\n",
    "plt.title('Sum of Averages by UN Region')\n",
    "plt.xlabel('UN Region')\n",
    "plt.ylabel('Sum of Averages')\n",
    "\n",
    "# Display the chart\n",
    "plt.show()"
   ]
  },
  {
   "cell_type": "code",
   "execution_count": 334,
   "metadata": {},
   "outputs": [
    {
     "data": {
      "image/png": "[encoded data removed]",
      "text/plain": [
       "<Figure size 432x288 with 1 Axes>"
      ]
     },
     "metadata": {},
     "output_type": "display_data"
    }
   ],
   "source": [
    "#Group Data by UN Region\n",
    "grouped = df.groupby(['UN Region'])\n",
    "\n",
    "# Compute total average GDP per capita for each region\n",
    "avggdp = grouped['GDPperCap'].mean()\n",
    "\n",
    "# Create a pie chart\n",
    "plt.pie(avggdp, labels=avggdp.index, autopct='%1.1f%%')\n",
    "plt.title('Distribution of Average GDP per capita by UN Region')\n",
    "\n",
    "# Show the plot\n",
    "plt.show()"
   ]
  },
  {
   "cell_type": "code",
   "execution_count": 335,
   "metadata": {},
   "outputs": [],
   "source": [
    "url2 = 'https://en.wikipedia.org/wiki/List_of_countries_and_dependencies_by_population'\n",
    "result2 = requests.get(url2)"
   ]
  },
  {
   "cell_type": "code",
   "execution_count": 336,
   "metadata": {},
   "outputs": [
    {
     "data": {
      "text/html": [
       "<div>\n",
       "<style scoped>\n",
       "    .dataframe tbody tr th:only-of-type {\n",
       "        vertical-align: middle;\n",
       "    }\n",
       "\n",
       "    .dataframe tbody tr th {\n",
       "        vertical-align: top;\n",
       "    }\n",
       "\n",
       "    .dataframe thead th {\n",
       "        text-align: right;\n",
       "    }\n",
       "</style>\n",
       "<table border=\"1\" class=\"dataframe\">\n",
       "  <thead>\n",
       "    <tr style=\"text-align: right;\">\n",
       "      <th></th>\n",
       "      <th>Country / Dependency</th>\n",
       "      <th>Numbers</th>\n",
       "    </tr>\n",
       "  </thead>\n",
       "  <tbody>\n",
       "    <tr>\n",
       "      <th>0</th>\n",
       "      <td>World</td>\n",
       "      <td>8020937000</td>\n",
       "    </tr>\n",
       "    <tr>\n",
       "      <th>1</th>\n",
       "      <td>China</td>\n",
       "      <td>1411750000</td>\n",
       "    </tr>\n",
       "    <tr>\n",
       "      <th>2</th>\n",
       "      <td>India</td>\n",
       "      <td>1388163000</td>\n",
       "    </tr>\n",
       "    <tr>\n",
       "      <th>3</th>\n",
       "      <td>United States</td>\n",
       "      <td>334536000</td>\n",
       "    </tr>\n",
       "    <tr>\n",
       "      <th>4</th>\n",
       "      <td>Indonesia</td>\n",
       "      <td>275773800</td>\n",
       "    </tr>\n",
       "  </tbody>\n",
       "</table>\n",
       "</div>"
      ],
      "text/plain": [
       "  Country / Dependency     Numbers\n",
       "0                World  8020937000\n",
       "1                China  1411750000\n",
       "2                India  1388163000\n",
       "3        United States   334536000\n",
       "4            Indonesia   275773800"
      ]
     },
     "execution_count": 336,
     "metadata": {},
     "output_type": "execute_result"
    }
   ],
   "source": [
    "# Parse the HTML content using BeautifulSoup\n",
    "soup = BeautifulSoup(result2.content, 'html.parser')\n",
    "\n",
    "# Find the first table in the page\n",
    "table2 = soup.find('table', {'class': 'wikitable'})\n",
    "\n",
    "# Convert the table to a Pandas DataFrame\n",
    "df2 = pd.read_html(str(table2))[0]\n",
    "\n",
    "# Select the Indexes needed\n",
    "df2 = df2[['Country / Dependency', 'Population']]\n",
    "\n",
    "df2.columns = df2.columns.get_level_values(1)\n",
    "\n",
    "df2 = df2[['Country / Dependency', 'Numbers']]\n",
    "\n",
    "df2.head()"
   ]
  },
  {
   "cell_type": "code",
   "execution_count": 337,
   "metadata": {},
   "outputs": [
    {
     "data": {
      "text/plain": [
       "Country / Dependency    object\n",
       "Numbers                  int64\n",
       "dtype: object"
      ]
     },
     "execution_count": 337,
     "metadata": {},
     "output_type": "execute_result"
    }
   ],
   "source": [
    "df2.dtypes"
   ]
  },
  {
   "cell_type": "code",
   "execution_count": 338,
   "metadata": {},
   "outputs": [
    {
     "name": "stdout",
     "output_type": "stream",
     "text": [
      "Index(['Country', 'Population'], dtype='object')\n"
     ]
    }
   ],
   "source": [
    "df2.rename(columns={'Country / Dependency': 'Country', 'Numbers': 'Population'}, inplace=True)\n",
    "print(df2.columns)"
   ]
  },
  {
   "cell_type": "code",
   "execution_count": 339,
   "metadata": {},
   "outputs": [
    {
     "name": "stdout",
     "output_type": "stream",
     "text": [
      "(223, 3)\n",
      "(242, 2)\n"
     ]
    }
   ],
   "source": [
    "print(df1.shape)\n",
    "print(df2.shape)"
   ]
  }
 ],
 "metadata": {
  "kernelspec": {
   "display_name": "base",
   "language": "python",
   "name": "python3"
  },
  "language_info": {
   "codemirror_mode": {
    "name": "ipython",
    "version": 3
   },
   "file_extension": ".py",
   "mimetype": "text/x-python",
   "name": "python",
   "nbconvert_exporter": "python",
   "pygments_lexer": "ipython3",
   "version": "3.9.7"
  },
  "orig_nbformat": 4,
  "vscode": {
   "interpreter": {
    "hash": "8ec15be9309793bbbec512ec65776eb2ea018a91cbfaf1fcbf2ee64feed0bbda"
   }
  }
 },
 "nbformat": 4,
 "nbformat_minor": 2
}
