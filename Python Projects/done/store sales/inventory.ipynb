{
 "cells": [
  {
   "cell_type": "code",
   "execution_count": 763,
   "metadata": {},
   "outputs": [],
   "source": [
    "import pandas as pd\n",
    "import numpy as np\n",
    "import matplotlib.pyplot as plt\n",
    "from datetime import datetime\n",
    "import seaborn as sns"
   ]
  },
  {
   "cell_type": "code",
   "execution_count": 764,
   "metadata": {},
   "outputs": [],
   "source": [
    "df = pd.read_excel('DetailSales.xlsx')"
   ]
  },
  {
   "attachments": {},
   "cell_type": "markdown",
   "metadata": {},
   "source": [
    "# EDA"
   ]
  },
  {
   "cell_type": "code",
   "execution_count": 765,
   "metadata": {},
   "outputs": [
    {
     "data": {
      "text/plain": [
       "(25158, 12)"
      ]
     },
     "execution_count": 765,
     "metadata": {},
     "output_type": "execute_result"
    }
   ],
   "source": [
    "df.shape"
   ]
  },
  {
   "cell_type": "code",
   "execution_count": 766,
   "metadata": {},
   "outputs": [
    {
     "data": {
      "text/plain": [
       "Index(['id', 'Orden ID', 'Producto', 'Nombre', 'Cantidad', 'Precio', 'Total',\n",
       "       'Vendedor', 'Fecha', 'Usuario', 'Creado', 'Impuesto'],\n",
       "      dtype='object')"
      ]
     },
     "execution_count": 766,
     "metadata": {},
     "output_type": "execute_result"
    }
   ],
   "source": [
    "df.columns"
   ]
  },
  {
   "cell_type": "code",
   "execution_count": 767,
   "metadata": {},
   "outputs": [
    {
     "data": {
      "text/html": [
       "<div>\n",
       "<style scoped>\n",
       "    .dataframe tbody tr th:only-of-type {\n",
       "        vertical-align: middle;\n",
       "    }\n",
       "\n",
       "    .dataframe tbody tr th {\n",
       "        vertical-align: top;\n",
       "    }\n",
       "\n",
       "    .dataframe thead th {\n",
       "        text-align: right;\n",
       "    }\n",
       "</style>\n",
       "<table border=\"1\" class=\"dataframe\">\n",
       "  <thead>\n",
       "    <tr style=\"text-align: right;\">\n",
       "      <th></th>\n",
       "      <th>id</th>\n",
       "      <th>Orden ID</th>\n",
       "      <th>Producto</th>\n",
       "      <th>Nombre</th>\n",
       "      <th>Cantidad</th>\n",
       "      <th>Precio</th>\n",
       "      <th>Total</th>\n",
       "      <th>Vendedor</th>\n",
       "      <th>Fecha</th>\n",
       "      <th>Usuario</th>\n",
       "      <th>Creado</th>\n",
       "      <th>Impuesto</th>\n",
       "    </tr>\n",
       "  </thead>\n",
       "  <tbody>\n",
       "    <tr>\n",
       "      <th>0</th>\n",
       "      <td>3b1c962d</td>\n",
       "      <td>e72de456</td>\n",
       "      <td>50</td>\n",
       "      <td>COLOR RAIZ X50G</td>\n",
       "      <td>3</td>\n",
       "      <td>700</td>\n",
       "      <td>2100</td>\n",
       "      <td>9f04044e</td>\n",
       "      <td>2021-01-08 00:00:00</td>\n",
       "      <td>ADMIN</td>\n",
       "      <td>2021-12-06 06:41:00</td>\n",
       "      <td>1.19</td>\n",
       "    </tr>\n",
       "    <tr>\n",
       "      <th>1</th>\n",
       "      <td>037b90c1</td>\n",
       "      <td>52ad5614</td>\n",
       "      <td>50</td>\n",
       "      <td>COLOR RAIZ X50G</td>\n",
       "      <td>4</td>\n",
       "      <td>700</td>\n",
       "      <td>2800</td>\n",
       "      <td>9f04044e</td>\n",
       "      <td>2021-01-10 00:00:00</td>\n",
       "      <td>ADMIN</td>\n",
       "      <td>2021-12-06 08:11:00</td>\n",
       "      <td>1.19</td>\n",
       "    </tr>\n",
       "    <tr>\n",
       "      <th>2</th>\n",
       "      <td>7addf8af</td>\n",
       "      <td>d1c1e8db</td>\n",
       "      <td>50</td>\n",
       "      <td>COLOR RAIZ X50G</td>\n",
       "      <td>6</td>\n",
       "      <td>700</td>\n",
       "      <td>4200</td>\n",
       "      <td>9f04044e</td>\n",
       "      <td>2021-02-08 00:00:00</td>\n",
       "      <td>ADMIN</td>\n",
       "      <td>2021-12-06 08:56:00</td>\n",
       "      <td>1.19</td>\n",
       "    </tr>\n",
       "    <tr>\n",
       "      <th>3</th>\n",
       "      <td>7c6dc67f</td>\n",
       "      <td>c7b6cf8c</td>\n",
       "      <td>50</td>\n",
       "      <td>COLOR RAIZ X50G</td>\n",
       "      <td>12</td>\n",
       "      <td>700</td>\n",
       "      <td>8400</td>\n",
       "      <td>9f04044e</td>\n",
       "      <td>2021-02-08 00:00:00</td>\n",
       "      <td>ADMIN</td>\n",
       "      <td>2021-12-06 08:59:00</td>\n",
       "      <td>1.19</td>\n",
       "    </tr>\n",
       "    <tr>\n",
       "      <th>4</th>\n",
       "      <td>69b6d156</td>\n",
       "      <td>1a248fee</td>\n",
       "      <td>50</td>\n",
       "      <td>COLOR RAIZ X50G</td>\n",
       "      <td>6</td>\n",
       "      <td>700</td>\n",
       "      <td>4200</td>\n",
       "      <td>c5abb107</td>\n",
       "      <td>2021-02-10 00:00:00</td>\n",
       "      <td>ADMIN</td>\n",
       "      <td>2021-12-06 09:35:00</td>\n",
       "      <td>1.19</td>\n",
       "    </tr>\n",
       "  </tbody>\n",
       "</table>\n",
       "</div>"
      ],
      "text/plain": [
       "         id  Orden ID  Producto           Nombre  Cantidad  Precio  Total  \\\n",
       "0  3b1c962d  e72de456        50  COLOR RAIZ X50G         3     700   2100   \n",
       "1  037b90c1  52ad5614        50  COLOR RAIZ X50G         4     700   2800   \n",
       "2  7addf8af  d1c1e8db        50  COLOR RAIZ X50G         6     700   4200   \n",
       "3  7c6dc67f  c7b6cf8c        50  COLOR RAIZ X50G        12     700   8400   \n",
       "4  69b6d156  1a248fee        50  COLOR RAIZ X50G         6     700   4200   \n",
       "\n",
       "   Vendedor                Fecha Usuario               Creado  Impuesto  \n",
       "0  9f04044e  2021-01-08 00:00:00   ADMIN  2021-12-06 06:41:00      1.19  \n",
       "1  9f04044e  2021-01-10 00:00:00   ADMIN  2021-12-06 08:11:00      1.19  \n",
       "2  9f04044e  2021-02-08 00:00:00   ADMIN  2021-12-06 08:56:00      1.19  \n",
       "3  9f04044e  2021-02-08 00:00:00   ADMIN  2021-12-06 08:59:00      1.19  \n",
       "4  c5abb107  2021-02-10 00:00:00   ADMIN  2021-12-06 09:35:00      1.19  "
      ]
     },
     "execution_count": 767,
     "metadata": {},
     "output_type": "execute_result"
    }
   ],
   "source": [
    "df.head()"
   ]
  },
  {
   "cell_type": "code",
   "execution_count": 768,
   "metadata": {},
   "outputs": [
    {
     "data": {
      "text/plain": [
       "id           object\n",
       "Orden ID     object\n",
       "Producto      int64\n",
       "Nombre       object\n",
       "Cantidad      int64\n",
       "Precio        int64\n",
       "Total         int64\n",
       "Vendedor     object\n",
       "Fecha        object\n",
       "Usuario      object\n",
       "Creado       object\n",
       "Impuesto    float64\n",
       "dtype: object"
      ]
     },
     "execution_count": 768,
     "metadata": {},
     "output_type": "execute_result"
    }
   ],
   "source": [
    "df.dtypes"
   ]
  },
  {
   "cell_type": "code",
   "execution_count": 769,
   "metadata": {},
   "outputs": [
    {
     "data": {
      "text/plain": [
       "<AxesSubplot:>"
      ]
     },
     "execution_count": 769,
     "metadata": {},
     "output_type": "execute_result"
    },
    {
     "data": {
      "image/png": "[encoded data removed]",
      "text/plain": [
       "<Figure size 432x288 with 1 Axes>"
      ]
     },
     "metadata": {
      "needs_background": "light"
     },
     "output_type": "display_data"
    }
   ],
   "source": [
    "sns.heatmap(df.isnull(),yticklabels=False,cbar=False)"
   ]
  },
  {
   "cell_type": "code",
   "execution_count": 770,
   "metadata": {},
   "outputs": [
    {
     "name": "stdout",
     "output_type": "stream",
     "text": [
      "24780\n",
      "5996\n"
     ]
    }
   ],
   "source": [
    "print(df.duplicated(subset=['Fecha']).sum())\n",
    "print(df.duplicated(subset=['Creado']).sum())"
   ]
  },
  {
   "cell_type": "code",
   "execution_count": 771,
   "metadata": {},
   "outputs": [],
   "source": [
    "df = df.drop(['Creado', 'Usuario'], axis=1)"
   ]
  },
  {
   "cell_type": "code",
   "execution_count": 772,
   "metadata": {},
   "outputs": [
    {
     "name": "stdout",
     "output_type": "stream",
     "text": [
      "id          25158\n",
      "Orden ID     3113\n",
      "Producto      157\n",
      "Nombre        202\n",
      "Cantidad       38\n",
      "Precio         85\n",
      "Total         364\n",
      "Vendedor        4\n",
      "Fecha         378\n",
      "Impuesto        3\n",
      "dtype: int64\n"
     ]
    }
   ],
   "source": [
    "print(df.apply(lambda col: col.nunique()))"
   ]
  },
  {
   "cell_type": "code",
   "execution_count": 773,
   "metadata": {},
   "outputs": [
    {
     "data": {
      "text/html": [
       "<div>\n",
       "<style scoped>\n",
       "    .dataframe tbody tr th:only-of-type {\n",
       "        vertical-align: middle;\n",
       "    }\n",
       "\n",
       "    .dataframe tbody tr th {\n",
       "        vertical-align: top;\n",
       "    }\n",
       "\n",
       "    .dataframe thead th {\n",
       "        text-align: right;\n",
       "    }\n",
       "</style>\n",
       "<table border=\"1\" class=\"dataframe\">\n",
       "  <thead>\n",
       "    <tr style=\"text-align: right;\">\n",
       "      <th></th>\n",
       "      <th>Total</th>\n",
       "      <th>Percent of Total Sales</th>\n",
       "    </tr>\n",
       "    <tr>\n",
       "      <th>Nombre</th>\n",
       "      <th></th>\n",
       "      <th></th>\n",
       "    </tr>\n",
       "  </thead>\n",
       "  <tbody>\n",
       "    <tr>\n",
       "      <th>CANELA ASTILLA X20G</th>\n",
       "      <td>9309100</td>\n",
       "      <td>6.005262</td>\n",
       "    </tr>\n",
       "    <tr>\n",
       "      <th>EMPAQUE DE CHORIZO X4M</th>\n",
       "      <td>8009900</td>\n",
       "      <td>5.167154</td>\n",
       "    </tr>\n",
       "    <tr>\n",
       "      <th>CANELA ASTILLA X5G</th>\n",
       "      <td>7819300</td>\n",
       "      <td>5.044198</td>\n",
       "    </tr>\n",
       "    <tr>\n",
       "      <th>CANELA ASTILLA X10G</th>\n",
       "      <td>7402140</td>\n",
       "      <td>4.775090</td>\n",
       "    </tr>\n",
       "    <tr>\n",
       "      <th>AJO MOLIDO X 40 G</th>\n",
       "      <td>5114800</td>\n",
       "      <td>3.299537</td>\n",
       "    </tr>\n",
       "    <tr>\n",
       "      <th>...</th>\n",
       "      <td>...</td>\n",
       "      <td>...</td>\n",
       "    </tr>\n",
       "    <tr>\n",
       "      <th>FINAS HIERVAS X20G</th>\n",
       "      <td>4000</td>\n",
       "      <td>0.002580</td>\n",
       "    </tr>\n",
       "    <tr>\n",
       "      <th>SALSA CON ESPECIES VINAGRETA</th>\n",
       "      <td>3800</td>\n",
       "      <td>0.002451</td>\n",
       "    </tr>\n",
       "    <tr>\n",
       "      <th>MANI DULCE</th>\n",
       "      <td>3000</td>\n",
       "      <td>0.001935</td>\n",
       "    </tr>\n",
       "    <tr>\n",
       "      <th>CEBOLLA MOLIDA X20G</th>\n",
       "      <td>3000</td>\n",
       "      <td>0.001935</td>\n",
       "    </tr>\n",
       "    <tr>\n",
       "      <th>ROMERO X10G</th>\n",
       "      <td>2400</td>\n",
       "      <td>0.001548</td>\n",
       "    </tr>\n",
       "  </tbody>\n",
       "</table>\n",
       "<p>202 rows × 2 columns</p>\n",
       "</div>"
      ],
      "text/plain": [
       "                                Total  Percent of Total Sales\n",
       "Nombre                                                       \n",
       "CANELA ASTILLA X20G           9309100                6.005262\n",
       "EMPAQUE DE CHORIZO X4M        8009900                5.167154\n",
       "CANELA ASTILLA X5G            7819300                5.044198\n",
       "CANELA ASTILLA X10G           7402140                4.775090\n",
       "AJO MOLIDO X 40 G             5114800                3.299537\n",
       "...                               ...                     ...\n",
       "FINAS HIERVAS X20G               4000                0.002580\n",
       "SALSA CON ESPECIES VINAGRETA     3800                0.002451\n",
       "MANI DULCE                       3000                0.001935\n",
       "CEBOLLA MOLIDA X20G              3000                0.001935\n",
       "ROMERO X10G                      2400                0.001548\n",
       "\n",
       "[202 rows x 2 columns]"
      ]
     },
     "execution_count": 773,
     "metadata": {},
     "output_type": "execute_result"
    }
   ],
   "source": [
    "productsales = pd.DataFrame(df.groupby('Nombre')['Total'].sum())\n",
    "total_sales = productsales['Total'].sum()\n",
    "productsales['Percent of Total Sales'] = productsales['Total'] / total_sales * 100\n",
    "productsales.sort_values('Total', ascending=False)"
   ]
  },
  {
   "cell_type": "code",
   "execution_count": 774,
   "metadata": {},
   "outputs": [
    {
     "data": {
      "text/plain": [
       "([<matplotlib.patches.Wedge at 0x7fd9a1a684c0>,\n",
       "  <matplotlib.patches.Wedge at 0x7fd9a1a5c250>,\n",
       "  <matplotlib.patches.Wedge at 0x7fd9a13c4be0>,\n",
       "  <matplotlib.patches.Wedge at 0x7fd9a2d33af0>],\n",
       " [Text(1.0948957862952349, 0.10584525097017453, ''),\n",
       "  Text(1.0498440794119401, 0.32837084055027815, ''),\n",
       "  Text(0.4529968364658485, 1.0023940672968559, ''),\n",
       "  Text(-0.6491374894417673, -0.8880430844284751, '')])"
      ]
     },
     "execution_count": 774,
     "metadata": {},
     "output_type": "execute_result"
    },
    {
     "data": {
      "image/png": "[encoded data removed]",
      "text/plain": [
       "<Figure size 432x288 with 1 Axes>"
      ]
     },
     "metadata": {},
     "output_type": "display_data"
    }
   ],
   "source": [
    "vendorsales = df.groupby('Vendedor')['Total'].sum()\n",
    "plt.pie(vendorsales)"
   ]
  },
  {
   "attachments": {},
   "cell_type": "markdown",
   "metadata": {},
   "source": [
    "## Market Basket"
   ]
  },
  {
   "cell_type": "code",
   "execution_count": 775,
   "metadata": {},
   "outputs": [],
   "source": [
    "from mlxtend.preprocessing import TransactionEncoder\n",
    "from mlxtend.frequent_patterns import apriori"
   ]
  },
  {
   "cell_type": "code",
   "execution_count": 776,
   "metadata": {},
   "outputs": [],
   "source": [
    "# Assuming 'df' is the original transactional dataset with columns 'Transaction ID' and 'Item'\n",
    "# Group the items by transaction ID\n",
    "basket = df.groupby(['Orden ID'])['Nombre'].apply(list)\n",
    "\n",
    "# Convert the items to a one-hot encoded matrix\n",
    "te = TransactionEncoder()\n",
    "basket_te = te.fit_transform(basket)\n",
    "\n",
    "# Convert the one-hot encoded matrix to a DataFrame\n",
    "basket_df = pd.DataFrame(basket_te, columns=te.columns_)\n",
    "\n",
    "# Generate frequent itemsets using the Apriori algorithm\n",
    "frequent_itemsets = apriori(basket_df, min_support=0.05,use_colnames=True)\n",
    "frequent_itemsets['length'] = frequent_itemsets['itemsets'].apply(lambda x: len(x))\n",
    "\n",
    "combiprod = frequent_itemsets[frequent_itemsets['length'] >= 2]\n",
    "\n"
   ]
  },
  {
   "cell_type": "code",
   "execution_count": 777,
   "metadata": {},
   "outputs": [
    {
     "data": {
      "text/html": [
       "<div>\n",
       "<style scoped>\n",
       "    .dataframe tbody tr th:only-of-type {\n",
       "        vertical-align: middle;\n",
       "    }\n",
       "\n",
       "    .dataframe tbody tr th {\n",
       "        vertical-align: top;\n",
       "    }\n",
       "\n",
       "    .dataframe thead th {\n",
       "        text-align: right;\n",
       "    }\n",
       "</style>\n",
       "<table border=\"1\" class=\"dataframe\">\n",
       "  <thead>\n",
       "    <tr style=\"text-align: right;\">\n",
       "      <th></th>\n",
       "      <th>support</th>\n",
       "      <th>itemsets</th>\n",
       "      <th>length</th>\n",
       "    </tr>\n",
       "  </thead>\n",
       "  <tbody>\n",
       "    <tr>\n",
       "      <th>124</th>\n",
       "      <td>0.175072</td>\n",
       "      <td>(CLAVO ENTERO X5G, CANELA ASTILLA X5G)</td>\n",
       "      <td>2</td>\n",
       "    </tr>\n",
       "    <tr>\n",
       "      <th>138</th>\n",
       "      <td>0.165114</td>\n",
       "      <td>(UVAS PASAS X40G, CANELA ASTILLA X5G)</td>\n",
       "      <td>2</td>\n",
       "    </tr>\n",
       "    <tr>\n",
       "      <th>51</th>\n",
       "      <td>0.162865</td>\n",
       "      <td>(CANELA ASTILLA X5G, AJO MOLIDO X 40 G)</td>\n",
       "      <td>2</td>\n",
       "    </tr>\n",
       "    <tr>\n",
       "      <th>80</th>\n",
       "      <td>0.148089</td>\n",
       "      <td>(CANELA ASTILLA X5G, BICARBONATO X50G)</td>\n",
       "      <td>2</td>\n",
       "    </tr>\n",
       "    <tr>\n",
       "      <th>129</th>\n",
       "      <td>0.136524</td>\n",
       "      <td>(CURCUMA X20G, CANELA ASTILLA X5G)</td>\n",
       "      <td>2</td>\n",
       "    </tr>\n",
       "    <tr>\n",
       "      <th>...</th>\n",
       "      <td>...</td>\n",
       "      <td>...</td>\n",
       "      <td>...</td>\n",
       "    </tr>\n",
       "    <tr>\n",
       "      <th>218</th>\n",
       "      <td>0.050112</td>\n",
       "      <td>(MANZANILLA X10G, AJO MOLIDO X 40 G, CANELA AS...</td>\n",
       "      <td>3</td>\n",
       "    </tr>\n",
       "    <tr>\n",
       "      <th>262</th>\n",
       "      <td>0.050112</td>\n",
       "      <td>(CLAVO ENTERO X5G, CALENDULA X10G, PIMIENTA MO...</td>\n",
       "      <td>3</td>\n",
       "    </tr>\n",
       "    <tr>\n",
       "      <th>203</th>\n",
       "      <td>0.050112</td>\n",
       "      <td>(AJO MOLIDO X 40 G, PIMIENTA MOLIDA X10G, BICA...</td>\n",
       "      <td>3</td>\n",
       "    </tr>\n",
       "    <tr>\n",
       "      <th>248</th>\n",
       "      <td>0.050112</td>\n",
       "      <td>(CLAVO ENTERO X5G, COLOR SUPER X30G, BICARBONA...</td>\n",
       "      <td>3</td>\n",
       "    </tr>\n",
       "    <tr>\n",
       "      <th>245</th>\n",
       "      <td>0.050112</td>\n",
       "      <td>(MANZANILLA X10G, BICARBONATO X50G, CANELA AST...</td>\n",
       "      <td>3</td>\n",
       "    </tr>\n",
       "  </tbody>\n",
       "</table>\n",
       "<p>248 rows × 3 columns</p>\n",
       "</div>"
      ],
      "text/plain": [
       "      support                                           itemsets  length\n",
       "124  0.175072             (CLAVO ENTERO X5G, CANELA ASTILLA X5G)       2\n",
       "138  0.165114              (UVAS PASAS X40G, CANELA ASTILLA X5G)       2\n",
       "51   0.162865            (CANELA ASTILLA X5G, AJO MOLIDO X 40 G)       2\n",
       "80   0.148089             (CANELA ASTILLA X5G, BICARBONATO X50G)       2\n",
       "129  0.136524                 (CURCUMA X20G, CANELA ASTILLA X5G)       2\n",
       "..        ...                                                ...     ...\n",
       "218  0.050112  (MANZANILLA X10G, AJO MOLIDO X 40 G, CANELA AS...       3\n",
       "262  0.050112  (CLAVO ENTERO X5G, CALENDULA X10G, PIMIENTA MO...       3\n",
       "203  0.050112  (AJO MOLIDO X 40 G, PIMIENTA MOLIDA X10G, BICA...       3\n",
       "248  0.050112  (CLAVO ENTERO X5G, COLOR SUPER X30G, BICARBONA...       3\n",
       "245  0.050112  (MANZANILLA X10G, BICARBONATO X50G, CANELA AST...       3\n",
       "\n",
       "[248 rows x 3 columns]"
      ]
     },
     "execution_count": 777,
     "metadata": {},
     "output_type": "execute_result"
    }
   ],
   "source": [
    "combiprod.sort_values(by='support', ascending=False)"
   ]
  },
  {
   "attachments": {},
   "cell_type": "markdown",
   "metadata": {},
   "source": [
    "## Min and max orders per month\n"
   ]
  },
  {
   "cell_type": "code",
   "execution_count": 778,
   "metadata": {},
   "outputs": [],
   "source": [
    "df['date'] = pd.to_datetime(df['Fecha'])"
   ]
  },
  {
   "cell_type": "code",
   "execution_count": 779,
   "metadata": {},
   "outputs": [],
   "source": [
    "df['Fecha'] = pd.to_datetime(df['Fecha'])\n",
    "df['Year'] = df['Fecha'].dt.year\n",
    "df['Month'] = df['Fecha'].dt.month\n",
    "df['Day'] = df['Fecha'].dt.day"
   ]
  },
  {
   "cell_type": "code",
   "execution_count": 780,
   "metadata": {},
   "outputs": [
    {
     "name": "stdout",
     "output_type": "stream",
     "text": [
      "Unique years  [2021 2022 2023]\n",
      "Unique month  [ 1  2  3  4  5  6  7  8  9 10 11 12]\n",
      "Unique days  [ 1  2  3  4  5  6  7  8  9 10 11 12 13 14 15 16 17 18 19 20 21 22 23 24\n",
      " 25 26 27 28 29 30 31]\n"
     ]
    }
   ],
   "source": [
    "print(\"Unique years \", df['Year'].sort_values().unique())\n",
    "print(\"Unique month \", df['Month'].sort_values().unique())\n",
    "print(\"Unique days \", df['Day'].sort_values().unique())"
   ]
  },
  {
   "cell_type": "code",
   "execution_count": 781,
   "metadata": {},
   "outputs": [],
   "source": [
    "grouped_df = df.groupby(['Nombre', 'Year', 'Month']).agg({'Total': ['mean', 'min', 'max']}).reset_index()"
   ]
  },
  {
   "cell_type": "code",
   "execution_count": 782,
   "metadata": {},
   "outputs": [
    {
     "data": {
      "text/html": [
       "<div>\n",
       "<style scoped>\n",
       "    .dataframe tbody tr th:only-of-type {\n",
       "        vertical-align: middle;\n",
       "    }\n",
       "\n",
       "    .dataframe tbody tr th {\n",
       "        vertical-align: top;\n",
       "    }\n",
       "\n",
       "    .dataframe thead tr th {\n",
       "        text-align: left;\n",
       "    }\n",
       "</style>\n",
       "<table border=\"1\" class=\"dataframe\">\n",
       "  <thead>\n",
       "    <tr>\n",
       "      <th></th>\n",
       "      <th>Nombre</th>\n",
       "      <th>Year</th>\n",
       "      <th>Month</th>\n",
       "      <th colspan=\"3\" halign=\"left\">Total</th>\n",
       "    </tr>\n",
       "    <tr>\n",
       "      <th></th>\n",
       "      <th></th>\n",
       "      <th></th>\n",
       "      <th></th>\n",
       "      <th>mean</th>\n",
       "      <th>min</th>\n",
       "      <th>max</th>\n",
       "    </tr>\n",
       "  </thead>\n",
       "  <tbody>\n",
       "    <tr>\n",
       "      <th>0</th>\n",
       "      <td>ABLANDA CARNE X 40G</td>\n",
       "      <td>2021</td>\n",
       "      <td>4</td>\n",
       "      <td>4400.0</td>\n",
       "      <td>2400</td>\n",
       "      <td>8000</td>\n",
       "    </tr>\n",
       "    <tr>\n",
       "      <th>1</th>\n",
       "      <td>ABLANDA CARNE X 40G</td>\n",
       "      <td>2021</td>\n",
       "      <td>5</td>\n",
       "      <td>4800.0</td>\n",
       "      <td>4800</td>\n",
       "      <td>4800</td>\n",
       "    </tr>\n",
       "    <tr>\n",
       "      <th>2</th>\n",
       "      <td>ABLANDA CARNE X 40G</td>\n",
       "      <td>2021</td>\n",
       "      <td>7</td>\n",
       "      <td>4400.0</td>\n",
       "      <td>4000</td>\n",
       "      <td>4800</td>\n",
       "    </tr>\n",
       "    <tr>\n",
       "      <th>3</th>\n",
       "      <td>ABLANDA CARNE X 40G</td>\n",
       "      <td>2021</td>\n",
       "      <td>8</td>\n",
       "      <td>5600.0</td>\n",
       "      <td>1600</td>\n",
       "      <td>9600</td>\n",
       "    </tr>\n",
       "    <tr>\n",
       "      <th>4</th>\n",
       "      <td>ABLANDA CARNE X 40G</td>\n",
       "      <td>2021</td>\n",
       "      <td>9</td>\n",
       "      <td>5600.0</td>\n",
       "      <td>2400</td>\n",
       "      <td>9600</td>\n",
       "    </tr>\n",
       "    <tr>\n",
       "      <th>...</th>\n",
       "      <td>...</td>\n",
       "      <td>...</td>\n",
       "      <td>...</td>\n",
       "      <td>...</td>\n",
       "      <td>...</td>\n",
       "      <td>...</td>\n",
       "    </tr>\n",
       "    <tr>\n",
       "      <th>2546</th>\n",
       "      <td>ÁCIDO BÓRICO X20G</td>\n",
       "      <td>2022</td>\n",
       "      <td>11</td>\n",
       "      <td>3000.0</td>\n",
       "      <td>2400</td>\n",
       "      <td>3600</td>\n",
       "    </tr>\n",
       "    <tr>\n",
       "      <th>2547</th>\n",
       "      <td>ÁCIDO BÓRICO X20G</td>\n",
       "      <td>2022</td>\n",
       "      <td>12</td>\n",
       "      <td>3600.0</td>\n",
       "      <td>3600</td>\n",
       "      <td>3600</td>\n",
       "    </tr>\n",
       "    <tr>\n",
       "      <th>2548</th>\n",
       "      <td>ÁCIDO BÓRICO X20G</td>\n",
       "      <td>2023</td>\n",
       "      <td>1</td>\n",
       "      <td>3000.0</td>\n",
       "      <td>2400</td>\n",
       "      <td>3600</td>\n",
       "    </tr>\n",
       "    <tr>\n",
       "      <th>2549</th>\n",
       "      <td>ÁCIDO BÓRICO X20G</td>\n",
       "      <td>2023</td>\n",
       "      <td>2</td>\n",
       "      <td>2400.0</td>\n",
       "      <td>2400</td>\n",
       "      <td>2400</td>\n",
       "    </tr>\n",
       "    <tr>\n",
       "      <th>2550</th>\n",
       "      <td>ÁCIDO BÓRICO X20G</td>\n",
       "      <td>2023</td>\n",
       "      <td>3</td>\n",
       "      <td>3600.0</td>\n",
       "      <td>3600</td>\n",
       "      <td>3600</td>\n",
       "    </tr>\n",
       "  </tbody>\n",
       "</table>\n",
       "<p>2551 rows × 6 columns</p>\n",
       "</div>"
      ],
      "text/plain": [
       "                   Nombre  Year Month   Total            \n",
       "                                         mean   min   max\n",
       "0     ABLANDA CARNE X 40G  2021     4  4400.0  2400  8000\n",
       "1     ABLANDA CARNE X 40G  2021     5  4800.0  4800  4800\n",
       "2     ABLANDA CARNE X 40G  2021     7  4400.0  4000  4800\n",
       "3     ABLANDA CARNE X 40G  2021     8  5600.0  1600  9600\n",
       "4     ABLANDA CARNE X 40G  2021     9  5600.0  2400  9600\n",
       "...                   ...   ...   ...     ...   ...   ...\n",
       "2546    ÁCIDO BÓRICO X20G  2022    11  3000.0  2400  3600\n",
       "2547    ÁCIDO BÓRICO X20G  2022    12  3600.0  3600  3600\n",
       "2548    ÁCIDO BÓRICO X20G  2023     1  3000.0  2400  3600\n",
       "2549    ÁCIDO BÓRICO X20G  2023     2  2400.0  2400  2400\n",
       "2550    ÁCIDO BÓRICO X20G  2023     3  3600.0  3600  3600\n",
       "\n",
       "[2551 rows x 6 columns]"
      ]
     },
     "execution_count": 782,
     "metadata": {},
     "output_type": "execute_result"
    }
   ],
   "source": [
    "grouped_df.sort_values(['Nombre','Year', 'Month']).round(0)"
   ]
  },
  {
   "attachments": {},
   "cell_type": "markdown",
   "metadata": {},
   "source": [
    "## Total Sales per Month"
   ]
  },
  {
   "cell_type": "code",
   "execution_count": 783,
   "metadata": {},
   "outputs": [
    {
     "data": {
      "text/html": [
       "<div>\n",
       "<style scoped>\n",
       "    .dataframe tbody tr th:only-of-type {\n",
       "        vertical-align: middle;\n",
       "    }\n",
       "\n",
       "    .dataframe tbody tr th {\n",
       "        vertical-align: top;\n",
       "    }\n",
       "\n",
       "    .dataframe thead th {\n",
       "        text-align: right;\n",
       "    }\n",
       "</style>\n",
       "<table border=\"1\" class=\"dataframe\">\n",
       "  <thead>\n",
       "    <tr style=\"text-align: right;\">\n",
       "      <th></th>\n",
       "      <th>id</th>\n",
       "      <th>Orden ID</th>\n",
       "      <th>Producto</th>\n",
       "      <th>Nombre</th>\n",
       "      <th>Cantidad</th>\n",
       "      <th>Precio</th>\n",
       "      <th>Total</th>\n",
       "      <th>Vendedor</th>\n",
       "      <th>Fecha</th>\n",
       "      <th>Impuesto</th>\n",
       "      <th>date</th>\n",
       "      <th>Year</th>\n",
       "      <th>Month</th>\n",
       "      <th>Day</th>\n",
       "    </tr>\n",
       "  </thead>\n",
       "  <tbody>\n",
       "    <tr>\n",
       "      <th>0</th>\n",
       "      <td>3b1c962d</td>\n",
       "      <td>e72de456</td>\n",
       "      <td>50</td>\n",
       "      <td>COLOR RAIZ X50G</td>\n",
       "      <td>3</td>\n",
       "      <td>700</td>\n",
       "      <td>2100</td>\n",
       "      <td>9f04044e</td>\n",
       "      <td>2021-01-08</td>\n",
       "      <td>1.19</td>\n",
       "      <td>2021-01-08</td>\n",
       "      <td>2021</td>\n",
       "      <td>1</td>\n",
       "      <td>8</td>\n",
       "    </tr>\n",
       "    <tr>\n",
       "      <th>1</th>\n",
       "      <td>037b90c1</td>\n",
       "      <td>52ad5614</td>\n",
       "      <td>50</td>\n",
       "      <td>COLOR RAIZ X50G</td>\n",
       "      <td>4</td>\n",
       "      <td>700</td>\n",
       "      <td>2800</td>\n",
       "      <td>9f04044e</td>\n",
       "      <td>2021-01-10</td>\n",
       "      <td>1.19</td>\n",
       "      <td>2021-01-10</td>\n",
       "      <td>2021</td>\n",
       "      <td>1</td>\n",
       "      <td>10</td>\n",
       "    </tr>\n",
       "    <tr>\n",
       "      <th>2</th>\n",
       "      <td>7addf8af</td>\n",
       "      <td>d1c1e8db</td>\n",
       "      <td>50</td>\n",
       "      <td>COLOR RAIZ X50G</td>\n",
       "      <td>6</td>\n",
       "      <td>700</td>\n",
       "      <td>4200</td>\n",
       "      <td>9f04044e</td>\n",
       "      <td>2021-02-08</td>\n",
       "      <td>1.19</td>\n",
       "      <td>2021-02-08</td>\n",
       "      <td>2021</td>\n",
       "      <td>2</td>\n",
       "      <td>8</td>\n",
       "    </tr>\n",
       "    <tr>\n",
       "      <th>3</th>\n",
       "      <td>7c6dc67f</td>\n",
       "      <td>c7b6cf8c</td>\n",
       "      <td>50</td>\n",
       "      <td>COLOR RAIZ X50G</td>\n",
       "      <td>12</td>\n",
       "      <td>700</td>\n",
       "      <td>8400</td>\n",
       "      <td>9f04044e</td>\n",
       "      <td>2021-02-08</td>\n",
       "      <td>1.19</td>\n",
       "      <td>2021-02-08</td>\n",
       "      <td>2021</td>\n",
       "      <td>2</td>\n",
       "      <td>8</td>\n",
       "    </tr>\n",
       "    <tr>\n",
       "      <th>4</th>\n",
       "      <td>69b6d156</td>\n",
       "      <td>1a248fee</td>\n",
       "      <td>50</td>\n",
       "      <td>COLOR RAIZ X50G</td>\n",
       "      <td>6</td>\n",
       "      <td>700</td>\n",
       "      <td>4200</td>\n",
       "      <td>c5abb107</td>\n",
       "      <td>2021-02-10</td>\n",
       "      <td>1.19</td>\n",
       "      <td>2021-02-10</td>\n",
       "      <td>2021</td>\n",
       "      <td>2</td>\n",
       "      <td>10</td>\n",
       "    </tr>\n",
       "  </tbody>\n",
       "</table>\n",
       "</div>"
      ],
      "text/plain": [
       "         id  Orden ID  Producto           Nombre  Cantidad  Precio  Total  \\\n",
       "0  3b1c962d  e72de456        50  COLOR RAIZ X50G         3     700   2100   \n",
       "1  037b90c1  52ad5614        50  COLOR RAIZ X50G         4     700   2800   \n",
       "2  7addf8af  d1c1e8db        50  COLOR RAIZ X50G         6     700   4200   \n",
       "3  7c6dc67f  c7b6cf8c        50  COLOR RAIZ X50G        12     700   8400   \n",
       "4  69b6d156  1a248fee        50  COLOR RAIZ X50G         6     700   4200   \n",
       "\n",
       "   Vendedor      Fecha  Impuesto       date  Year  Month  Day  \n",
       "0  9f04044e 2021-01-08      1.19 2021-01-08  2021      1    8  \n",
       "1  9f04044e 2021-01-10      1.19 2021-01-10  2021      1   10  \n",
       "2  9f04044e 2021-02-08      1.19 2021-02-08  2021      2    8  \n",
       "3  9f04044e 2021-02-08      1.19 2021-02-08  2021      2    8  \n",
       "4  c5abb107 2021-02-10      1.19 2021-02-10  2021      2   10  "
      ]
     },
     "execution_count": 783,
     "metadata": {},
     "output_type": "execute_result"
    }
   ],
   "source": [
    "df.head()"
   ]
  },
  {
   "cell_type": "code",
   "execution_count": 784,
   "metadata": {},
   "outputs": [],
   "source": [
    "df['YEAR-MONTH'] = (df['Year'].astype(str) + '-' + df['Month'].astype(str))"
   ]
  },
  {
   "cell_type": "code",
   "execution_count": 785,
   "metadata": {},
   "outputs": [],
   "source": [
    "df['YEAR-MONTH'] = pd.to_datetime(df['YEAR-MONTH'])"
   ]
  },
  {
   "cell_type": "code",
   "execution_count": 786,
   "metadata": {},
   "outputs": [],
   "source": [
    "monthlysales = df.groupby(['YEAR-MONTH'])['Total'].sum().reset_index()"
   ]
  },
  {
   "cell_type": "code",
   "execution_count": 787,
   "metadata": {},
   "outputs": [
    {
     "data": {
      "image/png": "[encoded data removed]",
      "text/plain": [
       "<Figure size 1152x576 with 1 Axes>"
      ]
     },
     "metadata": {
      "needs_background": "light"
     },
     "output_type": "display_data"
    }
   ],
   "source": [
    "# Create the line chart\n",
    "plt.figure(figsize=(16,8))\n",
    "plt.plot(monthlysales['YEAR-MONTH'], monthlysales['Total'], 'go-')\n",
    "\n",
    "# Add axis labels and a title\n",
    "plt.xlabel('Date')\n",
    "plt.ylabel('Total')\n",
    "plt.title('Total Sales by Month and Year')\n",
    "\n",
    "# Show the chart\n",
    "plt.show()"
   ]
  },
  {
   "cell_type": "code",
   "execution_count": 788,
   "metadata": {},
   "outputs": [],
   "source": [
    "pricechange = df.groupby('Nombre').agg({'Precio': ['min', 'max']}).reset_index()"
   ]
  },
  {
   "cell_type": "code",
   "execution_count": 789,
   "metadata": {},
   "outputs": [],
   "source": [
    "pricechange['PriceChanged'] = pricechange.apply(lambda row: row[('Precio', 'min')] != row[('Precio', 'max')], axis=1)"
   ]
  },
  {
   "cell_type": "code",
   "execution_count": 790,
   "metadata": {},
   "outputs": [],
   "source": [
    "# drop the second level of the column index\n",
    "pricechange.columns = pricechange.columns.droplevel()\n",
    "\n",
    "# rename the columns to remove the empty string left by dropping the second level\n",
    "pricechange = pricechange.rename(columns={'': 'Nombre' ,'min': 'PrecioMin', 'max': 'PrecioMax'})\n",
    "\n",
    "# add a new column to indicate whether the price changed or not\n",
    "pricechange['PriceChanged'] = pricechange['PrecioMin'] != pricechange['PrecioMax']\n"
   ]
  },
  {
   "cell_type": "code",
   "execution_count": 794,
   "metadata": {},
   "outputs": [],
   "source": [
    "changed = pricechange[pricechange['PriceChanged']].Nombre\n",
    "didnotchange = pricechange[pricechange['PriceChanged'] == False]"
   ]
  },
  {
   "cell_type": "code",
   "execution_count": 802,
   "metadata": {},
   "outputs": [
    {
     "name": "stdout",
     "output_type": "stream",
     "text": [
      "Count of products that changed price:  Nombre    100\n",
      "Nombre      1\n",
      "dtype: int64\n",
      "Count of products that did not change price:  Nombre    102\n",
      "Nombre      1\n",
      "dtype: int64\n"
     ]
    }
   ],
   "source": [
    "print('Count of products that changed price: ', changed.nunique())\n",
    "print('Count of products that did not change price: ', didnotchange['Nombre'].nunique())"
   ]
  }
 ],
 "metadata": {
  "kernelspec": {
   "display_name": "base",
   "language": "python",
   "name": "python3"
  },
  "language_info": {
   "codemirror_mode": {
    "name": "ipython",
    "version": 3
   },
   "file_extension": ".py",
   "mimetype": "text/x-python",
   "name": "python",
   "nbconvert_exporter": "python",
   "pygments_lexer": "ipython3",
   "version": "3.9.7"
  },
  "orig_nbformat": 4
 },
 "nbformat": 4,
 "nbformat_minor": 2
}
