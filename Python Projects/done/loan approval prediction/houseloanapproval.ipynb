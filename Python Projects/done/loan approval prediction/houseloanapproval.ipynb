{
 "cells": [
  {
   "cell_type": "code",
   "execution_count": 3,
   "metadata": {},
   "outputs": [],
   "source": [
    "import pandas as pd\n",
    "import numpy as np\n",
    "import matplotlib.pyplot as plt\n",
    "import seaborn as sns"
   ]
  },
  {
   "cell_type": "code",
   "execution_count": 4,
   "metadata": {},
   "outputs": [],
   "source": [
    "traindf = pd.read_csv('loan_sanction_train.csv')"
   ]
  },
  {
   "cell_type": "code",
   "execution_count": 5,
   "metadata": {},
   "outputs": [
    {
     "data": {
      "text/plain": [
       "(614, 13)"
      ]
     },
     "execution_count": 5,
     "metadata": {},
     "output_type": "execute_result"
    }
   ],
   "source": [
    "traindf.shape"
   ]
  },
  {
   "cell_type": "code",
   "execution_count": 6,
   "metadata": {},
   "outputs": [
    {
     "data": {
      "text/html": [
       "<div>\n",
       "<style scoped>\n",
       "    .dataframe tbody tr th:only-of-type {\n",
       "        vertical-align: middle;\n",
       "    }\n",
       "\n",
       "    .dataframe tbody tr th {\n",
       "        vertical-align: top;\n",
       "    }\n",
       "\n",
       "    .dataframe thead th {\n",
       "        text-align: right;\n",
       "    }\n",
       "</style>\n",
       "<table border=\"1\" class=\"dataframe\">\n",
       "  <thead>\n",
       "    <tr style=\"text-align: right;\">\n",
       "      <th></th>\n",
       "      <th>Loan_ID</th>\n",
       "      <th>Gender</th>\n",
       "      <th>Married</th>\n",
       "      <th>Dependents</th>\n",
       "      <th>Education</th>\n",
       "      <th>Self_Employed</th>\n",
       "      <th>ApplicantIncome</th>\n",
       "      <th>CoapplicantIncome</th>\n",
       "      <th>LoanAmount</th>\n",
       "      <th>Loan_Amount_Term</th>\n",
       "      <th>Credit_History</th>\n",
       "      <th>Property_Area</th>\n",
       "      <th>Loan_Status</th>\n",
       "    </tr>\n",
       "  </thead>\n",
       "  <tbody>\n",
       "    <tr>\n",
       "      <th>73</th>\n",
       "      <td>LP001250</td>\n",
       "      <td>Male</td>\n",
       "      <td>Yes</td>\n",
       "      <td>3+</td>\n",
       "      <td>Not Graduate</td>\n",
       "      <td>No</td>\n",
       "      <td>4755</td>\n",
       "      <td>0.0</td>\n",
       "      <td>95.0</td>\n",
       "      <td>NaN</td>\n",
       "      <td>0.0</td>\n",
       "      <td>Semiurban</td>\n",
       "      <td>N</td>\n",
       "    </tr>\n",
       "    <tr>\n",
       "      <th>337</th>\n",
       "      <td>LP002112</td>\n",
       "      <td>Male</td>\n",
       "      <td>Yes</td>\n",
       "      <td>2</td>\n",
       "      <td>Graduate</td>\n",
       "      <td>Yes</td>\n",
       "      <td>2500</td>\n",
       "      <td>4600.0</td>\n",
       "      <td>176.0</td>\n",
       "      <td>360.0</td>\n",
       "      <td>1.0</td>\n",
       "      <td>Rural</td>\n",
       "      <td>Y</td>\n",
       "    </tr>\n",
       "    <tr>\n",
       "      <th>381</th>\n",
       "      <td>LP002229</td>\n",
       "      <td>Male</td>\n",
       "      <td>No</td>\n",
       "      <td>0</td>\n",
       "      <td>Graduate</td>\n",
       "      <td>No</td>\n",
       "      <td>5941</td>\n",
       "      <td>4232.0</td>\n",
       "      <td>296.0</td>\n",
       "      <td>360.0</td>\n",
       "      <td>1.0</td>\n",
       "      <td>Semiurban</td>\n",
       "      <td>Y</td>\n",
       "    </tr>\n",
       "    <tr>\n",
       "      <th>509</th>\n",
       "      <td>LP002634</td>\n",
       "      <td>Female</td>\n",
       "      <td>No</td>\n",
       "      <td>1</td>\n",
       "      <td>Graduate</td>\n",
       "      <td>No</td>\n",
       "      <td>13262</td>\n",
       "      <td>0.0</td>\n",
       "      <td>40.0</td>\n",
       "      <td>360.0</td>\n",
       "      <td>1.0</td>\n",
       "      <td>Urban</td>\n",
       "      <td>Y</td>\n",
       "    </tr>\n",
       "    <tr>\n",
       "      <th>486</th>\n",
       "      <td>LP002545</td>\n",
       "      <td>Male</td>\n",
       "      <td>No</td>\n",
       "      <td>2</td>\n",
       "      <td>Graduate</td>\n",
       "      <td>No</td>\n",
       "      <td>3547</td>\n",
       "      <td>0.0</td>\n",
       "      <td>80.0</td>\n",
       "      <td>360.0</td>\n",
       "      <td>0.0</td>\n",
       "      <td>Rural</td>\n",
       "      <td>N</td>\n",
       "    </tr>\n",
       "  </tbody>\n",
       "</table>\n",
       "</div>"
      ],
      "text/plain": [
       "      Loan_ID  Gender Married Dependents     Education Self_Employed  \\\n",
       "73   LP001250    Male     Yes         3+  Not Graduate            No   \n",
       "337  LP002112    Male     Yes          2      Graduate           Yes   \n",
       "381  LP002229    Male      No          0      Graduate            No   \n",
       "509  LP002634  Female      No          1      Graduate            No   \n",
       "486  LP002545    Male      No          2      Graduate            No   \n",
       "\n",
       "     ApplicantIncome  CoapplicantIncome  LoanAmount  Loan_Amount_Term  \\\n",
       "73              4755                0.0        95.0               NaN   \n",
       "337             2500             4600.0       176.0             360.0   \n",
       "381             5941             4232.0       296.0             360.0   \n",
       "509            13262                0.0        40.0             360.0   \n",
       "486             3547                0.0        80.0             360.0   \n",
       "\n",
       "     Credit_History Property_Area Loan_Status  \n",
       "73              0.0     Semiurban           N  \n",
       "337             1.0         Rural           Y  \n",
       "381             1.0     Semiurban           Y  \n",
       "509             1.0         Urban           Y  \n",
       "486             0.0         Rural           N  "
      ]
     },
     "execution_count": 6,
     "metadata": {},
     "output_type": "execute_result"
    }
   ],
   "source": [
    "traindf.sample(5)"
   ]
  },
  {
   "cell_type": "code",
   "execution_count": 7,
   "metadata": {},
   "outputs": [
    {
     "name": "stdout",
     "output_type": "stream",
     "text": [
      "Loan_ID               0\n",
      "Gender               13\n",
      "Married               3\n",
      "Dependents           15\n",
      "Education             0\n",
      "Self_Employed        32\n",
      "ApplicantIncome       0\n",
      "CoapplicantIncome     0\n",
      "LoanAmount           22\n",
      "Loan_Amount_Term     14\n",
      "Credit_History       50\n",
      "Property_Area         0\n",
      "Loan_Status           0\n",
      "dtype: int64\n"
     ]
    }
   ],
   "source": [
    "print(traindf.isnull().sum())"
   ]
  },
  {
   "cell_type": "code",
   "execution_count": 8,
   "metadata": {},
   "outputs": [],
   "source": [
    "traindf = traindf.dropna()"
   ]
  },
  {
   "cell_type": "code",
   "execution_count": 9,
   "metadata": {},
   "outputs": [
    {
     "data": {
      "text/plain": [
       "(480, 13)"
      ]
     },
     "execution_count": 9,
     "metadata": {},
     "output_type": "execute_result"
    }
   ],
   "source": [
    "traindf.shape"
   ]
  },
  {
   "cell_type": "code",
   "execution_count": 10,
   "metadata": {},
   "outputs": [
    {
     "data": {
      "text/plain": [
       "Index(['Loan_ID', 'Gender', 'Married', 'Dependents', 'Education',\n",
       "       'Self_Employed', 'ApplicantIncome', 'CoapplicantIncome', 'LoanAmount',\n",
       "       'Loan_Amount_Term', 'Credit_History', 'Property_Area', 'Loan_Status'],\n",
       "      dtype='object')"
      ]
     },
     "execution_count": 10,
     "metadata": {},
     "output_type": "execute_result"
    }
   ],
   "source": [
    "traindf.columns"
   ]
  },
  {
   "cell_type": "code",
   "execution_count": 11,
   "metadata": {},
   "outputs": [],
   "source": [
    "traindf = traindf.drop(columns=['Loan_ID'])"
   ]
  },
  {
   "cell_type": "code",
   "execution_count": 12,
   "metadata": {},
   "outputs": [
    {
     "name": "stdout",
     "output_type": "stream",
     "text": [
      "Column: Gender\n",
      "Unique Values: ['Male' 'Female']\n",
      "---------------------------\n",
      "Column: Married\n",
      "Unique Values: ['Yes' 'No']\n",
      "---------------------------\n",
      "Column: Dependents\n",
      "Unique Values: ['1' '0' '2' '3+']\n",
      "---------------------------\n",
      "Column: Education\n",
      "Unique Values: ['Graduate' 'Not Graduate']\n",
      "---------------------------\n",
      "Column: Self_Employed\n",
      "Unique Values: ['No' 'Yes']\n",
      "---------------------------\n",
      "Column: ApplicantIncome\n",
      "Unique Values: [ 4583  3000  2583  6000  5417  2333  3036  4006 12841  3200  3073  1853\n",
      "  1299  4950  3510  4887  7660  5955  2600  9560  2799  4226  1442  3167\n",
      "  4692  3500 12500  3667  4166  3748  3600  1800  3941  5649  5821  2645\n",
      "  4000  1928  3086  4230  4616 11500  2708  2132  3366  8080  3357  2500\n",
      "  3029  2609  5726 10750  7100  4300  3208  1875  5266  3750  1000  3846\n",
      "  1378  3988  2366  8566  5695  2958  6250  3273  4133  3620  2484  1977\n",
      "  4188  1759  4288  4843  3052 11417  3800  2071  5316 14583  5568 10408\n",
      "  2137  2957 10513  2014  2718  3459  4895  3316 14999  4200  5042  6950\n",
      "  2698 11757  2330 14866  1538 10000  4860  6277  2577  9166  2281  3254\n",
      " 39999  9538  1863  7933  3089  4167  9323  2439  2237  8000  3522  5708\n",
      "  4344  3497  2045  5516  6400  4600 33846  3625 39147  2178  9328  4885\n",
      " 12000  6033  3858  4191  3125  8333 11000  4923  3917  4408  3244  3975\n",
      "  2479  3418  3430  7787  5703  3173  3850   150  3727  2221  4009  2971\n",
      "  3250  2491  3155  5500  3812  3315  5819  2510  2965  3406  6050  9703\n",
      "  6608  2882  1809  1668  3427  2661 16250  3083  6045  5250 14683  2060\n",
      "  3481  7200  5166  4095  4708  4333  2876  3237 11146  2833  2620  3900\n",
      "  2750  3993  3103  4053  3927  2301  1811  3158  3704  4124  9508  3075\n",
      "  4400  3153  2383  6875  4666  5000  1625  3762  2400 20233  2917  2927\n",
      "  2507  3399  3717  4342 15000  8666  4917  5818  4384  2935  4160  2647\n",
      "  2378  4554  2499  2625  9083  8750  2666  2423  3875  5167  4723  4750\n",
      "  6822  6216  6325 19730 15759  5185  3062  4817  3069  5391  5941  7167\n",
      "  4566  2346  5488  9167  9504  1993  3100  3180  3033  3902  1500  2889\n",
      "  2755  1963  7441  4547  2167  2213  8300 81000  3867  6096  2253  2149\n",
      "  2995  1600  1025  3246  5829  1820 14880  4606  5935  2920  2717  8624\n",
      "  6500  2425  1926 10416  7142  3660  7901  4707 37719  3466  4652  3340\n",
      "  2309  3948  2483  7085  3859  4301  3708  4354  8334  7740  3015  2947\n",
      "  3450  2653  4691  5532 16525  6700 16667  4350  3095  2083 10833  1958\n",
      "  3547 18333  2435  3691 17263  3597  3326  2895  6283   645  3159  4865\n",
      "  3814 13262  3598  6065  3283  2130  5815  2031  4683  3400  2192  5677\n",
      "  7948 17500  3775  5285  2679  6783  4281  3588 18165  6133  3617  6417\n",
      "  4608  2138  2239  2768  3358  2526  2785  3333  2454  3593  5468 10139\n",
      "  3887  4180  3675 19484  5923  5800  8799  3166  3417 16666  6125  6406\n",
      "  3229  1782  6540  1836  2787  4283  2297  2165  2726 16120  3833  6383\n",
      "  9963  5780  3676  3987  3232  2900  4106  8072  7583]\n",
      "---------------------------\n",
      "Column: CoapplicantIncome\n",
      "Unique Values: [1.50800000e+03 0.00000000e+00 2.35800000e+03 4.19600000e+03\n",
      " 1.51600000e+03 2.50400000e+03 1.52600000e+03 1.09680000e+04\n",
      " 7.00000000e+02 8.10600000e+03 2.84000000e+03 1.08600000e+03\n",
      " 5.62500000e+03 1.91100000e+03 2.25300000e+03 1.04000000e+03\n",
      " 1.66700000e+03 3.00000000e+03 1.45900000e+03 7.21000000e+03\n",
      " 1.66800000e+03 1.21300000e+03 2.33600000e+03 3.44000000e+03\n",
      " 2.27500000e+03 1.64400000e+03 1.16700000e+03 1.59100000e+03\n",
      " 2.20000000e+03 2.25000000e+03 2.85900000e+03 3.79600000e+03\n",
      " 3.44900000e+03 4.59500000e+03 2.25400000e+03 3.06600000e+03\n",
      " 1.87500000e+03 1.77400000e+03 4.75000000e+03 3.02200000e+03\n",
      " 4.00000000e+03 1.88100000e+03 2.53100000e+03 2.11800000e+03\n",
      " 4.16700000e+03 2.90000000e+03 5.65400000e+03 1.82000000e+03\n",
      " 2.30200000e+03 9.97000000e+02 3.54100000e+03 3.26300000e+03\n",
      " 3.80600000e+03 1.03000000e+03 1.12600000e+03 3.60000000e+03\n",
      " 7.54000000e+02 2.28300000e+03 2.14200000e+03 8.98000000e+03\n",
      " 2.01400000e+03 3.85000000e+03 1.92900000e+03 7.75000000e+03\n",
      " 3.50000000e+03 1.43000000e+03 2.08300000e+03 2.03400000e+03\n",
      " 4.48600000e+03 1.42500000e+03 1.66600000e+03 8.30000000e+02\n",
      " 3.75000000e+03 1.04100000e+03 1.28000000e+03 1.44700000e+03\n",
      " 3.33300000e+03 7.36000000e+02 1.96400000e+03 1.61900000e+03\n",
      " 1.13000000e+04 1.45100000e+03 7.25000000e+03 2.58300000e+03\n",
      " 2.50000000e+03 1.08300000e+03 1.25000000e+03 3.02100000e+03\n",
      " 9.83000000e+02 1.80000000e+03 1.77500000e+03 1.71700000e+03\n",
      " 2.79100000e+03 1.69500000e+03 2.05400000e+03 1.77900000e+03\n",
      " 1.26000000e+03 5.00000000e+03 1.98300000e+03 5.70100000e+03\n",
      " 1.30000000e+03 4.41700000e+03 4.33300000e+03 1.84300000e+03\n",
      " 1.86800000e+03 3.89000000e+03 2.16700000e+03 7.10100000e+03\n",
      " 2.10000000e+03 2.20900000e+03 3.44700000e+03 1.38700000e+03\n",
      " 1.81100000e+03 1.56000000e+03 1.85700000e+03 2.22300000e+03\n",
      " 1.84200000e+03 3.27400000e+03 2.42600000e+03 8.00000000e+02\n",
      " 9.85799988e+02 3.05300000e+03 2.00000000e+03 2.41600000e+03\n",
      " 3.33400000e+03 2.54100000e+03 2.92500000e+03 2.93400000e+03\n",
      " 1.80300000e+03 1.86300000e+03 2.40500000e+03 1.64000000e+03\n",
      " 1.89000000e+02 4.98300000e+03 2.16000000e+03 2.45100000e+03\n",
      " 1.79300000e+03 4.60000000e+03 1.58700000e+03 1.22900000e+03\n",
      " 2.45800000e+03 2.16800000e+03 6.25000000e+03 5.05000000e+02\n",
      " 3.16700000e+03 3.66700000e+03 2.33300000e+03 5.26600000e+03\n",
      " 7.87300000e+03 1.98700000e+03 9.23000000e+02 4.99600000e+03\n",
      " 4.23200000e+03 1.60000000e+03 2.41700000e+03 1.62500000e+03\n",
      " 1.40000000e+03 2.00000000e+04 2.40000000e+03 2.03300000e+03\n",
      " 3.23700000e+03 2.77300000e+03 1.41700000e+03 1.71900000e+03\n",
      " 4.30000000e+03 1.61200008e+01 2.34000000e+03 1.85100000e+03\n",
      " 5.06400000e+03 1.83300000e+03 1.99300000e+03 1.21000000e+03\n",
      " 1.71000000e+03 1.25500000e+03 1.73300000e+03 2.46600000e+03\n",
      " 2.56900000e+03 2.18800000e+03 1.66400000e+03 2.07900000e+03\n",
      " 1.50000000e+03 4.64800000e+03 1.01400000e+03 1.75000000e+03\n",
      " 3.15000000e+03 2.43600000e+03 2.15700000e+03 9.13000000e+02\n",
      " 1.70000000e+03 4.41600000e+03 3.68300000e+03 5.62400000e+03\n",
      " 1.48300000e+03 3.01300000e+03 1.28700000e+03 2.00400000e+03\n",
      " 2.03500000e+03 6.66600000e+03 3.66600000e+03 3.42800000e+03\n",
      " 1.63200000e+03 1.91500000e+03 1.74200000e+03 1.42400000e+03\n",
      " 7.16600000e+03 1.30200000e+03 3.90600000e+03 5.36000000e+02\n",
      " 2.84500000e+03 2.52400000e+03 1.95000000e+03 1.78300000e+03\n",
      " 2.01600000e+03 3.25000000e+03 4.26600000e+03 1.03200000e+03\n",
      " 2.66900000e+03 2.30600000e+03 2.42000000e+02 2.06400000e+03\n",
      " 4.61000000e+02 2.73900000e+03 2.23200000e+03 3.38370000e+04\n",
      " 1.91700000e+03 1.52200000e+03 3.41600000e+03 3.30000000e+03\n",
      " 1.00000000e+03 4.30100000e+03 1.41100000e+03 2.40000000e+02]\n",
      "---------------------------\n",
      "Column: LoanAmount\n",
      "Unique Values: [128.  66. 120. 141. 267.  95. 158. 168. 349.  70. 200. 114.  17. 125.\n",
      "  76. 133. 104. 315. 116. 191. 122. 110.  35.  74. 106. 320. 144. 184.\n",
      "  80.  47. 134.  44. 100. 112. 286.  97.  96. 135. 180.  99. 165. 258.\n",
      " 126. 312. 136. 172.  81. 187. 113. 176. 111. 167.  50. 210. 175. 131.\n",
      " 188.  25. 137. 115. 151. 225. 216.  94. 185. 154. 259. 194. 160. 102.\n",
      " 290.  84.  88. 242. 129.  30. 118. 152. 244. 600. 255.  98. 275. 121.\n",
      "  75.  63.  87. 101. 495.  73. 260. 108.  48. 164. 170.  83.  90. 166.\n",
      " 124.  55.  59. 127. 214. 240. 130.  60. 280. 140. 155. 123. 201. 138.\n",
      " 279. 192. 304. 150. 207. 436.  78.  54.  89. 139.  93. 132. 480.  56.\n",
      " 300. 376.  67. 117.  71. 173.  46. 228. 308. 105. 236. 570. 380. 296.\n",
      " 156. 109. 103.  45.  65.  53. 360.  62. 218. 178. 239. 143. 148. 149.\n",
      " 153. 162. 230.  86. 234. 246. 500. 119. 107. 209. 208. 243.  40. 250.\n",
      " 311. 400. 161. 324. 157. 145. 181.  26. 182. 211.   9. 186. 205.  36.\n",
      " 146. 142. 496. 253.]\n",
      "---------------------------\n",
      "Column: Loan_Amount_Term\n",
      "Unique Values: [360. 120. 180.  60. 300. 480. 240.  36.  84.]\n",
      "---------------------------\n",
      "Column: Credit_History\n",
      "Unique Values: [1. 0.]\n",
      "---------------------------\n",
      "Column: Property_Area\n",
      "Unique Values: ['Rural' 'Urban' 'Semiurban']\n",
      "---------------------------\n",
      "Column: Loan_Status\n",
      "Unique Values: ['N' 'Y']\n",
      "---------------------------\n"
     ]
    }
   ],
   "source": [
    "for column in traindf.columns:\n",
    "    unique_values = traindf[column].unique()\n",
    "    \n",
    "    # Print the column name and its unique values\n",
    "    print(\"Column:\", column)\n",
    "    print(\"Unique Values:\", unique_values)\n",
    "    print(\"---------------------------\")"
   ]
  },
  {
   "cell_type": "code",
   "execution_count": 13,
   "metadata": {},
   "outputs": [],
   "source": [
    "traindf = traindf.dropna()"
   ]
  },
  {
   "cell_type": "code",
   "execution_count": 14,
   "metadata": {},
   "outputs": [
    {
     "data": {
      "text/plain": [
       "Gender               0\n",
       "Married              0\n",
       "Dependents           0\n",
       "Education            0\n",
       "Self_Employed        0\n",
       "ApplicantIncome      0\n",
       "CoapplicantIncome    0\n",
       "LoanAmount           0\n",
       "Loan_Amount_Term     0\n",
       "Credit_History       0\n",
       "Property_Area        0\n",
       "Loan_Status          0\n",
       "dtype: int64"
      ]
     },
     "execution_count": 14,
     "metadata": {},
     "output_type": "execute_result"
    }
   ],
   "source": [
    "traindf.isnull().sum()"
   ]
  },
  {
   "cell_type": "code",
   "execution_count": 15,
   "metadata": {},
   "outputs": [],
   "source": [
    "categoricalcols = ['Gender', 'Married', 'Dependents', 'Education', 'Self_Employed', 'Property_Area', 'Loan_Status']\n",
    "numericalcols = ['ApplicantIncome', 'CoapplicantIncome', 'LoanAmount', 'Loan_Amount_Term', 'Credit_History']"
   ]
  },
  {
   "cell_type": "code",
   "execution_count": 16,
   "metadata": {},
   "outputs": [
    {
     "data": {
      "text/html": [
       "<div>\n",
       "<style scoped>\n",
       "    .dataframe tbody tr th:only-of-type {\n",
       "        vertical-align: middle;\n",
       "    }\n",
       "\n",
       "    .dataframe tbody tr th {\n",
       "        vertical-align: top;\n",
       "    }\n",
       "\n",
       "    .dataframe thead th {\n",
       "        text-align: right;\n",
       "    }\n",
       "</style>\n",
       "<table border=\"1\" class=\"dataframe\">\n",
       "  <thead>\n",
       "    <tr style=\"text-align: right;\">\n",
       "      <th></th>\n",
       "      <th>ApplicantIncome</th>\n",
       "      <th>CoapplicantIncome</th>\n",
       "      <th>LoanAmount</th>\n",
       "      <th>Loan_Amount_Term</th>\n",
       "      <th>Credit_History</th>\n",
       "      <th>Gender_Male</th>\n",
       "      <th>Married_Yes</th>\n",
       "      <th>Dependents_1</th>\n",
       "      <th>Dependents_2</th>\n",
       "      <th>Dependents_3+</th>\n",
       "      <th>Education_Not Graduate</th>\n",
       "      <th>Self_Employed_Yes</th>\n",
       "      <th>Property_Area_Semiurban</th>\n",
       "      <th>Property_Area_Urban</th>\n",
       "      <th>Loan_Status_Y</th>\n",
       "    </tr>\n",
       "  </thead>\n",
       "  <tbody>\n",
       "    <tr>\n",
       "      <th>1</th>\n",
       "      <td>4583</td>\n",
       "      <td>1508.0</td>\n",
       "      <td>128.0</td>\n",
       "      <td>360.0</td>\n",
       "      <td>1.0</td>\n",
       "      <td>1</td>\n",
       "      <td>1</td>\n",
       "      <td>1</td>\n",
       "      <td>0</td>\n",
       "      <td>0</td>\n",
       "      <td>0</td>\n",
       "      <td>0</td>\n",
       "      <td>0</td>\n",
       "      <td>0</td>\n",
       "      <td>0</td>\n",
       "    </tr>\n",
       "    <tr>\n",
       "      <th>2</th>\n",
       "      <td>3000</td>\n",
       "      <td>0.0</td>\n",
       "      <td>66.0</td>\n",
       "      <td>360.0</td>\n",
       "      <td>1.0</td>\n",
       "      <td>1</td>\n",
       "      <td>1</td>\n",
       "      <td>0</td>\n",
       "      <td>0</td>\n",
       "      <td>0</td>\n",
       "      <td>0</td>\n",
       "      <td>1</td>\n",
       "      <td>0</td>\n",
       "      <td>1</td>\n",
       "      <td>1</td>\n",
       "    </tr>\n",
       "    <tr>\n",
       "      <th>3</th>\n",
       "      <td>2583</td>\n",
       "      <td>2358.0</td>\n",
       "      <td>120.0</td>\n",
       "      <td>360.0</td>\n",
       "      <td>1.0</td>\n",
       "      <td>1</td>\n",
       "      <td>1</td>\n",
       "      <td>0</td>\n",
       "      <td>0</td>\n",
       "      <td>0</td>\n",
       "      <td>1</td>\n",
       "      <td>0</td>\n",
       "      <td>0</td>\n",
       "      <td>1</td>\n",
       "      <td>1</td>\n",
       "    </tr>\n",
       "    <tr>\n",
       "      <th>4</th>\n",
       "      <td>6000</td>\n",
       "      <td>0.0</td>\n",
       "      <td>141.0</td>\n",
       "      <td>360.0</td>\n",
       "      <td>1.0</td>\n",
       "      <td>1</td>\n",
       "      <td>0</td>\n",
       "      <td>0</td>\n",
       "      <td>0</td>\n",
       "      <td>0</td>\n",
       "      <td>0</td>\n",
       "      <td>0</td>\n",
       "      <td>0</td>\n",
       "      <td>1</td>\n",
       "      <td>1</td>\n",
       "    </tr>\n",
       "    <tr>\n",
       "      <th>5</th>\n",
       "      <td>5417</td>\n",
       "      <td>4196.0</td>\n",
       "      <td>267.0</td>\n",
       "      <td>360.0</td>\n",
       "      <td>1.0</td>\n",
       "      <td>1</td>\n",
       "      <td>1</td>\n",
       "      <td>0</td>\n",
       "      <td>1</td>\n",
       "      <td>0</td>\n",
       "      <td>0</td>\n",
       "      <td>1</td>\n",
       "      <td>0</td>\n",
       "      <td>1</td>\n",
       "      <td>1</td>\n",
       "    </tr>\n",
       "  </tbody>\n",
       "</table>\n",
       "</div>"
      ],
      "text/plain": [
       "   ApplicantIncome  CoapplicantIncome  LoanAmount  Loan_Amount_Term  \\\n",
       "1             4583             1508.0       128.0             360.0   \n",
       "2             3000                0.0        66.0             360.0   \n",
       "3             2583             2358.0       120.0             360.0   \n",
       "4             6000                0.0       141.0             360.0   \n",
       "5             5417             4196.0       267.0             360.0   \n",
       "\n",
       "   Credit_History  Gender_Male  Married_Yes  Dependents_1  Dependents_2  \\\n",
       "1             1.0            1            1             1             0   \n",
       "2             1.0            1            1             0             0   \n",
       "3             1.0            1            1             0             0   \n",
       "4             1.0            1            0             0             0   \n",
       "5             1.0            1            1             0             1   \n",
       "\n",
       "   Dependents_3+  Education_Not Graduate  Self_Employed_Yes  \\\n",
       "1              0                       0                  0   \n",
       "2              0                       0                  1   \n",
       "3              0                       1                  0   \n",
       "4              0                       0                  0   \n",
       "5              0                       0                  1   \n",
       "\n",
       "   Property_Area_Semiurban  Property_Area_Urban  Loan_Status_Y  \n",
       "1                        0                    0              0  \n",
       "2                        0                    1              1  \n",
       "3                        0                    1              1  \n",
       "4                        0                    1              1  \n",
       "5                        0                    1              1  "
      ]
     },
     "execution_count": 16,
     "metadata": {},
     "output_type": "execute_result"
    }
   ],
   "source": [
    "traindf_encoded = pd.get_dummies(traindf,drop_first=True)\n",
    "traindf_encoded.head()"
   ]
  },
  {
   "cell_type": "code",
   "execution_count": 17,
   "metadata": {},
   "outputs": [
    {
     "data": {
      "text/plain": [
       "Index(['ApplicantIncome', 'CoapplicantIncome', 'LoanAmount',\n",
       "       'Loan_Amount_Term', 'Credit_History', 'Gender_Male', 'Married_Yes',\n",
       "       'Dependents_1', 'Dependents_2', 'Dependents_3+',\n",
       "       'Education_Not Graduate', 'Self_Employed_Yes',\n",
       "       'Property_Area_Semiurban', 'Property_Area_Urban', 'Loan_Status_Y'],\n",
       "      dtype='object')"
      ]
     },
     "execution_count": 17,
     "metadata": {},
     "output_type": "execute_result"
    }
   ],
   "source": [
    "traindf_encoded.columns"
   ]
  },
  {
   "cell_type": "code",
   "execution_count": 18,
   "metadata": {},
   "outputs": [],
   "source": [
    "X = traindf_encoded.drop(columns='Loan_Status_Y')\n",
    "y = traindf_encoded['Loan_Status_Y']\n",
    "\n",
    "################# Splitting into Train -Test Data #######\n",
    "from sklearn.model_selection import train_test_split\n",
    "X_train,X_test,y_train,y_test = train_test_split(X,y,test_size=0.2,stratify =y,random_state =42)"
   ]
  },
  {
   "cell_type": "code",
   "execution_count": 21,
   "metadata": {},
   "outputs": [],
   "source": [
    "def predict_with_classifiers(X_train, y_train, X_test, y_test):\n",
    "    # Import the necessary classifiers\n",
    "    from sklearn.linear_model import LogisticRegression\n",
    "    from sklearn.ensemble import RandomForestClassifier\n",
    "    from sklearn.svm import SVC\n",
    "    from sklearn.neighbors import KNeighborsClassifier\n",
    "    from sklearn.naive_bayes import GaussianNB\n",
    "    from sklearn.ensemble import GradientBoostingClassifier\n",
    "    from sklearn.neural_network import MLPClassifier\n",
    "    from sklearn.tree import DecisionTreeClassifier\n",
    "\n",
    "    # Import metrics\n",
    "    from sklearn.metrics import confusion_matrix\n",
    "    from sklearn.metrics import accuracy_score, f1_score\n",
    "\n",
    "    # Instantiate the classifiers\n",
    "    logistic_regression = LogisticRegression()\n",
    "    decision_tree = DecisionTreeClassifier()\n",
    "    random_forest = RandomForestClassifier()\n",
    "    svm = SVC()\n",
    "    knn = KNeighborsClassifier()\n",
    "    naive_bayes = GaussianNB()\n",
    "    gradient_boosting = GradientBoostingClassifier()\n",
    "    neural_network = MLPClassifier()\n",
    "\n",
    "    # Train the classifiers\n",
    "    logistic_regression.fit(X_train, y_train)\n",
    "    decision_tree.fit(X_train, y_train)\n",
    "    random_forest.fit(X_train, y_train)\n",
    "    svm.fit(X_train, y_train)\n",
    "    knn.fit(X_train, y_train)\n",
    "    naive_bayes.fit(X_train, y_train)\n",
    "    gradient_boosting.fit(X_train, y_train)\n",
    "    neural_network.fit(X_train, y_train)\n",
    "\n",
    "    # Make predictions with each classifier\n",
    "    lr_predictions = logistic_regression.predict(X_test)\n",
    "    dt_predictions = decision_tree.predict(X_test)\n",
    "    rf_predictions = random_forest.predict(X_test)\n",
    "    svm_predictions = svm.predict(X_test)\n",
    "    knn_predictions = knn.predict(X_test)\n",
    "    nb_predictions = naive_bayes.predict(X_test)\n",
    "    gb_predictions = gradient_boosting.predict(X_test)\n",
    "    nn_predictions = neural_network.predict(X_test)\n",
    "    tree_predictions = decision_tree.predict(X_test)\n",
    "\n",
    "    # Calculate confusion matrix for each classifier\n",
    "    classifiers = {\n",
    "        'Logistic Regression': lr_predictions,\n",
    "        'Decision Tree': dt_predictions,\n",
    "        'Random Forest': rf_predictions,\n",
    "        'SVM': svm_predictions,\n",
    "        'KNN': knn_predictions,\n",
    "        'Naive Bayes': nb_predictions,\n",
    "        'Gradient Boosting': gb_predictions,\n",
    "        'Neural Network': nn_predictions,\n",
    "        'Decision Tree': tree_predictions\n",
    "    }\n",
    "\n",
    "    metrics = {}\n",
    "    for classifier_name, predictions in classifiers.items():\n",
    "        cm = confusion_matrix(y_test, predictions)\n",
    "        cm_df = pd.DataFrame(cm, index=np.unique(y_test), columns=np.unique(y_train))\n",
    "\n",
    "        plt.figure(figsize=(8, 6))\n",
    "        sns.heatmap(cm_df, annot=True, cmap='Blues')\n",
    "        plt.title(f'Confusion Matrix - {classifier_name}')\n",
    "        plt.xlabel('Predicted')\n",
    "        plt.ylabel('True')\n",
    "        plt.show()\n",
    "\n",
    "        accuracy = accuracy_score(y_test, predictions)\n",
    "        f1 = f1_score(y_test, predictions, average='weighted')\n",
    "        metrics[classifier_name] = {\n",
    "            'Accuracy': accuracy,\n",
    "            'F1 Score': f1,\n",
    "        }\n",
    "\n",
    "    # Print the metrics in the desired format\n",
    "    for classifier_name, metric_values in metrics.items():\n",
    "        print(f\" {classifier_name}:\")\n",
    "        for metric_name, value in metric_values.items():\n",
    "            print(f\"  - {metric_name}: {value}\")\n",
    "    \n",
    "    return metrics"
   ]
  },
  {
   "cell_type": "code",
   "execution_count": 22,
   "metadata": {},
   "outputs": [
    {
     "data": {
      "image/png": "[encoded data removed]",
      "text/plain": [
       "<Figure size 576x432 with 2 Axes>"
      ]
     },
     "metadata": {
      "needs_background": "light"
     },
     "output_type": "display_data"
    },
    {
     "data": {
      "image/png": "[encoded data removed]",
      "text/plain": [
       "<Figure size 576x432 with 2 Axes>"
      ]
     },
     "metadata": {
      "needs_background": "light"
     },
     "output_type": "display_data"
    },
    {
     "data": {
      "image/png": "[encoded data removed]",
      "text/plain": [
       "<Figure size 576x432 with 2 Axes>"
      ]
     },
     "metadata": {
      "needs_background": "light"
     },
     "output_type": "display_data"
    },
    {
     "data": {
      "image/png": "[encoded data removed]",
      "text/plain": [
       "<Figure size 576x432 with 2 Axes>"
      ]
     },
     "metadata": {
      "needs_background": "light"
     },
     "output_type": "display_data"
    },
    {
     "data": {
      "image/png": "[encoded data removed]",
      "text/plain": [
       "<Figure size 576x432 with 2 Axes>"
      ]
     },
     "metadata": {
      "needs_background": "light"
     },
     "output_type": "display_data"
    },
    {
     "data": {
      "image/png": "[encoded data removed]",
      "text/plain": [
       "<Figure size 576x432 with 2 Axes>"
      ]
     },
     "metadata": {
      "needs_background": "light"
     },
     "output_type": "display_data"
    },
    {
     "data": {
      "image/png": "[encoded data removed]",
      "text/plain": [
       "<Figure size 576x432 with 2 Axes>"
      ]
     },
     "metadata": {
      "needs_background": "light"
     },
     "output_type": "display_data"
    },
    {
     "data": {
      "image/png": "[encoded data removed]",
      "text/plain": [
       "<Figure size 576x432 with 2 Axes>"
      ]
     },
     "metadata": {
      "needs_background": "light"
     },
     "output_type": "display_data"
    },
    {
     "name": "stdout",
     "output_type": "stream",
     "text": [
      " Logistic Regression:\n",
      "  - Accuracy: 0.78125\n",
      "  - F1 Score: 0.7608033749082906\n",
      " Decision Tree:\n",
      "  - Accuracy: 0.6979166666666666\n",
      "  - F1 Score: 0.7075864276568503\n",
      " Random Forest:\n",
      "  - Accuracy: 0.7916666666666666\n",
      "  - F1 Score: 0.7872899159663866\n",
      " SVM:\n",
      "  - Accuracy: 0.6875\n",
      "  - F1 Score: 0.5601851851851851\n",
      " KNN:\n",
      "  - Accuracy: 0.6145833333333334\n",
      "  - F1 Score: 0.5861459968602825\n",
      " Naive Bayes:\n",
      "  - Accuracy: 0.8020833333333334\n",
      "  - F1 Score: 0.7939968779693226\n",
      " Gradient Boosting:\n",
      "  - Accuracy: 0.8229166666666666\n",
      "  - F1 Score: 0.8220816872690199\n",
      " Neural Network:\n",
      "  - Accuracy: 0.53125\n",
      "  - F1 Score: 0.5290397604179942\n"
     ]
    },
    {
     "data": {
      "text/plain": [
       "{'Logistic Regression': {'Accuracy': 0.78125, 'F1 Score': 0.7608033749082906},\n",
       " 'Decision Tree': {'Accuracy': 0.6979166666666666,\n",
       "  'F1 Score': 0.7075864276568503},\n",
       " 'Random Forest': {'Accuracy': 0.7916666666666666,\n",
       "  'F1 Score': 0.7872899159663866},\n",
       " 'SVM': {'Accuracy': 0.6875, 'F1 Score': 0.5601851851851851},\n",
       " 'KNN': {'Accuracy': 0.6145833333333334, 'F1 Score': 0.5861459968602825},\n",
       " 'Naive Bayes': {'Accuracy': 0.8020833333333334,\n",
       "  'F1 Score': 0.7939968779693226},\n",
       " 'Gradient Boosting': {'Accuracy': 0.8229166666666666,\n",
       "  'F1 Score': 0.8220816872690199},\n",
       " 'Neural Network': {'Accuracy': 0.53125, 'F1 Score': 0.5290397604179942}}"
      ]
     },
     "execution_count": 22,
     "metadata": {},
     "output_type": "execute_result"
    }
   ],
   "source": [
    "predict_with_classifiers(X_train, y_train, X_test, y_test)"
   ]
  }
 ],
 "metadata": {
  "kernelspec": {
   "display_name": "base",
   "language": "python",
   "name": "python3"
  },
  "language_info": {
   "codemirror_mode": {
    "name": "ipython",
    "version": 3
   },
   "file_extension": ".py",
   "mimetype": "text/x-python",
   "name": "python",
   "nbconvert_exporter": "python",
   "pygments_lexer": "ipython3",
   "version": "3.9.7"
  },
  "orig_nbformat": 4
 },
 "nbformat": 4,
 "nbformat_minor": 2
}
