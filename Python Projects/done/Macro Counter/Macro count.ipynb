{
 "cells": [
  {
   "attachments": {},
   "cell_type": "markdown",
   "metadata": {},
   "source": [
    "# Macros Counter"
   ]
  },
  {
   "attachments": {},
   "cell_type": "markdown",
   "metadata": {},
   "source": [
    " What's your goal?\n",
    "- 1: maintenance\n",
    "- 2: lose weight\n",
    "- 3: gain weight\n",
    "\n",
    " What's your body type?\n",
    "- 1: endomorph\n",
    "- 2: ectomorph\n",
    "- 3: mesomorph\n",
    "- 4: None\n",
    "\n",
    " What's your activity level?\n",
    "- 1: sedentary\n",
    "- 2: moderate\n",
    "- 3: active\n",
    "- 4: None\""
   ]
  },
  {
   "cell_type": "code",
   "execution_count": 32,
   "metadata": {},
   "outputs": [],
   "source": [
    "inpnofmeals = int(input(\"Amount of meals in a day: \"))\n",
    "inpgoal = int(input(\"Enter diet goal: \"))\n",
    "inpweight = int(input(\"Enter current weight: \"))\n",
    "inpbdtype = int(input(\"Enter body type: \"))\n",
    "inpactlevel = int(input(\"Enter activity level: \"))\n",
    "\n",
    "if inpgoal == 1:\n",
    "    inpgoal = str('maintenance')\n",
    "elif inpgoal == 2:\n",
    "    inpgoal = str('weight_loss')\n",
    "elif inpgoal == 3:\n",
    "    inpgoal = str('weight_gain')\n",
    "else:\n",
    "    inpgoal == None\n",
    "\n",
    "if inpbdtype == 1:\n",
    "    inpbdtype = str('endomorph')\n",
    "elif inpbdtype == 2:\n",
    "    inpbdtype = str('ectomorph')\n",
    "elif inpbdtype == 3:\n",
    "    inpbdtype = str('mesomorph')\n",
    "else:\n",
    "   inpbdtype == None\n",
    "\n",
    "if inpactlevel == 1:\n",
    "    inpactlevel = str('sedentary')\n",
    "elif inpactlevel == 2:\n",
    "    inpactlevel = str('moderate')\n",
    "elif inpactlevel == 3:\n",
    "    inpactlevel = str('very')\n",
    "else:\n",
    "   inpactlevel == None\n"
   ]
  },
  {
   "cell_type": "code",
   "execution_count": 33,
   "metadata": {},
   "outputs": [
    {
     "name": "stdout",
     "output_type": "stream",
     "text": [
      "Weight 155 lbs\n",
      "MAX CALS: 1860\n",
      "MIN CALS: 1550\n",
      "MAX FAT:  52.0\n",
      "MIN FAT:  43.0\n",
      "MAX PROTEIN:  116.0\n",
      "MIN PROTEIN:  97.0\n",
      "MIN CARBS:  194.0\n",
      "MAX CARBS:  232.0\n",
      "DAILY REQS:  {'min_calories': 1550, 'max_calories': 1860, 'min_fat': 43.0, 'max_fat': 52.0, 'min_protein': 97.0, 'max_protein': 116.0, 'min_carbs': 194.0, 'max_carbs': 232.0}\n",
      "{'min_calories': 775.0, 'max_calories': 930.0, 'min_fat': 22.0, 'max_fat': 26.0, 'min_protein': 48.0, 'max_protein': 58.0, 'min_carbs': 97.0, 'max_carbs': 116.0}\n"
     ]
    }
   ],
   "source": [
    "# Import fitness meal maker module\n",
    "from fitness_tools.meals.meal_maker import MakeMeal\n",
    "  \n",
    "# Create object, weight and target\n",
    "obj = MakeMeal(inpweight, goal=inpgoal, \n",
    "                    activity_level=inpactlevel,\n",
    "                    body_type=None, \n",
    "                    fat_percent=0.25, \n",
    "                    protein_percent=0.25, \n",
    "                    carb_percent=0.5)\n",
    "\n",
    "print(\"Weight\", inpweight, \"lbs\" ) \n",
    "\n",
    "\n",
    "# Print meal macros\n",
    "print(\"MAX CALS:\", obj.daily_max_calories())\n",
    "print(\"MIN CALS:\", obj.daily_min_calories())\n",
    "print(\"MAX FAT: \", obj.daily_max_fat())\n",
    "print(\"MIN FAT: \", obj.daily_min_fat())\n",
    "print(\"MAX PROTEIN: \", obj.daily_max_protein())\n",
    "print(\"MIN PROTEIN: \", obj.daily_min_protein())\n",
    "print(\"MIN CARBS: \", obj.daily_min_carbs())\n",
    "print(\"MAX CARBS: \", obj.daily_max_carbs())\n",
    "print(\"DAILY REQS: \", obj.daily_requirements())\n",
    "\n",
    "# Return calories and macronutrients\n",
    "# for one meal.\n",
    "print(obj.make_meal(inpnofmeals))"
   ]
  },
  {
   "attachments": {},
   "cell_type": "markdown",
   "metadata": {},
   "source": [
    "# Weightlift Estimator"
   ]
  },
  {
   "cell_type": "code",
   "execution_count": 23,
   "metadata": {},
   "outputs": [
    {
     "name": "stdout",
     "output_type": "stream",
     "text": [
      "target weight:  195.0\n"
     ]
    }
   ],
   "source": [
    "#Endurance between 10 - 15 repetitions\n",
    "#Hypertrophy (muscle growth) between 8 - 12 repetitions\n",
    "#Strength <= 6 repetitions\n",
    "#Power between 1 - 6 repetitions\n",
    "\n",
    "from fitness_tools.exercise.rm_estimator import RM_Estimator\n",
    "\n",
    "weight = float(input(\"Weight (add decimals): \"))\n",
    "reps = int(input(\"Current reps: \"))\n",
    "targetreps = int(input(\"Target reps: \"))\n",
    "\n",
    "estimator = RM_Estimator(weight, reps, targetreps)\n",
    "\n",
    "print(\"target weight: \",(estimator.estimate_weight(base=5)))\n"
   ]
  }
 ],
 "metadata": {
  "interpreter": {
   "hash": "8ec15be9309793bbbec512ec65776eb2ea018a91cbfaf1fcbf2ee64feed0bbda"
  },
  "kernelspec": {
   "display_name": "Python 3.9.7 ('base')",
   "language": "python",
   "name": "python3"
  },
  "language_info": {
   "codemirror_mode": {
    "name": "ipython",
    "version": 3
   },
   "file_extension": ".py",
   "mimetype": "text/x-python",
   "name": "python",
   "nbconvert_exporter": "python",
   "pygments_lexer": "ipython3",
   "version": "3.9.7"
  },
  "orig_nbformat": 4
 },
 "nbformat": 4,
 "nbformat_minor": 2
}
