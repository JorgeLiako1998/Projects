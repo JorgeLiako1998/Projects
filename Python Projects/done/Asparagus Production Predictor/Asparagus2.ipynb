{
 "cells": [
  {
   "cell_type": "code",
   "execution_count": 36,
   "metadata": {},
   "outputs": [],
   "source": [
    "import pandas as pd\n",
    "import numpy as np"
   ]
  },
  {
   "cell_type": "code",
   "execution_count": 37,
   "metadata": {},
   "outputs": [
    {
     "data": {
      "text/html": [
       "<div>\n",
       "<style scoped>\n",
       "    .dataframe tbody tr th:only-of-type {\n",
       "        vertical-align: middle;\n",
       "    }\n",
       "\n",
       "    .dataframe tbody tr th {\n",
       "        vertical-align: top;\n",
       "    }\n",
       "\n",
       "    .dataframe thead th {\n",
       "        text-align: right;\n",
       "    }\n",
       "</style>\n",
       "<table border=\"1\" class=\"dataframe\">\n",
       "  <thead>\n",
       "    <tr style=\"text-align: right;\">\n",
       "      <th></th>\n",
       "      <th>Area</th>\n",
       "      <th>Element</th>\n",
       "      <th>Item</th>\n",
       "      <th>Year</th>\n",
       "      <th>Unit</th>\n",
       "      <th>Value</th>\n",
       "    </tr>\n",
       "  </thead>\n",
       "  <tbody>\n",
       "    <tr>\n",
       "      <th>1260</th>\n",
       "      <td>Italy</td>\n",
       "      <td>Area harvested</td>\n",
       "      <td>Asparagus</td>\n",
       "      <td>1991</td>\n",
       "      <td>ha</td>\n",
       "      <td>5793.0</td>\n",
       "    </tr>\n",
       "    <tr>\n",
       "      <th>960</th>\n",
       "      <td>France</td>\n",
       "      <td>Area harvested</td>\n",
       "      <td>Asparagus</td>\n",
       "      <td>2012</td>\n",
       "      <td>ha</td>\n",
       "      <td>4490.0</td>\n",
       "    </tr>\n",
       "    <tr>\n",
       "      <th>1734</th>\n",
       "      <td>Peru</td>\n",
       "      <td>Area harvested</td>\n",
       "      <td>Asparagus</td>\n",
       "      <td>1967</td>\n",
       "      <td>ha</td>\n",
       "      <td>1180.0</td>\n",
       "    </tr>\n",
       "    <tr>\n",
       "      <th>354</th>\n",
       "      <td>Canada</td>\n",
       "      <td>Area harvested</td>\n",
       "      <td>Asparagus</td>\n",
       "      <td>1993</td>\n",
       "      <td>ha</td>\n",
       "      <td>1481.0</td>\n",
       "    </tr>\n",
       "    <tr>\n",
       "      <th>2304</th>\n",
       "      <td>United States of America</td>\n",
       "      <td>Area harvested</td>\n",
       "      <td>Asparagus</td>\n",
       "      <td>1994</td>\n",
       "      <td>ha</td>\n",
       "      <td>31060.0</td>\n",
       "    </tr>\n",
       "  </tbody>\n",
       "</table>\n",
       "</div>"
      ],
      "text/plain": [
       "                          Area         Element       Item  Year Unit    Value\n",
       "1260                     Italy  Area harvested  Asparagus  1991   ha   5793.0\n",
       "960                     France  Area harvested  Asparagus  2012   ha   4490.0\n",
       "1734                      Peru  Area harvested  Asparagus  1967   ha   1180.0\n",
       "354                     Canada  Area harvested  Asparagus  1993   ha   1481.0\n",
       "2304  United States of America  Area harvested  Asparagus  1994   ha  31060.0"
      ]
     },
     "execution_count": 37,
     "metadata": {},
     "output_type": "execute_result"
    }
   ],
   "source": [
    "df = pd.read_csv('FAOSTAT_data_7-10-2021.csv')\n",
    "df.sample(5)"
   ]
  },
  {
   "cell_type": "code",
   "execution_count": 38,
   "metadata": {},
   "outputs": [
    {
     "data": {
      "text/plain": [
       "(2418, 6)"
      ]
     },
     "execution_count": 38,
     "metadata": {},
     "output_type": "execute_result"
    }
   ],
   "source": [
    "df.shape"
   ]
  },
  {
   "cell_type": "code",
   "execution_count": 39,
   "metadata": {},
   "outputs": [
    {
     "data": {
      "text/plain": [
       "Area         0\n",
       "Element      0\n",
       "Item         0\n",
       "Year         0\n",
       "Unit         0\n",
       "Value      537\n",
       "dtype: int64"
      ]
     },
     "execution_count": 39,
     "metadata": {},
     "output_type": "execute_result"
    }
   ],
   "source": [
    "df.isnull().sum()"
   ]
  },
  {
   "cell_type": "code",
   "execution_count": 40,
   "metadata": {},
   "outputs": [],
   "source": [
    "df = df.dropna()"
   ]
  },
  {
   "cell_type": "code",
   "execution_count": 41,
   "metadata": {},
   "outputs": [],
   "source": [
    "df = df.groupby('Year')['Value'].sum().reset_index()"
   ]
  },
  {
   "cell_type": "code",
   "execution_count": 42,
   "metadata": {},
   "outputs": [
    {
     "data": {
      "text/html": [
       "<div>\n",
       "<style scoped>\n",
       "    .dataframe tbody tr th:only-of-type {\n",
       "        vertical-align: middle;\n",
       "    }\n",
       "\n",
       "    .dataframe tbody tr th {\n",
       "        vertical-align: top;\n",
       "    }\n",
       "\n",
       "    .dataframe thead th {\n",
       "        text-align: right;\n",
       "    }\n",
       "</style>\n",
       "<table border=\"1\" class=\"dataframe\">\n",
       "  <thead>\n",
       "    <tr style=\"text-align: right;\">\n",
       "      <th></th>\n",
       "      <th>Year</th>\n",
       "      <th>Value</th>\n",
       "    </tr>\n",
       "  </thead>\n",
       "  <tbody>\n",
       "    <tr>\n",
       "      <th>0</th>\n",
       "      <td>1961</td>\n",
       "      <td>1160003.0</td>\n",
       "    </tr>\n",
       "    <tr>\n",
       "      <th>1</th>\n",
       "      <td>1962</td>\n",
       "      <td>871849.0</td>\n",
       "    </tr>\n",
       "    <tr>\n",
       "      <th>2</th>\n",
       "      <td>1963</td>\n",
       "      <td>765013.0</td>\n",
       "    </tr>\n",
       "    <tr>\n",
       "      <th>3</th>\n",
       "      <td>1964</td>\n",
       "      <td>710106.0</td>\n",
       "    </tr>\n",
       "    <tr>\n",
       "      <th>4</th>\n",
       "      <td>1965</td>\n",
       "      <td>721255.0</td>\n",
       "    </tr>\n",
       "  </tbody>\n",
       "</table>\n",
       "</div>"
      ],
      "text/plain": [
       "   Year      Value\n",
       "0  1961  1160003.0\n",
       "1  1962   871849.0\n",
       "2  1963   765013.0\n",
       "3  1964   710106.0\n",
       "4  1965   721255.0"
      ]
     },
     "execution_count": 42,
     "metadata": {},
     "output_type": "execute_result"
    }
   ],
   "source": [
    "df.head()"
   ]
  },
  {
   "cell_type": "code",
   "execution_count": 43,
   "metadata": {},
   "outputs": [],
   "source": [
    "import seaborn as sns\n",
    "import matplotlib.pyplot as plt"
   ]
  },
  {
   "cell_type": "code",
   "execution_count": 44,
   "metadata": {},
   "outputs": [
    {
     "data": {
      "image/png": "[encoded data removed]",
      "text/plain": [
       "<Figure size 432x288 with 1 Axes>"
      ]
     },
     "metadata": {
      "needs_background": "light"
     },
     "output_type": "display_data"
    }
   ],
   "source": [
    "sns.scatterplot(x=df['Year'], y=df['Value'])\n",
    "plt.show()"
   ]
  },
  {
   "cell_type": "code",
   "execution_count": 50,
   "metadata": {},
   "outputs": [],
   "source": [
    "X = df.drop(columns='Value')\n",
    "y = df['Year']\n",
    "\n",
    "################# Splitting into Train -Test Data #######\n",
    "from sklearn.model_selection import train_test_split\n",
    "X_train,X_test,y_train,y_test = train_test_split(X,y,test_size=0.2,random_state =42)"
   ]
  },
  {
   "cell_type": "code",
   "execution_count": 63,
   "metadata": {},
   "outputs": [],
   "source": [
    "def predict_with_regressors(X_train, y_train, X_test, y_test):\n",
    "\n",
    "    # import Regression Models\n",
    "    from sklearn.linear_model import Ridge, Lasso, ElasticNet\n",
    "    from sklearn.svm import SVR\n",
    "    from sklearn.neighbors import KNeighborsRegressor\n",
    "    from sklearn.ensemble import GradientBoostingRegressor\n",
    "    from sklearn.neural_network import MLPRegressor\n",
    "    from sklearn.linear_model import LinearRegression\n",
    "    from sklearn.tree import DecisionTreeRegressor\n",
    "    from sklearn.ensemble import RandomForestRegressor\n",
    "\n",
    "    # import metrics\n",
    "    from sklearn.metrics import mean_squared_error, mean_absolute_error, r2_score\n",
    "    from sklearn.metrics import explained_variance_score, mean_squared_log_error\n",
    "    from sklearn.metrics import mean_absolute_percentage_error\n",
    "\n",
    "    # Instantiate the regressors\n",
    "    regressors = {\n",
    "        'Ridge': Ridge(),\n",
    "        'Lasso': Lasso(),\n",
    "        'Elastic Net': ElasticNet(),\n",
    "        'SVM': SVR(),\n",
    "        'KNN': KNeighborsRegressor(),\n",
    "        'GBR': GradientBoostingRegressor(),\n",
    "        'MLP': MLPRegressor(),\n",
    "        'Linear': LinearRegression(),\n",
    "        'Tree': DecisionTreeRegressor(),\n",
    "        'Forest': RandomForestRegressor()\n",
    "    }\n",
    "\n",
    "    # train and make predictions with each regressor\n",
    "    regressions = {}\n",
    "    for model_name, model in regressors.items():\n",
    "        model.fit(X_train, y_train)\n",
    "        y_pred = model.predict(X_test)\n",
    "        metrics = {\n",
    "            'Mean Squared Error': mean_squared_error(y_test, y_pred),\n",
    "            'Mean Absolute Error': mean_absolute_error(y_test, y_pred),\n",
    "            'R-squared': r2_score(y_test, y_pred),\n",
    "            'Explained Variance Score': explained_variance_score(y_test, y_pred),\n",
    "            'Mean Squared Logarithmic Error': mean_squared_log_error(y_test, y_pred),\n",
    "            'Mean Absolute Percentage Error': mean_absolute_percentage_error(y_test, y_pred)\n",
    "        }\n",
    "        regressions[model_name] = metrics\n",
    "\n",
    "    # Print the metrics in an organized format\n",
    "    for model_name, metrics in regressions.items():\n",
    "        print(f'{model_name}:')\n",
    "        for metric_name, value in metrics.items():\n",
    "            print(f'  - {metric_name}: {value}')\n",
    "\n",
    "    return regressions\n",
    "\n"
   ]
  },
  {
   "cell_type": "code",
   "execution_count": 64,
   "metadata": {},
   "outputs": [
    {
     "name": "stdout",
     "output_type": "stream",
     "text": [
      "Ridge:\n",
      "  - Mean Squared Error: 2.86142043379184e-06\n",
      "  - Mean Absolute Error: 0.0015644640116268722\n",
      "  - R-squared: 0.9999999931557474\n",
      "  - Explained Variance Score: 0.9999999931602231\n",
      "  - Mean Squared Logarithmic Error: 7.239040353782362e-13\n",
      "  - Mean Absolute Percentage Error: 7.86811815569714e-07\n",
      "Lasso:\n",
      "  - Mean Squared Error: 0.00632192337819287\n",
      "  - Mean Absolute Error: 0.07353589018017222\n",
      "  - R-squared: 0.9999848785448157\n",
      "  - Explained Variance Score: 0.9999848884335264\n",
      "  - Mean Squared Logarithmic Error: 1.599358191133239e-09\n",
      "  - Mean Absolute Percentage Error: 3.698321395197295e-05\n",
      "Elastic Net:\n",
      "  - Mean Squared Error: 0.006297419252566656\n",
      "  - Mean Absolute Error: 0.07339323721896562\n",
      "  - R-squared: 0.9999849371564147\n",
      "  - Explained Variance Score: 0.9999849470067961\n",
      "  - Mean Squared Logarithmic Error: 1.5931590105194056e-09\n",
      "  - Mean Absolute Percentage Error: 3.6911469869290455e-05\n",
      "SVM:\n",
      "  - Mean Squared Error: 108.18027540216656\n",
      "  - Mean Absolute Error: 8.189255311571722\n",
      "  - R-squared: 0.7412428008917831\n",
      "  - Explained Variance Score: 0.742818772899178\n",
      "  - Mean Squared Logarithmic Error: 2.739920950459759e-05\n",
      "  - Mean Absolute Percentage Error: 0.004122561929725345\n",
      "KNN:\n",
      "  - Mean Squared Error: 1.9399999999999873\n",
      "  - Mean Absolute Error: 0.9333333333333371\n",
      "  - R-squared: 0.9953596996827401\n",
      "  - Explained Variance Score: 0.9953703303822069\n",
      "  - Mean Squared Logarithmic Error: 4.965959706857603e-07\n",
      "  - Mean Absolute Percentage Error: 0.00047031330780063256\n",
      "GBR:\n",
      "  - Mean Squared Error: 1.000713077225417\n",
      "  - Mean Absolute Error: 1.0003556884655989\n",
      "  - R-squared: 0.9976063870052911\n",
      "  - Explained Variance Score: 0.9986686958148554\n",
      "  - Mean Squared Logarithmic Error: 2.527093885405799e-07\n",
      "  - Mean Absolute Percentage Error: 0.0005028474148976576\n",
      "MLP:\n",
      "  - Mean Squared Error: 231.26680394091798\n",
      "  - Mean Absolute Error: 15.20670525702377\n",
      "  - R-squared: 0.4468312248975601\n",
      "  - Explained Variance Score: 0.9999451794754913\n",
      "  - Mean Squared Logarithmic Error: 5.791688327799938e-05\n",
      "  - Mean Absolute Percentage Error: 0.007643186023170555\n",
      "Linear:\n",
      "  - Mean Squared Error: 0.0\n",
      "  - Mean Absolute Error: 0.0\n",
      "  - R-squared: 1.0\n",
      "  - Explained Variance Score: 1.0\n",
      "  - Mean Squared Logarithmic Error: 0.0\n",
      "  - Mean Absolute Percentage Error: 0.0\n",
      "Tree:\n",
      "  - Mean Squared Error: 1.0\n",
      "  - Mean Absolute Error: 1.0\n",
      "  - R-squared: 0.9976080926199691\n",
      "  - Explained Variance Score: 0.9986711625666495\n",
      "  - Mean Squared Logarithmic Error: 2.5253407069383126e-07\n",
      "  - Mean Absolute Percentage Error: 0.0005026709188381062\n",
      "Forest:\n",
      "  - Mean Squared Error: 0.5524000000000134\n",
      "  - Mean Absolute Error: 0.6650000000000015\n",
      "  - R-squared: 0.9986787103632709\n",
      "  - Explained Variance Score: 0.9988845207049483\n",
      "  - Mean Squared Logarithmic Error: 1.4077046192203063e-07\n",
      "  - Mean Absolute Percentage Error: 0.0003348064274850493\n"
     ]
    },
    {
     "data": {
      "text/plain": [
       "{'Ridge': {'Mean Squared Error': 2.86142043379184e-06,\n",
       "  'Mean Absolute Error': 0.0015644640116268722,\n",
       "  'R-squared': 0.9999999931557474,\n",
       "  'Explained Variance Score': 0.9999999931602231,\n",
       "  'Mean Squared Logarithmic Error': 7.239040353782362e-13,\n",
       "  'Mean Absolute Percentage Error': 7.86811815569714e-07},\n",
       " 'Lasso': {'Mean Squared Error': 0.00632192337819287,\n",
       "  'Mean Absolute Error': 0.07353589018017222,\n",
       "  'R-squared': 0.9999848785448157,\n",
       "  'Explained Variance Score': 0.9999848884335264,\n",
       "  'Mean Squared Logarithmic Error': 1.599358191133239e-09,\n",
       "  'Mean Absolute Percentage Error': 3.698321395197295e-05},\n",
       " 'Elastic Net': {'Mean Squared Error': 0.006297419252566656,\n",
       "  'Mean Absolute Error': 0.07339323721896562,\n",
       "  'R-squared': 0.9999849371564147,\n",
       "  'Explained Variance Score': 0.9999849470067961,\n",
       "  'Mean Squared Logarithmic Error': 1.5931590105194056e-09,\n",
       "  'Mean Absolute Percentage Error': 3.6911469869290455e-05},\n",
       " 'SVM': {'Mean Squared Error': 108.18027540216656,\n",
       "  'Mean Absolute Error': 8.189255311571722,\n",
       "  'R-squared': 0.7412428008917831,\n",
       "  'Explained Variance Score': 0.742818772899178,\n",
       "  'Mean Squared Logarithmic Error': 2.739920950459759e-05,\n",
       "  'Mean Absolute Percentage Error': 0.004122561929725345},\n",
       " 'KNN': {'Mean Squared Error': 1.9399999999999873,\n",
       "  'Mean Absolute Error': 0.9333333333333371,\n",
       "  'R-squared': 0.9953596996827401,\n",
       "  'Explained Variance Score': 0.9953703303822069,\n",
       "  'Mean Squared Logarithmic Error': 4.965959706857603e-07,\n",
       "  'Mean Absolute Percentage Error': 0.00047031330780063256},\n",
       " 'GBR': {'Mean Squared Error': 1.000713077225417,\n",
       "  'Mean Absolute Error': 1.0003556884655989,\n",
       "  'R-squared': 0.9976063870052911,\n",
       "  'Explained Variance Score': 0.9986686958148554,\n",
       "  'Mean Squared Logarithmic Error': 2.527093885405799e-07,\n",
       "  'Mean Absolute Percentage Error': 0.0005028474148976576},\n",
       " 'MLP': {'Mean Squared Error': 231.26680394091798,\n",
       "  'Mean Absolute Error': 15.20670525702377,\n",
       "  'R-squared': 0.4468312248975601,\n",
       "  'Explained Variance Score': 0.9999451794754913,\n",
       "  'Mean Squared Logarithmic Error': 5.791688327799938e-05,\n",
       "  'Mean Absolute Percentage Error': 0.007643186023170555},\n",
       " 'Linear': {'Mean Squared Error': 0.0,\n",
       "  'Mean Absolute Error': 0.0,\n",
       "  'R-squared': 1.0,\n",
       "  'Explained Variance Score': 1.0,\n",
       "  'Mean Squared Logarithmic Error': 0.0,\n",
       "  'Mean Absolute Percentage Error': 0.0},\n",
       " 'Tree': {'Mean Squared Error': 1.0,\n",
       "  'Mean Absolute Error': 1.0,\n",
       "  'R-squared': 0.9976080926199691,\n",
       "  'Explained Variance Score': 0.9986711625666495,\n",
       "  'Mean Squared Logarithmic Error': 2.5253407069383126e-07,\n",
       "  'Mean Absolute Percentage Error': 0.0005026709188381062},\n",
       " 'Forest': {'Mean Squared Error': 0.5524000000000134,\n",
       "  'Mean Absolute Error': 0.6650000000000015,\n",
       "  'R-squared': 0.9986787103632709,\n",
       "  'Explained Variance Score': 0.9988845207049483,\n",
       "  'Mean Squared Logarithmic Error': 1.4077046192203063e-07,\n",
       "  'Mean Absolute Percentage Error': 0.0003348064274850493}}"
      ]
     },
     "execution_count": 64,
     "metadata": {},
     "output_type": "execute_result"
    }
   ],
   "source": [
    "predict_with_regressors(X_train, y_train, X_test, y_test)"
   ]
  }
 ],
 "metadata": {
  "kernelspec": {
   "display_name": "base",
   "language": "python",
   "name": "python3"
  },
  "language_info": {
   "codemirror_mode": {
    "name": "ipython",
    "version": 3
   },
   "file_extension": ".py",
   "mimetype": "text/x-python",
   "name": "python",
   "nbconvert_exporter": "python",
   "pygments_lexer": "ipython3",
   "version": "3.9.7"
  },
  "orig_nbformat": 4
 },
 "nbformat": 4,
 "nbformat_minor": 2
}
