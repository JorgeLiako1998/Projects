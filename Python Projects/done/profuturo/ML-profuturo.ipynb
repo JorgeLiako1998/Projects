{
 "cells": [
  {
   "cell_type": "code",
   "execution_count": 236,
   "metadata": {},
   "outputs": [],
   "source": [
    "import pandas as pd\n",
    "from sklearn.model_selection import train_test_split\n",
    "from sklearn.ensemble import RandomForestRegressor\n",
    "from sklearn.metrics import mean_squared_error\n",
    "import matplotlib.pyplot as plt\n",
    "import numpy as np"
   ]
  },
  {
   "cell_type": "code",
   "execution_count": 237,
   "metadata": {},
   "outputs": [],
   "source": [
    "df = pd.read_csv('ProFuturo.csv')"
   ]
  },
  {
   "cell_type": "code",
   "execution_count": 238,
   "metadata": {},
   "outputs": [
    {
     "data": {
      "text/html": [
       "<div>\n",
       "<style scoped>\n",
       "    .dataframe tbody tr th:only-of-type {\n",
       "        vertical-align: middle;\n",
       "    }\n",
       "\n",
       "    .dataframe tbody tr th {\n",
       "        vertical-align: top;\n",
       "    }\n",
       "\n",
       "    .dataframe thead th {\n",
       "        text-align: right;\n",
       "    }\n",
       "</style>\n",
       "<table border=\"1\" class=\"dataframe\">\n",
       "  <thead>\n",
       "    <tr style=\"text-align: right;\">\n",
       "      <th></th>\n",
       "      <th>Plan</th>\n",
       "      <th>YEAR</th>\n",
       "      <th>January</th>\n",
       "      <th>February</th>\n",
       "      <th>March</th>\n",
       "      <th>April</th>\n",
       "      <th>May</th>\n",
       "      <th>June</th>\n",
       "      <th>July</th>\n",
       "      <th>August</th>\n",
       "      <th>September</th>\n",
       "      <th>October</th>\n",
       "      <th>November</th>\n",
       "      <th>December</th>\n",
       "    </tr>\n",
       "  </thead>\n",
       "  <tbody>\n",
       "    <tr>\n",
       "      <th>0</th>\n",
       "      <td>ProAhorro</td>\n",
       "      <td>2019</td>\n",
       "      <td>0.36%</td>\n",
       "      <td>0.33%</td>\n",
       "      <td>0.36%</td>\n",
       "      <td>0.35%</td>\n",
       "      <td>0.37%</td>\n",
       "      <td>0.36%</td>\n",
       "      <td>0.37%</td>\n",
       "      <td>0.37%</td>\n",
       "      <td>0.36%</td>\n",
       "      <td>0.37%</td>\n",
       "      <td>0.36%</td>\n",
       "      <td>0.37%</td>\n",
       "    </tr>\n",
       "    <tr>\n",
       "      <th>1</th>\n",
       "      <td>ProAhorro</td>\n",
       "      <td>2020</td>\n",
       "      <td>0.37%</td>\n",
       "      <td>0.35%</td>\n",
       "      <td>0.37%</td>\n",
       "      <td>0.34%</td>\n",
       "      <td>0.35%</td>\n",
       "      <td>0.35%</td>\n",
       "      <td>0.35%</td>\n",
       "      <td>0.35%</td>\n",
       "      <td>0.34%</td>\n",
       "      <td>0.35%</td>\n",
       "      <td>0.33%</td>\n",
       "      <td>0.35%</td>\n",
       "    </tr>\n",
       "    <tr>\n",
       "      <th>2</th>\n",
       "      <td>ProAhorro</td>\n",
       "      <td>2021</td>\n",
       "      <td>0.34%</td>\n",
       "      <td>0.31%</td>\n",
       "      <td>0.34%</td>\n",
       "      <td>0.33%</td>\n",
       "      <td>0.34%</td>\n",
       "      <td>0.33%</td>\n",
       "      <td>0.33%</td>\n",
       "      <td>0.33%</td>\n",
       "      <td>0.32%</td>\n",
       "      <td>0.32%</td>\n",
       "      <td>0.31%</td>\n",
       "      <td>0.32%</td>\n",
       "    </tr>\n",
       "    <tr>\n",
       "      <th>3</th>\n",
       "      <td>ProAhorro</td>\n",
       "      <td>2022</td>\n",
       "      <td>0.31%</td>\n",
       "      <td>0.28%</td>\n",
       "      <td>0.29%</td>\n",
       "      <td>0.28%</td>\n",
       "      <td>0.30%</td>\n",
       "      <td>0.27%</td>\n",
       "      <td>0.29%</td>\n",
       "      <td>0.29%</td>\n",
       "      <td>0.28%</td>\n",
       "      <td>0.30%</td>\n",
       "      <td>0.31%</td>\n",
       "      <td>0.34%</td>\n",
       "    </tr>\n",
       "    <tr>\n",
       "      <th>4</th>\n",
       "      <td>ProAhorro</td>\n",
       "      <td>2023</td>\n",
       "      <td>0.34%</td>\n",
       "      <td>0.32%</td>\n",
       "      <td>0.36%</td>\n",
       "      <td>0.36%</td>\n",
       "      <td>0.38%</td>\n",
       "      <td>0.37%</td>\n",
       "      <td>0.39%</td>\n",
       "      <td>0.04%</td>\n",
       "      <td>0.39%</td>\n",
       "      <td>0.41%</td>\n",
       "      <td>0.04%</td>\n",
       "      <td>0.42%</td>\n",
       "    </tr>\n",
       "  </tbody>\n",
       "</table>\n",
       "</div>"
      ],
      "text/plain": [
       "        Plan  YEAR January February  March  April    May   June   July August  \\\n",
       "0  ProAhorro  2019   0.36%    0.33%  0.36%  0.35%  0.37%  0.36%  0.37%  0.37%   \n",
       "1  ProAhorro  2020   0.37%    0.35%  0.37%  0.34%  0.35%  0.35%  0.35%  0.35%   \n",
       "2  ProAhorro  2021   0.34%    0.31%  0.34%  0.33%  0.34%  0.33%  0.33%  0.33%   \n",
       "3  ProAhorro  2022   0.31%    0.28%  0.29%  0.28%  0.30%  0.27%  0.29%  0.29%   \n",
       "4  ProAhorro  2023   0.34%    0.32%  0.36%  0.36%  0.38%  0.37%  0.39%  0.04%   \n",
       "\n",
       "  September October November December  \n",
       "0     0.36%   0.37%    0.36%    0.37%  \n",
       "1     0.34%   0.35%    0.33%    0.35%  \n",
       "2     0.32%   0.32%    0.31%    0.32%  \n",
       "3     0.28%   0.30%    0.31%    0.34%  \n",
       "4     0.39%   0.41%    0.04%    0.42%  "
      ]
     },
     "execution_count": 238,
     "metadata": {},
     "output_type": "execute_result"
    }
   ],
   "source": [
    "df.head()"
   ]
  },
  {
   "cell_type": "code",
   "execution_count": 239,
   "metadata": {},
   "outputs": [],
   "source": [
    "df_melted = pd.melt(df, id_vars=['Plan', 'YEAR'], var_name='Month', value_name='Value')"
   ]
  },
  {
   "cell_type": "code",
   "execution_count": 240,
   "metadata": {},
   "outputs": [],
   "source": [
    "# Replace 'Null' strings with np.nan\n",
    "df_melted['Value'] = df_melted['Value'].replace('Null', np.nan)\n",
    "\n",
    "# Convert 'Value' column to numeric (remove the '%' sign)\n",
    "df_melted['Value'] = df_melted['Value'].str.rstrip('%').astype(float)\n"
   ]
  },
  {
   "cell_type": "code",
   "execution_count": 241,
   "metadata": {},
   "outputs": [],
   "source": [
    "# Merge 'YEAR' and 'Month' columns into a single column\n",
    "merged_df['Year_Month'] = df_melted['YEAR'].astype(str) + '-' + df_melted['Month']\n",
    "\n",
    "# Convert 'Year_Month' column to datetime\n",
    "merged_df['Year_Month'] = pd.to_datetime(merged_df['Year_Month'], format='%Y-%B')\n",
    "merged_df = merged_df.sort_values(by='Year_Month')\n",
    "merged_df['Sequential_Period'] = range(1, len(merged_df) + 1)"
   ]
  },
  {
   "cell_type": "code",
   "execution_count": 242,
   "metadata": {},
   "outputs": [],
   "source": [
    "df = df_melted.merge(merged_df, on=['YEAR', 'Month'])"
   ]
  },
  {
   "cell_type": "code",
   "execution_count": 243,
   "metadata": {},
   "outputs": [],
   "source": [
    "df = df.dropna()"
   ]
  },
  {
   "cell_type": "code",
   "execution_count": 244,
   "metadata": {},
   "outputs": [],
   "source": [
    "df = df[['Plan', 'Sequential_Period', 'Value']]"
   ]
  },
  {
   "cell_type": "code",
   "execution_count": 257,
   "metadata": {},
   "outputs": [],
   "source": [
    "# Create an empty dictionary to store DataFrames for each plan\n",
    "ProAhorro = df[df['Plan'] == \"ProAhorro\"]\n",
    "ProRenta = df[df['Plan'] == \"ProRenta\"]\n",
    "ProInversion = df[df['Plan'] == \"ProInversion\"]\n",
    "ProVision = df[df['Plan'] == \"ProVision\"]\n",
    "ProCapital = df[df['Plan'] == \"ProCapital\"]"
   ]
  },
  {
   "attachments": {},
   "cell_type": "markdown",
   "metadata": {},
   "source": [
    "# Start ML"
   ]
  },
  {
   "cell_type": "code",
   "execution_count": 275,
   "metadata": {},
   "outputs": [],
   "source": [
    "def rf_reg(df):\n",
    "    X = df[['Sequential_Period']]\n",
    "    y = df['Value']\n",
    "\n",
    "    # Step 2: No preprocessing needed as there are no categorical variables\n",
    "\n",
    "    # Step 3: Split the data into training and testing sets\n",
    "    X_train, X_test, y_train, y_test = train_test_split(X, y, test_size=0.2, random_state=42)\n",
    "\n",
    "    # Step 4: Train the Random Forest model\n",
    "    rf_model = RandomForestRegressor(n_estimators=100, random_state=42)\n",
    "    rf_model.fit(X_train, y_train)\n",
    "\n",
    "    # Step 5: Evaluate the model's performance on the testing data\n",
    "    y_pred = rf_model.predict(X_test)\n",
    "    mse = mean_squared_error(y_test, y_pred)\n",
    "\n",
    "    # Step 6: Make predictions for future sequential periods\n",
    "    future_periods = [[61], [62], [63]]  # Example future sequential periods\n",
    "    future_predictions = rf_model.predict(future_periods)\n",
    "\n",
    "    future_df = pd.DataFrame({\n",
    "    'Sequential_Period': [period[0] for period in future_periods],\n",
    "    'Predicted_Value': future_predictions\n",
    "    })\n",
    "\n",
    "    return future_df, mse"
   ]
  },
  {
   "cell_type": "code",
   "execution_count": 276,
   "metadata": {},
   "outputs": [
    {
     "name": "stderr",
     "output_type": "stream",
     "text": [
      "/Users/yayoliak14/opt/anaconda3/lib/python3.9/site-packages/sklearn/base.py:439: UserWarning: X does not have valid feature names, but RandomForestRegressor was fitted with feature names\n",
      "  warnings.warn(\n",
      "/Users/yayoliak14/opt/anaconda3/lib/python3.9/site-packages/sklearn/base.py:439: UserWarning: X does not have valid feature names, but RandomForestRegressor was fitted with feature names\n",
      "  warnings.warn(\n",
      "/Users/yayoliak14/opt/anaconda3/lib/python3.9/site-packages/sklearn/base.py:439: UserWarning: X does not have valid feature names, but RandomForestRegressor was fitted with feature names\n",
      "  warnings.warn(\n",
      "/Users/yayoliak14/opt/anaconda3/lib/python3.9/site-packages/sklearn/base.py:439: UserWarning: X does not have valid feature names, but RandomForestRegressor was fitted with feature names\n",
      "  warnings.warn(\n",
      "/Users/yayoliak14/opt/anaconda3/lib/python3.9/site-packages/sklearn/base.py:439: UserWarning: X does not have valid feature names, but RandomForestRegressor was fitted with feature names\n",
      "  warnings.warn(\n"
     ]
    }
   ],
   "source": [
    "ProAhorro_pred = rf_reg(ProAhorro)\n",
    "ProRenta_pred = rf_reg(ProRenta)\n",
    "ProCapital_pred = rf_reg(ProCapital)\n",
    "ProVision_pred = rf_reg(ProVision)\n",
    "ProInversion_pred = rf_reg(ProInversion)"
   ]
  },
  {
   "cell_type": "code",
   "execution_count": 277,
   "metadata": {},
   "outputs": [
    {
     "data": {
      "text/plain": [
       "(   Sequential_Period  Predicted_Value\n",
       " 0                 61           0.4115\n",
       " 1                 62           0.4130\n",
       " 2                 63           0.4044,\n",
       " 0.00944183923076926)"
      ]
     },
     "execution_count": 277,
     "metadata": {},
     "output_type": "execute_result"
    }
   ],
   "source": [
    "ProAhorro_pred"
   ]
  },
  {
   "cell_type": "code",
   "execution_count": 278,
   "metadata": {},
   "outputs": [
    {
     "data": {
      "text/plain": [
       "(   Sequential_Period  Predicted_Value\n",
       " 0                 61           0.6032\n",
       " 1                 62           0.7037\n",
       " 2                 63           0.4414,\n",
       " 0.14519560000000004)"
      ]
     },
     "execution_count": 278,
     "metadata": {},
     "output_type": "execute_result"
    }
   ],
   "source": [
    "ProRenta_pred"
   ]
  },
  {
   "cell_type": "code",
   "execution_count": 279,
   "metadata": {},
   "outputs": [
    {
     "data": {
      "text/plain": [
       "(   Sequential_Period  Predicted_Value\n",
       " 0                 61           1.9344\n",
       " 1                 62           2.4864\n",
       " 2                 63           1.7081,\n",
       " 6.271034426923079)"
      ]
     },
     "execution_count": 279,
     "metadata": {},
     "output_type": "execute_result"
    }
   ],
   "source": [
    "ProCapital_pred"
   ]
  },
  {
   "cell_type": "code",
   "execution_count": 280,
   "metadata": {},
   "outputs": [
    {
     "data": {
      "text/plain": [
       "(   Sequential_Period  Predicted_Value\n",
       " 0                 61           1.4582\n",
       " 1                 62           1.6412\n",
       " 2                 63           1.4133,\n",
       " 0.7078253023076931)"
      ]
     },
     "execution_count": 280,
     "metadata": {},
     "output_type": "execute_result"
    }
   ],
   "source": [
    "ProVision_pred"
   ]
  },
  {
   "cell_type": "code",
   "execution_count": 281,
   "metadata": {},
   "outputs": [
    {
     "data": {
      "text/plain": [
       "(   Sequential_Period  Predicted_Value\n",
       " 0                 61           1.3436\n",
       " 1                 62           1.5611\n",
       " 2                 63           0.8946,\n",
       " 1.046691403846154)"
      ]
     },
     "execution_count": 281,
     "metadata": {},
     "output_type": "execute_result"
    }
   ],
   "source": [
    "ProInversion_pred"
   ]
  },
  {
   "cell_type": "code",
   "execution_count": null,
   "metadata": {},
   "outputs": [],
   "source": []
  }
 ],
 "metadata": {
  "kernelspec": {
   "display_name": "base",
   "language": "python",
   "name": "python3"
  },
  "language_info": {
   "codemirror_mode": {
    "name": "ipython",
    "version": 3
   },
   "file_extension": ".py",
   "mimetype": "text/x-python",
   "name": "python",
   "nbconvert_exporter": "python",
   "pygments_lexer": "ipython3",
   "version": "3.9.7"
  },
  "orig_nbformat": 4
 },
 "nbformat": 4,
 "nbformat_minor": 2
}
