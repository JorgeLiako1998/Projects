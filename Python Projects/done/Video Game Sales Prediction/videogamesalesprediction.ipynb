{
 "cells": [
  {
   "cell_type": "markdown",
   "metadata": {},
   "source": [
    "# We are trying to create a game that will most likely be succesfull. The two major questions we have are\n",
    "- Which genre will grow the most in the next 10 years?\n",
    "- Which publisher will sell the most in the next 10 years?\n"
   ]
  },
  {
   "cell_type": "code",
   "execution_count": 42,
   "metadata": {},
   "outputs": [],
   "source": [
    "#Load packages\n",
    "import pandas as pd\n",
    "import numpy as np\n",
    "import seaborn as sns\n",
    "import datetime\n",
    "import matplotlib.pyplot as plt\n",
    "from itertools import groupby\n",
    "from pandas.plotting import autocorrelation_plot\n",
    "from statsmodels.tsa.stattools import adfuller\n",
    "from statsmodels.tsa.arima.model import ARIMA\n",
    "from statsmodels.graphics.tsaplots import plot_acf, plot_pacf\n",
    "from statsmodels.graphics.tsaplots import plot_predict\n",
    "import warnings\n",
    "warnings.filterwarnings(\"ignore\")\n",
    "plt.style.use('bmh')"
   ]
  },
  {
   "cell_type": "code",
   "execution_count": 43,
   "metadata": {},
   "outputs": [],
   "source": [
    "#Load Dataset\n",
    "file = \"vgsales.csv\"\n",
    "df = pd.read_csv(file)"
   ]
  },
  {
   "cell_type": "code",
   "execution_count": 44,
   "metadata": {},
   "outputs": [
    {
     "data": {
      "text/plain": [
       "182578"
      ]
     },
     "execution_count": 44,
     "metadata": {},
     "output_type": "execute_result"
    }
   ],
   "source": [
    "df.size"
   ]
  },
  {
   "cell_type": "code",
   "execution_count": 45,
   "metadata": {},
   "outputs": [
    {
     "data": {
      "text/html": [
       "<div>\n",
       "<style scoped>\n",
       "    .dataframe tbody tr th:only-of-type {\n",
       "        vertical-align: middle;\n",
       "    }\n",
       "\n",
       "    .dataframe tbody tr th {\n",
       "        vertical-align: top;\n",
       "    }\n",
       "\n",
       "    .dataframe thead th {\n",
       "        text-align: right;\n",
       "    }\n",
       "</style>\n",
       "<table border=\"1\" class=\"dataframe\">\n",
       "  <thead>\n",
       "    <tr style=\"text-align: right;\">\n",
       "      <th></th>\n",
       "      <th>Rank</th>\n",
       "      <th>Name</th>\n",
       "      <th>Platform</th>\n",
       "      <th>Year</th>\n",
       "      <th>Genre</th>\n",
       "      <th>Publisher</th>\n",
       "      <th>NA_Sales</th>\n",
       "      <th>EU_Sales</th>\n",
       "      <th>JP_Sales</th>\n",
       "      <th>Other_Sales</th>\n",
       "      <th>Global_Sales</th>\n",
       "    </tr>\n",
       "  </thead>\n",
       "  <tbody>\n",
       "    <tr>\n",
       "      <th>0</th>\n",
       "      <td>1</td>\n",
       "      <td>Wii Sports</td>\n",
       "      <td>Wii</td>\n",
       "      <td>2006.0</td>\n",
       "      <td>Sports</td>\n",
       "      <td>Nintendo</td>\n",
       "      <td>41.49</td>\n",
       "      <td>29.02</td>\n",
       "      <td>3.77</td>\n",
       "      <td>8.46</td>\n",
       "      <td>82.74</td>\n",
       "    </tr>\n",
       "    <tr>\n",
       "      <th>1</th>\n",
       "      <td>2</td>\n",
       "      <td>Super Mario Bros.</td>\n",
       "      <td>NES</td>\n",
       "      <td>1985.0</td>\n",
       "      <td>Platform</td>\n",
       "      <td>Nintendo</td>\n",
       "      <td>29.08</td>\n",
       "      <td>3.58</td>\n",
       "      <td>6.81</td>\n",
       "      <td>0.77</td>\n",
       "      <td>40.24</td>\n",
       "    </tr>\n",
       "    <tr>\n",
       "      <th>2</th>\n",
       "      <td>3</td>\n",
       "      <td>Mario Kart Wii</td>\n",
       "      <td>Wii</td>\n",
       "      <td>2008.0</td>\n",
       "      <td>Racing</td>\n",
       "      <td>Nintendo</td>\n",
       "      <td>15.85</td>\n",
       "      <td>12.88</td>\n",
       "      <td>3.79</td>\n",
       "      <td>3.31</td>\n",
       "      <td>35.82</td>\n",
       "    </tr>\n",
       "    <tr>\n",
       "      <th>3</th>\n",
       "      <td>4</td>\n",
       "      <td>Wii Sports Resort</td>\n",
       "      <td>Wii</td>\n",
       "      <td>2009.0</td>\n",
       "      <td>Sports</td>\n",
       "      <td>Nintendo</td>\n",
       "      <td>15.75</td>\n",
       "      <td>11.01</td>\n",
       "      <td>3.28</td>\n",
       "      <td>2.96</td>\n",
       "      <td>33.00</td>\n",
       "    </tr>\n",
       "    <tr>\n",
       "      <th>4</th>\n",
       "      <td>5</td>\n",
       "      <td>Pokemon Red/Pokemon Blue</td>\n",
       "      <td>GB</td>\n",
       "      <td>1996.0</td>\n",
       "      <td>Role-Playing</td>\n",
       "      <td>Nintendo</td>\n",
       "      <td>11.27</td>\n",
       "      <td>8.89</td>\n",
       "      <td>10.22</td>\n",
       "      <td>1.00</td>\n",
       "      <td>31.37</td>\n",
       "    </tr>\n",
       "  </tbody>\n",
       "</table>\n",
       "</div>"
      ],
      "text/plain": [
       "   Rank                      Name Platform    Year         Genre Publisher  \\\n",
       "0     1                Wii Sports      Wii  2006.0        Sports  Nintendo   \n",
       "1     2         Super Mario Bros.      NES  1985.0      Platform  Nintendo   \n",
       "2     3            Mario Kart Wii      Wii  2008.0        Racing  Nintendo   \n",
       "3     4         Wii Sports Resort      Wii  2009.0        Sports  Nintendo   \n",
       "4     5  Pokemon Red/Pokemon Blue       GB  1996.0  Role-Playing  Nintendo   \n",
       "\n",
       "   NA_Sales  EU_Sales  JP_Sales  Other_Sales  Global_Sales  \n",
       "0     41.49     29.02      3.77         8.46         82.74  \n",
       "1     29.08      3.58      6.81         0.77         40.24  \n",
       "2     15.85     12.88      3.79         3.31         35.82  \n",
       "3     15.75     11.01      3.28         2.96         33.00  \n",
       "4     11.27      8.89     10.22         1.00         31.37  "
      ]
     },
     "execution_count": 45,
     "metadata": {},
     "output_type": "execute_result"
    }
   ],
   "source": [
    "df.head()"
   ]
  },
  {
   "cell_type": "markdown",
   "metadata": {},
   "source": [
    "## Exploratory Analysis & Feature Selection/Engineering"
   ]
  },
  {
   "cell_type": "code",
   "execution_count": 46,
   "metadata": {},
   "outputs": [
    {
     "data": {
      "text/plain": [
       "Rank              0\n",
       "Name              0\n",
       "Platform          0\n",
       "Year            271\n",
       "Genre             0\n",
       "Publisher        58\n",
       "NA_Sales          0\n",
       "EU_Sales          0\n",
       "JP_Sales          0\n",
       "Other_Sales       0\n",
       "Global_Sales      0\n",
       "dtype: int64"
      ]
     },
     "execution_count": 46,
     "metadata": {},
     "output_type": "execute_result"
    }
   ],
   "source": [
    "df.isnull().sum()"
   ]
  },
  {
   "cell_type": "code",
   "execution_count": 47,
   "metadata": {},
   "outputs": [
    {
     "data": {
      "text/plain": [
       "<AxesSubplot:>"
      ]
     },
     "execution_count": 47,
     "metadata": {},
     "output_type": "execute_result"
    },
    {
     "data": {
      "image/png": "[encoded data removed]",
      "text/plain": [
       "<Figure size 432x288 with 1 Axes>"
      ]
     },
     "metadata": {
      "needs_background": "light"
     },
     "output_type": "display_data"
    }
   ],
   "source": [
    "#checking where are the NA values :)\n",
    "sns.heatmap(df.isnull(),cbar=False,yticklabels=False,cmap='viridis')"
   ]
  },
  {
   "cell_type": "code",
   "execution_count": 48,
   "metadata": {},
   "outputs": [],
   "source": [
    "df = df.dropna()"
   ]
  },
  {
   "cell_type": "code",
   "execution_count": 49,
   "metadata": {},
   "outputs": [
    {
     "name": "stdout",
     "output_type": "stream",
     "text": [
      "<class 'pandas.core.frame.DataFrame'>\n",
      "Int64Index: 16291 entries, 0 to 16597\n",
      "Data columns (total 11 columns):\n",
      " #   Column        Non-Null Count  Dtype  \n",
      "---  ------        --------------  -----  \n",
      " 0   Rank          16291 non-null  int64  \n",
      " 1   Name          16291 non-null  object \n",
      " 2   Platform      16291 non-null  object \n",
      " 3   Year          16291 non-null  float64\n",
      " 4   Genre         16291 non-null  object \n",
      " 5   Publisher     16291 non-null  object \n",
      " 6   NA_Sales      16291 non-null  float64\n",
      " 7   EU_Sales      16291 non-null  float64\n",
      " 8   JP_Sales      16291 non-null  float64\n",
      " 9   Other_Sales   16291 non-null  float64\n",
      " 10  Global_Sales  16291 non-null  float64\n",
      "dtypes: float64(6), int64(1), object(4)\n",
      "memory usage: 1.5+ MB\n"
     ]
    }
   ],
   "source": [
    "df.info()"
   ]
  },
  {
   "cell_type": "code",
   "execution_count": 50,
   "metadata": {},
   "outputs": [
    {
     "data": {
      "text/html": [
       "<div>\n",
       "<style scoped>\n",
       "    .dataframe tbody tr th:only-of-type {\n",
       "        vertical-align: middle;\n",
       "    }\n",
       "\n",
       "    .dataframe tbody tr th {\n",
       "        vertical-align: top;\n",
       "    }\n",
       "\n",
       "    .dataframe thead th {\n",
       "        text-align: right;\n",
       "    }\n",
       "</style>\n",
       "<table border=\"1\" class=\"dataframe\">\n",
       "  <thead>\n",
       "    <tr style=\"text-align: right;\">\n",
       "      <th></th>\n",
       "      <th>Rank</th>\n",
       "      <th>Name</th>\n",
       "      <th>Platform</th>\n",
       "      <th>Year</th>\n",
       "      <th>Genre</th>\n",
       "      <th>Publisher</th>\n",
       "      <th>NA_Sales</th>\n",
       "      <th>EU_Sales</th>\n",
       "      <th>JP_Sales</th>\n",
       "      <th>Other_Sales</th>\n",
       "      <th>Global_Sales</th>\n",
       "    </tr>\n",
       "  </thead>\n",
       "  <tbody>\n",
       "    <tr>\n",
       "      <th>0</th>\n",
       "      <td>1</td>\n",
       "      <td>Wii Sports</td>\n",
       "      <td>Wii</td>\n",
       "      <td>2006-01-01</td>\n",
       "      <td>Sports</td>\n",
       "      <td>Nintendo</td>\n",
       "      <td>41.49</td>\n",
       "      <td>29.02</td>\n",
       "      <td>3.77</td>\n",
       "      <td>8.46</td>\n",
       "      <td>82.74</td>\n",
       "    </tr>\n",
       "    <tr>\n",
       "      <th>1</th>\n",
       "      <td>2</td>\n",
       "      <td>Super Mario Bros.</td>\n",
       "      <td>NES</td>\n",
       "      <td>1985-01-01</td>\n",
       "      <td>Platform</td>\n",
       "      <td>Nintendo</td>\n",
       "      <td>29.08</td>\n",
       "      <td>3.58</td>\n",
       "      <td>6.81</td>\n",
       "      <td>0.77</td>\n",
       "      <td>40.24</td>\n",
       "    </tr>\n",
       "    <tr>\n",
       "      <th>2</th>\n",
       "      <td>3</td>\n",
       "      <td>Mario Kart Wii</td>\n",
       "      <td>Wii</td>\n",
       "      <td>2008-01-01</td>\n",
       "      <td>Racing</td>\n",
       "      <td>Nintendo</td>\n",
       "      <td>15.85</td>\n",
       "      <td>12.88</td>\n",
       "      <td>3.79</td>\n",
       "      <td>3.31</td>\n",
       "      <td>35.82</td>\n",
       "    </tr>\n",
       "    <tr>\n",
       "      <th>3</th>\n",
       "      <td>4</td>\n",
       "      <td>Wii Sports Resort</td>\n",
       "      <td>Wii</td>\n",
       "      <td>2009-01-01</td>\n",
       "      <td>Sports</td>\n",
       "      <td>Nintendo</td>\n",
       "      <td>15.75</td>\n",
       "      <td>11.01</td>\n",
       "      <td>3.28</td>\n",
       "      <td>2.96</td>\n",
       "      <td>33.00</td>\n",
       "    </tr>\n",
       "    <tr>\n",
       "      <th>4</th>\n",
       "      <td>5</td>\n",
       "      <td>Pokemon Red/Pokemon Blue</td>\n",
       "      <td>GB</td>\n",
       "      <td>1996-01-01</td>\n",
       "      <td>Role-Playing</td>\n",
       "      <td>Nintendo</td>\n",
       "      <td>11.27</td>\n",
       "      <td>8.89</td>\n",
       "      <td>10.22</td>\n",
       "      <td>1.00</td>\n",
       "      <td>31.37</td>\n",
       "    </tr>\n",
       "  </tbody>\n",
       "</table>\n",
       "</div>"
      ],
      "text/plain": [
       "   Rank                      Name Platform       Year         Genre Publisher  \\\n",
       "0     1                Wii Sports      Wii 2006-01-01        Sports  Nintendo   \n",
       "1     2         Super Mario Bros.      NES 1985-01-01      Platform  Nintendo   \n",
       "2     3            Mario Kart Wii      Wii 2008-01-01        Racing  Nintendo   \n",
       "3     4         Wii Sports Resort      Wii 2009-01-01        Sports  Nintendo   \n",
       "4     5  Pokemon Red/Pokemon Blue       GB 1996-01-01  Role-Playing  Nintendo   \n",
       "\n",
       "   NA_Sales  EU_Sales  JP_Sales  Other_Sales  Global_Sales  \n",
       "0     41.49     29.02      3.77         8.46         82.74  \n",
       "1     29.08      3.58      6.81         0.77         40.24  \n",
       "2     15.85     12.88      3.79         3.31         35.82  \n",
       "3     15.75     11.01      3.28         2.96         33.00  \n",
       "4     11.27      8.89     10.22         1.00         31.37  "
      ]
     },
     "execution_count": 50,
     "metadata": {},
     "output_type": "execute_result"
    }
   ],
   "source": [
    "df['Year'] = pd.to_datetime(df['Year'], format='%Y')\n",
    "df.head()"
   ]
  },
  {
   "cell_type": "markdown",
   "metadata": {},
   "source": [
    "### Publisher,count of games and average sales"
   ]
  },
  {
   "cell_type": "code",
   "execution_count": 51,
   "metadata": {},
   "outputs": [
    {
     "data": {
      "text/html": [
       "<div>\n",
       "<style scoped>\n",
       "    .dataframe tbody tr th:only-of-type {\n",
       "        vertical-align: middle;\n",
       "    }\n",
       "\n",
       "    .dataframe tbody tr th {\n",
       "        vertical-align: top;\n",
       "    }\n",
       "\n",
       "    .dataframe thead th {\n",
       "        text-align: right;\n",
       "    }\n",
       "</style>\n",
       "<table border=\"1\" class=\"dataframe\">\n",
       "  <thead>\n",
       "    <tr style=\"text-align: right;\">\n",
       "      <th></th>\n",
       "      <th>Publisher</th>\n",
       "      <th>count</th>\n",
       "      <th>Global_Avg_Sales</th>\n",
       "    </tr>\n",
       "  </thead>\n",
       "  <tbody>\n",
       "    <tr>\n",
       "      <th>138</th>\n",
       "      <td>Electronic Arts</td>\n",
       "      <td>1339</td>\n",
       "      <td>1.874050</td>\n",
       "    </tr>\n",
       "    <tr>\n",
       "      <th>21</th>\n",
       "      <td>Activision</td>\n",
       "      <td>966</td>\n",
       "      <td>2.219953</td>\n",
       "    </tr>\n",
       "    <tr>\n",
       "      <th>347</th>\n",
       "      <td>Namco Bandai Games</td>\n",
       "      <td>928</td>\n",
       "      <td>0.905669</td>\n",
       "    </tr>\n",
       "    <tr>\n",
       "      <th>524</th>\n",
       "      <td>Ubisoft</td>\n",
       "      <td>918</td>\n",
       "      <td>1.527181</td>\n",
       "    </tr>\n",
       "    <tr>\n",
       "      <th>275</th>\n",
       "      <td>Konami Digital Entertainment</td>\n",
       "      <td>823</td>\n",
       "      <td>1.072536</td>\n",
       "    </tr>\n",
       "  </tbody>\n",
       "</table>\n",
       "</div>"
      ],
      "text/plain": [
       "                        Publisher  count  Global_Avg_Sales\n",
       "138               Electronic Arts   1339          1.874050\n",
       "21                     Activision    966          2.219953\n",
       "347            Namco Bandai Games    928          0.905669\n",
       "524                       Ubisoft    918          1.527181\n",
       "275  Konami Digital Entertainment    823          1.072536"
      ]
     },
     "execution_count": 51,
     "metadata": {},
     "output_type": "execute_result"
    }
   ],
   "source": [
    "publishercount = pd.DataFrame(df.groupby('Publisher').size().reset_index(name='count'))\n",
    "publishercount.sort_values(\"count\", ascending=False)\n",
    "publisheravgsales = pd.DataFrame(df.groupby(['Publisher', 'Global_Sales'], as_index=False).mean().groupby('Publisher')['Global_Sales'].mean())\n",
    "publisher = pd.merge(publishercount, publisheravgsales, on='Publisher').sort_values('count', ascending=False)\n",
    "publisher = publisher.rename(columns={'Global_Sales':'Global_Avg_Sales'})\n",
    "publisher.head()"
   ]
  },
  {
   "cell_type": "code",
   "execution_count": 52,
   "metadata": {},
   "outputs": [
    {
     "data": {
      "text/plain": [
       "Text(0.5, 1.0, 'Sales per Publisher since 1980')"
      ]
     },
     "execution_count": 52,
     "metadata": {},
     "output_type": "execute_result"
    },
    {
     "data": {
      "image/png": "[encoded data removed]",
      "text/plain": [
       "<Figure size 432x288 with 1 Axes>"
      ]
     },
     "metadata": {
      "needs_background": "light"
     },
     "output_type": "display_data"
    }
   ],
   "source": [
    "plt.barh(publisher['Publisher'].head(10), publisher['count'].head(10))\n",
    "plt.xlabel('Global Sales since 1980')\n",
    "plt.ylabel('Publisher')\n",
    "plt.title('Sales per Publisher since 1980')"
   ]
  },
  {
   "cell_type": "markdown",
   "metadata": {},
   "source": [
    "### Genre, count of games and average sales"
   ]
  },
  {
   "cell_type": "code",
   "execution_count": 53,
   "metadata": {},
   "outputs": [
    {
     "data": {
      "text/html": [
       "<div>\n",
       "<style scoped>\n",
       "    .dataframe tbody tr th:only-of-type {\n",
       "        vertical-align: middle;\n",
       "    }\n",
       "\n",
       "    .dataframe tbody tr th {\n",
       "        vertical-align: top;\n",
       "    }\n",
       "\n",
       "    .dataframe thead th {\n",
       "        text-align: right;\n",
       "    }\n",
       "</style>\n",
       "<table border=\"1\" class=\"dataframe\">\n",
       "  <thead>\n",
       "    <tr style=\"text-align: right;\">\n",
       "      <th></th>\n",
       "      <th>Genre</th>\n",
       "      <th>count</th>\n",
       "      <th>Global_Avg_Sales</th>\n",
       "    </tr>\n",
       "  </thead>\n",
       "  <tbody>\n",
       "    <tr>\n",
       "      <th>0</th>\n",
       "      <td>Action</td>\n",
       "      <td>3251</td>\n",
       "      <td>2.483003</td>\n",
       "    </tr>\n",
       "    <tr>\n",
       "      <th>10</th>\n",
       "      <td>Sports</td>\n",
       "      <td>2304</td>\n",
       "      <td>2.324170</td>\n",
       "    </tr>\n",
       "    <tr>\n",
       "      <th>3</th>\n",
       "      <td>Misc</td>\n",
       "      <td>1686</td>\n",
       "      <td>2.056804</td>\n",
       "    </tr>\n",
       "    <tr>\n",
       "      <th>7</th>\n",
       "      <td>Role-Playing</td>\n",
       "      <td>1470</td>\n",
       "      <td>2.415244</td>\n",
       "    </tr>\n",
       "    <tr>\n",
       "      <th>8</th>\n",
       "      <td>Shooter</td>\n",
       "      <td>1282</td>\n",
       "      <td>2.559401</td>\n",
       "    </tr>\n",
       "  </tbody>\n",
       "</table>\n",
       "</div>"
      ],
      "text/plain": [
       "           Genre  count  Global_Avg_Sales\n",
       "0         Action   3251          2.483003\n",
       "10        Sports   2304          2.324170\n",
       "3           Misc   1686          2.056804\n",
       "7   Role-Playing   1470          2.415244\n",
       "8        Shooter   1282          2.559401"
      ]
     },
     "execution_count": 53,
     "metadata": {},
     "output_type": "execute_result"
    }
   ],
   "source": [
    "genrecount = pd.DataFrame(df.groupby('Genre').size().reset_index(name='count'))\n",
    "genrecount.sort_values(\"count\", ascending=False)\n",
    "genreavgsales = pd.DataFrame(df.groupby(['Genre', 'Global_Sales'], as_index=False).mean().groupby('Genre')['Global_Sales'].mean())\n",
    "genre = pd.merge(genrecount, genreavgsales, on='Genre').sort_values('count', ascending=False)\n",
    "genre = genre.rename(columns={'Global_Sales':'Global_Avg_Sales'})\n",
    "genre.head()"
   ]
  },
  {
   "cell_type": "code",
   "execution_count": 54,
   "metadata": {},
   "outputs": [
    {
     "data": {
      "text/plain": [
       "Text(0.5, 1.0, 'Sales per Genre since 1980')"
      ]
     },
     "execution_count": 54,
     "metadata": {},
     "output_type": "execute_result"
    },
    {
     "data": {
      "image/png": "[encoded data removed]",
      "text/plain": [
       "<Figure size 432x288 with 1 Axes>"
      ]
     },
     "metadata": {
      "needs_background": "light"
     },
     "output_type": "display_data"
    }
   ],
   "source": [
    "plt.barh(genre['Genre'].head(10), genre['count'].head(10))\n",
    "plt.xlabel('Global Sales since 1980')\n",
    "plt.ylabel('Genre')\n",
    "plt.title('Sales per Genre since 1980')"
   ]
  },
  {
   "cell_type": "markdown",
   "metadata": {},
   "source": [
    "### Platform, count of games and average sales\n"
   ]
  },
  {
   "cell_type": "code",
   "execution_count": 55,
   "metadata": {},
   "outputs": [
    {
     "data": {
      "text/html": [
       "<div>\n",
       "<style scoped>\n",
       "    .dataframe tbody tr th:only-of-type {\n",
       "        vertical-align: middle;\n",
       "    }\n",
       "\n",
       "    .dataframe tbody tr th {\n",
       "        vertical-align: top;\n",
       "    }\n",
       "\n",
       "    .dataframe thead th {\n",
       "        text-align: right;\n",
       "    }\n",
       "</style>\n",
       "<table border=\"1\" class=\"dataframe\">\n",
       "  <thead>\n",
       "    <tr style=\"text-align: right;\">\n",
       "      <th></th>\n",
       "      <th>Platform</th>\n",
       "      <th>count</th>\n",
       "      <th>Global_Avg_Sales</th>\n",
       "    </tr>\n",
       "  </thead>\n",
       "  <tbody>\n",
       "    <tr>\n",
       "      <th>4</th>\n",
       "      <td>DS</td>\n",
       "      <td>2131</td>\n",
       "      <td>2.317295</td>\n",
       "    </tr>\n",
       "    <tr>\n",
       "      <th>16</th>\n",
       "      <td>PS2</td>\n",
       "      <td>2127</td>\n",
       "      <td>2.118805</td>\n",
       "    </tr>\n",
       "    <tr>\n",
       "      <th>17</th>\n",
       "      <td>PS3</td>\n",
       "      <td>1304</td>\n",
       "      <td>2.174706</td>\n",
       "    </tr>\n",
       "    <tr>\n",
       "      <th>26</th>\n",
       "      <td>Wii</td>\n",
       "      <td>1290</td>\n",
       "      <td>2.869120</td>\n",
       "    </tr>\n",
       "    <tr>\n",
       "      <th>28</th>\n",
       "      <td>X360</td>\n",
       "      <td>1234</td>\n",
       "      <td>2.310345</td>\n",
       "    </tr>\n",
       "  </tbody>\n",
       "</table>\n",
       "</div>"
      ],
      "text/plain": [
       "   Platform  count  Global_Avg_Sales\n",
       "4        DS   2131          2.317295\n",
       "16      PS2   2127          2.118805\n",
       "17      PS3   1304          2.174706\n",
       "26      Wii   1290          2.869120\n",
       "28     X360   1234          2.310345"
      ]
     },
     "execution_count": 55,
     "metadata": {},
     "output_type": "execute_result"
    }
   ],
   "source": [
    "platformcount = pd.DataFrame(df.groupby('Platform').size().reset_index(name='count'))\n",
    "platformcount.sort_values('count',ascending=False)\n",
    "platformavgsales = pd.DataFrame(df.groupby(['Platform', 'Global_Sales'], as_index=False).mean().groupby('Platform')['Global_Sales'].mean())\n",
    "platform = pd.merge(platformcount, platformavgsales, on='Platform').sort_values('count', ascending=False)\n",
    "platform = platform.rename(columns={'Global_Sales':'Global_Avg_Sales'})\n",
    "platform.head()"
   ]
  },
  {
   "cell_type": "code",
   "execution_count": 56,
   "metadata": {},
   "outputs": [
    {
     "data": {
      "text/plain": [
       "Text(0.5, 1.0, 'Sales per Platform since 1980')"
      ]
     },
     "execution_count": 56,
     "metadata": {},
     "output_type": "execute_result"
    },
    {
     "data": {
      "image/png": "[encoded data removed]",
      "text/plain": [
       "<Figure size 432x288 with 1 Axes>"
      ]
     },
     "metadata": {
      "needs_background": "light"
     },
     "output_type": "display_data"
    }
   ],
   "source": [
    "plt.barh(platform['Platform'].head(10), platform['count'].head(10))\n",
    "plt.xlabel('Global Sales since 1980')\n",
    "plt.ylabel('Platform')\n",
    "plt.title('Sales per Platform since 1980')"
   ]
  },
  {
   "cell_type": "markdown",
   "metadata": {},
   "source": [
    "### Sales after 2010\n",
    "#### Results might be influenced by total sales per platform overall"
   ]
  },
  {
   "cell_type": "code",
   "execution_count": 57,
   "metadata": {},
   "outputs": [
    {
     "data": {
      "text/plain": [
       "56474"
      ]
     },
     "execution_count": 57,
     "metadata": {},
     "output_type": "execute_result"
    }
   ],
   "source": [
    "df2010 = df.loc[(df['Year'] >= '2010-01-01')]\n",
    "df2010.size"
   ]
  },
  {
   "cell_type": "code",
   "execution_count": 58,
   "metadata": {},
   "outputs": [
    {
     "data": {
      "text/plain": [
       "Text(0.5, 1.0, 'Sales per Genre since 2010')"
      ]
     },
     "execution_count": 58,
     "metadata": {},
     "output_type": "execute_result"
    },
    {
     "data": {
      "image/png": "[encoded data removed]",
      "text/plain": [
       "<Figure size 432x288 with 1 Axes>"
      ]
     },
     "metadata": {
      "needs_background": "light"
     },
     "output_type": "display_data"
    }
   ],
   "source": [
    "genrecount2010 = pd.DataFrame(df2010.groupby('Genre').size().reset_index(name='count'))\n",
    "genreavgsales2010 = pd.DataFrame(df2010.groupby(['Genre', 'Global_Sales'], as_index=False).mean().groupby('Genre')['Global_Sales'].mean())\n",
    "genre2010 = pd.merge(genrecount2010, genreavgsales2010, on='Genre').sort_values('count', ascending=False)\n",
    "genre2010 = genre2010.rename(columns={'Global_Sales':'Global_Avg_Sales'})\n",
    "plt.barh(genre2010['Genre'].head(10), genre2010['count'].head(10))\n",
    "plt.xlabel('Global Sales since 2010')\n",
    "plt.ylabel('Genre')\n",
    "plt.title('Sales per Genre since 2010')"
   ]
  },
  {
   "cell_type": "code",
   "execution_count": 59,
   "metadata": {},
   "outputs": [
    {
     "data": {
      "text/plain": [
       "Text(0.5, 1.0, 'Sales per Publisher since 2010')"
      ]
     },
     "execution_count": 59,
     "metadata": {},
     "output_type": "execute_result"
    },
    {
     "data": {
      "image/png": "[encoded data removed]",
      "text/plain": [
       "<Figure size 432x288 with 1 Axes>"
      ]
     },
     "metadata": {
      "needs_background": "light"
     },
     "output_type": "display_data"
    }
   ],
   "source": [
    "publishercount2010 = pd.DataFrame(df2010.groupby('Publisher').size().reset_index(name='count'))\n",
    "publisheravgsales2010 = pd.DataFrame(df2010.groupby(['Publisher', 'Global_Sales'], as_index=False).mean().groupby('Publisher')['Global_Sales'].mean())\n",
    "publisher2010 = pd.merge(publishercount2010, publisheravgsales2010, on='Publisher').sort_values('count', ascending=False)\n",
    "publisher2010 = publisher2010.rename(columns={'Global_Sales':'Global_Avg_Sales'})\n",
    "plt.barh(publisher2010['Publisher'].head(10), publisher2010['count'].head(10))\n",
    "plt.xlabel('Global Sales since 2010')\n",
    "plt.ylabel('Publisher')\n",
    "plt.title('Sales per Publisher since 2010')"
   ]
  },
  {
   "cell_type": "code",
   "execution_count": 60,
   "metadata": {},
   "outputs": [],
   "source": [
    "#highest genre sales\n",
    "sports = df.loc[(df['Genre'] == 'Sports')]\n",
    "action = df.loc[(df['Genre'] == 'Action')]\n",
    "roleplay = df.loc[(df['Genre'] == 'Role-Playing')]\n",
    "frames = [sports, action, roleplay]\n",
    "df1 = pd.concat(frames)\n",
    "#highest publisher sales\n",
    "activision = df1.loc[(df1['Publisher'] == 'Activision')]\n",
    "ea = df1.loc[(df1['Publisher'] == 'Electronic Arts')]\n",
    "namco = df1.loc[(df1['Publisher'] == 'Namco Bandai Games')]\n",
    "ubisoft = df1.loc[(df1['Publisher'] == 'Ubisoft')]\n",
    "frames1 = [activision, ea, namco, ubisoft]\n",
    "dfarima = pd.concat(frames1)"
   ]
  },
  {
   "cell_type": "code",
   "execution_count": 61,
   "metadata": {},
   "outputs": [
    {
     "data": {
      "text/plain": [
       "<AxesSubplot:xlabel='Year', ylabel='globalsalessum'>"
      ]
     },
     "execution_count": 61,
     "metadata": {},
     "output_type": "execute_result"
    },
    {
     "data": {
      "image/png": "[encoded data removed]",
      "text/plain": [
       "<Figure size 432x288 with 1 Axes>"
      ]
     },
     "metadata": {
      "needs_background": "light"
     },
     "output_type": "display_data"
    }
   ],
   "source": [
    "genrelineplot = pd.DataFrame(dfarima.groupby(['Year','Genre'], as_index=False).agg(globalsalessum=('Global_Sales', 'sum')))\n",
    "sns.lineplot(data=genrelineplot,x='Year',y='globalsalessum', ci=None, hue='Genre')"
   ]
  },
  {
   "cell_type": "code",
   "execution_count": 62,
   "metadata": {},
   "outputs": [
    {
     "data": {
      "text/plain": [
       "<AxesSubplot:xlabel='Year', ylabel='globalsalessum'>"
      ]
     },
     "execution_count": 62,
     "metadata": {},
     "output_type": "execute_result"
    },
    {
     "data": {
      "image/png": "[encoded data removed]",
      "text/plain": [
       "<Figure size 432x288 with 1 Axes>"
      ]
     },
     "metadata": {
      "needs_background": "light"
     },
     "output_type": "display_data"
    }
   ],
   "source": [
    "publisherlineplot = pd.DataFrame(dfarima.groupby(['Year','Publisher'], as_index=False).agg(globalsalessum=('Global_Sales', 'sum')))\n",
    "sns.lineplot(data=publisherlineplot,x='Year',y='globalsalessum', ci=None, hue='Publisher')"
   ]
  },
  {
   "cell_type": "markdown",
   "metadata": {},
   "source": [
    "## Feature Engineering for ARIMA Model"
   ]
  },
  {
   "cell_type": "markdown",
   "metadata": {},
   "source": [
    "There is a clear change of sales in 2013, we will cut dates after 2013\n"
   ]
  },
  {
   "cell_type": "code",
   "execution_count": 63,
   "metadata": {},
   "outputs": [],
   "source": [
    "def arima(dataset, p, q, d, len):\n",
    "    dftest = adfuller(dataset, autolag = 'AIC')\n",
    "    print(\"1. AFD : \", dftest[0])\n",
    "    print(\"2. P-Value : \", dftest[1])\n",
    "    print(\"3. Num of Lags : \", dftest[2])\n",
    "    model = ARIMA(dataset, order = (p,q,d))\n",
    "    model_fit = model.fit()\n",
    "    print(model_fit.summary())\n",
    "    plt.show()\n",
    "    forecast = model_fit.forecast()\n",
    "    print(forecast)\n",
    "    "
   ]
  },
  {
   "cell_type": "code",
   "execution_count": 64,
   "metadata": {},
   "outputs": [],
   "source": [
    "dfarima2013 = dfarima.loc[(dfarima['Year'] <= '2013-01-01')]"
   ]
  },
  {
   "cell_type": "markdown",
   "metadata": {},
   "source": [
    "####  Since 1980 the Genre with the most sales have been\n",
    "1. Action\n",
    "2. Sports"
   ]
  },
  {
   "cell_type": "code",
   "execution_count": 65,
   "metadata": {},
   "outputs": [],
   "source": [
    "genrearimadf2013 = pd.DataFrame(dfarima2013.groupby(['Year','Genre'], as_index=False).agg(globalsalessum=('Global_Sales', 'sum')))\n",
    "action2013df = genrearimadf2013.loc[(genrearimadf2013['Genre'] == 'Action')]\n",
    "action2013 = action2013df[['Year', 'globalsalessum']]\n",
    "action2013 = action2013.set_index('Year')\n",
    "sports2013df = genrearimadf2013.loc[(genrearimadf2013['Genre'] == 'Sports')]\n",
    "sports2013 = sports2013df[['Year', 'globalsalessum']]\n",
    "sports2013 = sports2013.set_index('Year')"
   ]
  },
  {
   "cell_type": "markdown",
   "metadata": {},
   "source": [
    "### Action ARIMA"
   ]
  },
  {
   "cell_type": "code",
   "execution_count": 66,
   "metadata": {},
   "outputs": [
    {
     "name": "stdout",
     "output_type": "stream",
     "text": [
      "1. AFD :  1.6336362335298829\n",
      "2. P-Value :  0.9979550599157606\n",
      "3. Num of Lags :  9\n",
      "                               SARIMAX Results                                \n",
      "==============================================================================\n",
      "Dep. Variable:         globalsalessum   No. Observations:                   29\n",
      "Model:                 ARIMA(0, 1, 1)   Log Likelihood                -104.189\n",
      "Date:                Thu, 16 Mar 2023   AIC                            212.378\n",
      "Time:                        06:58:23   BIC                            215.042\n",
      "Sample:                             0   HQIC                           213.192\n",
      "                                 - 29                                         \n",
      "Covariance Type:                  opg                                         \n",
      "==============================================================================\n",
      "                 coef    std err          z      P>|z|      [0.025      0.975]\n",
      "------------------------------------------------------------------------------\n",
      "ma.L1         -0.5143      0.117     -4.407      0.000      -0.743      -0.286\n",
      "sigma2        98.8121     20.575      4.802      0.000      58.485     139.139\n",
      "===================================================================================\n",
      "Ljung-Box (L1) (Q):                   0.53   Jarque-Bera (JB):                 2.28\n",
      "Prob(Q):                              0.47   Prob(JB):                         0.32\n",
      "Heteroskedasticity (H):            2032.41   Skew:                             0.10\n",
      "Prob(H) (two-sided):                  0.00   Kurtosis:                         4.39\n",
      "===================================================================================\n",
      "\n",
      "Warnings:\n",
      "[1] Covariance matrix calculated using the outer product of gradients (complex-step).\n",
      "29    34.477816\n",
      "dtype: float64\n"
     ]
    }
   ],
   "source": [
    "arima(action2013,0,1,1,29)"
   ]
  },
  {
   "cell_type": "markdown",
   "metadata": {},
   "source": [
    "### Sports ARIMA"
   ]
  },
  {
   "cell_type": "code",
   "execution_count": 67,
   "metadata": {},
   "outputs": [
    {
     "name": "stdout",
     "output_type": "stream",
     "text": [
      "1. AFD :  -1.2855416970344122\n",
      "2. P-Value :  0.6357607736878099\n",
      "3. Num of Lags :  0\n",
      "                               SARIMAX Results                                \n",
      "==============================================================================\n",
      "Dep. Variable:         globalsalessum   No. Observations:                   29\n",
      "Model:                 ARIMA(0, 1, 0)   Log Likelihood                 -93.949\n",
      "Date:                Thu, 16 Mar 2023   AIC                            189.898\n",
      "Time:                        06:58:23   BIC                            191.230\n",
      "Sample:                             0   HQIC                           190.305\n",
      "                                 - 29                                         \n",
      "Covariance Type:                  opg                                         \n",
      "==============================================================================\n",
      "                 coef    std err          z      P>|z|      [0.025      0.975]\n",
      "------------------------------------------------------------------------------\n",
      "sigma2        48.0767     11.722      4.101      0.000      25.102      71.051\n",
      "===================================================================================\n",
      "Ljung-Box (L1) (Q):                   0.00   Jarque-Bera (JB):                 3.43\n",
      "Prob(Q):                              0.95   Prob(JB):                         0.18\n",
      "Heteroskedasticity (H):              23.21   Skew:                            -0.75\n",
      "Prob(H) (two-sided):                  0.00   Kurtosis:                         3.83\n",
      "===================================================================================\n",
      "\n",
      "Warnings:\n",
      "[1] Covariance matrix calculated using the outer product of gradients (complex-step).\n",
      "29    26.82\n",
      "dtype: float64\n"
     ]
    }
   ],
   "source": [
    "arima(sports2013,0,1,0,29)"
   ]
  },
  {
   "cell_type": "markdown",
   "metadata": {},
   "source": [
    "####  Since 1980 the Publishers with the most sales have been\n",
    "1. Electronic Arts\n",
    "2. Activision\n",
    "3. Namco Bandai Games"
   ]
  },
  {
   "cell_type": "code",
   "execution_count": 68,
   "metadata": {},
   "outputs": [],
   "source": [
    "publisherarimadf2013 = pd.DataFrame(dfarima2013.groupby(['Year','Publisher'], as_index=False).agg(globalsalessum=('Global_Sales', 'sum')))\n",
    "ea2013 = publisherarimadf2013.loc[(publisherarimadf2013['Publisher'] == 'Electronic Arts')]\n",
    "ea2013 = ea2013[['Year', 'globalsalessum']]\n",
    "ea2013 = ea2013.set_index('Year')\n",
    "activision2013 = publisherarimadf2013.loc[(publisherarimadf2013['Publisher'] == 'Activision')]\n",
    "activision2013 = activision2013[['Year', 'globalsalessum']]\n",
    "activision2013 = activision2013.set_index('Year')\n",
    "namco2013 = publisherarimadf2013.loc[(publisherarimadf2013['Publisher'] == 'Namco Bandai Games')]\n",
    "namco2013 = namco2013[['Year', 'globalsalessum']]\n",
    "namco2013 = namco2013.set_index('Year')"
   ]
  },
  {
   "cell_type": "markdown",
   "metadata": {},
   "source": [
    "### EA "
   ]
  },
  {
   "cell_type": "code",
   "execution_count": 69,
   "metadata": {},
   "outputs": [
    {
     "name": "stdout",
     "output_type": "stream",
     "text": [
      "1. AFD :  -3.3746753245797683\n",
      "2. P-Value :  0.011853085471001874\n",
      "3. Num of Lags :  6\n",
      "                               SARIMAX Results                                \n",
      "==============================================================================\n",
      "Dep. Variable:         globalsalessum   No. Observations:                   19\n",
      "Model:                 ARIMA(0, 1, 0)   Log Likelihood                 -63.634\n",
      "Date:                Thu, 16 Mar 2023   AIC                            129.267\n",
      "Time:                        06:58:24   BIC                            130.157\n",
      "Sample:                    01-01-1995   HQIC                           129.390\n",
      "                         - 01-01-2013                                         \n",
      "Covariance Type:                  opg                                         \n",
      "==============================================================================\n",
      "                 coef    std err          z      P>|z|      [0.025      0.975]\n",
      "------------------------------------------------------------------------------\n",
      "sigma2        68.8933     30.638      2.249      0.025       8.844     128.942\n",
      "===================================================================================\n",
      "Ljung-Box (L1) (Q):                   0.36   Jarque-Bera (JB):                 0.60\n",
      "Prob(Q):                              0.55   Prob(JB):                         0.74\n",
      "Heteroskedasticity (H):               1.14   Skew:                            -0.08\n",
      "Prob(H) (two-sided):                  0.88   Kurtosis:                         2.12\n",
      "===================================================================================\n",
      "\n",
      "Warnings:\n",
      "[1] Covariance matrix calculated using the outer product of gradients (complex-step).\n",
      "2014-01-01    28.81\n",
      "Freq: AS-JAN, dtype: float64\n"
     ]
    }
   ],
   "source": [
    "arima(ea2013,0,1,0,19)"
   ]
  },
  {
   "cell_type": "markdown",
   "metadata": {},
   "source": [
    "### Activision\n"
   ]
  },
  {
   "cell_type": "code",
   "execution_count": 70,
   "metadata": {},
   "outputs": [
    {
     "name": "stdout",
     "output_type": "stream",
     "text": [
      "1. AFD :  -3.5815557721181945\n",
      "2. P-Value :  0.006123591339089969\n",
      "3. Num of Lags :  9\n",
      "                               SARIMAX Results                                \n",
      "==============================================================================\n",
      "Dep. Variable:         globalsalessum   No. Observations:                   25\n",
      "Model:                 ARIMA(0, 1, 0)   Log Likelihood                 -79.785\n",
      "Date:                Thu, 16 Mar 2023   AIC                            161.571\n",
      "Time:                        06:58:24   BIC                            162.749\n",
      "Sample:                             0   HQIC                           161.883\n",
      "                                 - 25                                         \n",
      "Covariance Type:                  opg                                         \n",
      "==============================================================================\n",
      "                 coef    std err          z      P>|z|      [0.025      0.975]\n",
      "------------------------------------------------------------------------------\n",
      "sigma2        45.1932     12.807      3.529      0.000      20.093      70.294\n",
      "===================================================================================\n",
      "Ljung-Box (L1) (Q):                   1.34   Jarque-Bera (JB):                 1.09\n",
      "Prob(Q):                              0.25   Prob(JB):                         0.58\n",
      "Heteroskedasticity (H):             196.52   Skew:                            -0.52\n",
      "Prob(H) (two-sided):                  0.00   Kurtosis:                         3.13\n",
      "===================================================================================\n",
      "\n",
      "Warnings:\n",
      "[1] Covariance matrix calculated using the outer product of gradients (complex-step).\n",
      "25    4.83\n",
      "dtype: float64\n"
     ]
    }
   ],
   "source": [
    "arima(activision2013,0,1,0,25)"
   ]
  },
  {
   "cell_type": "markdown",
   "metadata": {},
   "source": [
    "### Namco"
   ]
  },
  {
   "cell_type": "code",
   "execution_count": 71,
   "metadata": {},
   "outputs": [
    {
     "name": "stdout",
     "output_type": "stream",
     "text": [
      "1. AFD :  0.8891116112729657\n",
      "2. P-Value :  0.992946571945091\n",
      "3. Num of Lags :  8\n",
      "                               SARIMAX Results                                \n",
      "==============================================================================\n",
      "Dep. Variable:         globalsalessum   No. Observations:                   28\n",
      "Model:                 ARIMA(0, 1, 1)   Log Likelihood                 -58.885\n",
      "Date:                Thu, 16 Mar 2023   AIC                            121.769\n",
      "Time:                        06:58:24   BIC                            124.361\n",
      "Sample:                    01-01-1986   HQIC                           122.540\n",
      "                         - 01-01-2013                                         \n",
      "Covariance Type:                  opg                                         \n",
      "==============================================================================\n",
      "                 coef    std err          z      P>|z|      [0.025      0.975]\n",
      "------------------------------------------------------------------------------\n",
      "ma.L1         -0.5079      0.161     -3.150      0.002      -0.824      -0.192\n",
      "sigma2         4.5399      0.887      5.117      0.000       2.801       6.279\n",
      "===================================================================================\n",
      "Ljung-Box (L1) (Q):                   0.10   Jarque-Bera (JB):                16.57\n",
      "Prob(Q):                              0.75   Prob(JB):                         0.00\n",
      "Heteroskedasticity (H):               5.58   Skew:                             1.35\n",
      "Prob(H) (two-sided):                  0.02   Kurtosis:                         5.73\n",
      "===================================================================================\n",
      "\n",
      "Warnings:\n",
      "[1] Covariance matrix calculated using the outer product of gradients (complex-step).\n",
      "2014-01-01    7.01344\n",
      "Freq: AS-JAN, dtype: float64\n"
     ]
    }
   ],
   "source": [
    "arima(namco2013,0,1,1,28)"
   ]
  },
  {
   "cell_type": "markdown",
   "metadata": {},
   "source": [
    "### Electronic Arts"
   ]
  },
  {
   "cell_type": "code",
   "execution_count": 72,
   "metadata": {},
   "outputs": [
    {
     "name": "stdout",
     "output_type": "stream",
     "text": [
      "1. AFD :  -3.3746753245797683\n",
      "2. P-Value :  0.011853085471001874\n",
      "3. Num of Lags :  6\n",
      "                               SARIMAX Results                                \n",
      "==============================================================================\n",
      "Dep. Variable:         globalsalessum   No. Observations:                   19\n",
      "Model:                 ARIMA(0, 1, 0)   Log Likelihood                 -63.634\n",
      "Date:                Thu, 16 Mar 2023   AIC                            129.267\n",
      "Time:                        06:58:24   BIC                            130.157\n",
      "Sample:                    01-01-1995   HQIC                           129.390\n",
      "                         - 01-01-2013                                         \n",
      "Covariance Type:                  opg                                         \n",
      "==============================================================================\n",
      "                 coef    std err          z      P>|z|      [0.025      0.975]\n",
      "------------------------------------------------------------------------------\n",
      "sigma2        68.8933     30.638      2.249      0.025       8.844     128.942\n",
      "===================================================================================\n",
      "Ljung-Box (L1) (Q):                   0.36   Jarque-Bera (JB):                 0.60\n",
      "Prob(Q):                              0.55   Prob(JB):                         0.74\n",
      "Heteroskedasticity (H):               1.14   Skew:                            -0.08\n",
      "Prob(H) (two-sided):                  0.88   Kurtosis:                         2.12\n",
      "===================================================================================\n",
      "\n",
      "Warnings:\n",
      "[1] Covariance matrix calculated using the outer product of gradients (complex-step).\n",
      "2014-01-01    28.81\n",
      "Freq: AS-JAN, dtype: float64\n"
     ]
    }
   ],
   "source": [
    "arima(ea2013,0,1,0,19)"
   ]
  },
  {
   "cell_type": "markdown",
   "metadata": {},
   "source": [
    "### Activision"
   ]
  },
  {
   "cell_type": "code",
   "execution_count": 73,
   "metadata": {},
   "outputs": [
    {
     "name": "stdout",
     "output_type": "stream",
     "text": [
      "1. AFD :  -3.5815557721181945\n",
      "2. P-Value :  0.006123591339089969\n",
      "3. Num of Lags :  9\n",
      "                               SARIMAX Results                                \n",
      "==============================================================================\n",
      "Dep. Variable:         globalsalessum   No. Observations:                   25\n",
      "Model:                 ARIMA(0, 1, 0)   Log Likelihood                 -79.785\n",
      "Date:                Thu, 16 Mar 2023   AIC                            161.571\n",
      "Time:                        06:58:24   BIC                            162.749\n",
      "Sample:                             0   HQIC                           161.883\n",
      "                                 - 25                                         \n",
      "Covariance Type:                  opg                                         \n",
      "==============================================================================\n",
      "                 coef    std err          z      P>|z|      [0.025      0.975]\n",
      "------------------------------------------------------------------------------\n",
      "sigma2        45.1932     12.807      3.529      0.000      20.093      70.294\n",
      "===================================================================================\n",
      "Ljung-Box (L1) (Q):                   1.34   Jarque-Bera (JB):                 1.09\n",
      "Prob(Q):                              0.25   Prob(JB):                         0.58\n",
      "Heteroskedasticity (H):             196.52   Skew:                            -0.52\n",
      "Prob(H) (two-sided):                  0.00   Kurtosis:                         3.13\n",
      "===================================================================================\n",
      "\n",
      "Warnings:\n",
      "[1] Covariance matrix calculated using the outer product of gradients (complex-step).\n",
      "25    4.83\n",
      "dtype: float64\n"
     ]
    }
   ],
   "source": [
    "arima(activision2013,0,1,0,25)"
   ]
  }
 ],
 "metadata": {
  "kernelspec": {
   "display_name": "Python 3.9.7 ('base')",
   "language": "python",
   "name": "python3"
  },
  "language_info": {
   "codemirror_mode": {
    "name": "ipython",
    "version": 3
   },
   "file_extension": ".py",
   "mimetype": "text/x-python",
   "name": "python",
   "nbconvert_exporter": "python",
   "pygments_lexer": "ipython3",
   "version": "3.9.7"
  },
  "orig_nbformat": 4,
  "vscode": {
   "interpreter": {
    "hash": "8ec15be9309793bbbec512ec65776eb2ea018a91cbfaf1fcbf2ee64feed0bbda"
   }
  }
 },
 "nbformat": 4,
 "nbformat_minor": 2
}
